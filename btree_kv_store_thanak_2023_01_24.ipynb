{
 "cells": [
  {
   "cell_type": "markdown",
   "id": "3facc513",
   "metadata": {},
   "source": [
    "# B-tree Implementation for Key-value Store\n",
    "#### An example project illustring B-tree implementation in a key-value store, with numeric or non-numeric unique keys, range look-up, and functional and performance tests"
   ]
  },
  {
   "cell_type": "code",
   "execution_count": 1,
   "id": "17265e3e",
   "metadata": {},
   "outputs": [
    {
     "data": {
      "application/javascript": [
       "\n",
       "            setTimeout(function() {\n",
       "                var nbb_cell_id = 1;\n",
       "                var nbb_unformatted_code = \"# To structure code automatically\\n%load_ext nb_black\";\n",
       "                var nbb_formatted_code = \"# To structure code automatically\\n%load_ext nb_black\";\n",
       "                var nbb_cells = Jupyter.notebook.get_cells();\n",
       "                for (var i = 0; i < nbb_cells.length; ++i) {\n",
       "                    if (nbb_cells[i].input_prompt_number == nbb_cell_id) {\n",
       "                        if (nbb_cells[i].get_text() == nbb_unformatted_code) {\n",
       "                             nbb_cells[i].set_text(nbb_formatted_code);\n",
       "                        }\n",
       "                        break;\n",
       "                    }\n",
       "                }\n",
       "            }, 500);\n",
       "            "
      ],
      "text/plain": [
       "<IPython.core.display.Javascript object>"
      ]
     },
     "metadata": {},
     "output_type": "display_data"
    }
   ],
   "source": [
    "# To structure code automatically\n",
    "%load_ext nb_black"
   ]
  },
  {
   "cell_type": "markdown",
   "id": "a7e29d88",
   "metadata": {},
   "source": [
    "### Import B-Tree Implementation"
   ]
  },
  {
   "cell_type": "code",
   "execution_count": 2,
   "id": "027f5ee6",
   "metadata": {},
   "outputs": [
    {
     "data": {
      "application/javascript": [
       "\n",
       "            setTimeout(function() {\n",
       "                var nbb_cell_id = 2;\n",
       "                var nbb_unformatted_code = \"from btree import BTree\";\n",
       "                var nbb_formatted_code = \"from btree import BTree\";\n",
       "                var nbb_cells = Jupyter.notebook.get_cells();\n",
       "                for (var i = 0; i < nbb_cells.length; ++i) {\n",
       "                    if (nbb_cells[i].input_prompt_number == nbb_cell_id) {\n",
       "                        if (nbb_cells[i].get_text() == nbb_unformatted_code) {\n",
       "                             nbb_cells[i].set_text(nbb_formatted_code);\n",
       "                        }\n",
       "                        break;\n",
       "                    }\n",
       "                }\n",
       "            }, 500);\n",
       "            "
      ],
      "text/plain": [
       "<IPython.core.display.Javascript object>"
      ]
     },
     "metadata": {},
     "output_type": "display_data"
    }
   ],
   "source": [
    "from btree import BTree"
   ]
  },
  {
   "cell_type": "markdown",
   "id": "be977f36",
   "metadata": {},
   "source": [
    "### KVStore Implementation"
   ]
  },
  {
   "cell_type": "code",
   "execution_count": 3,
   "id": "ffa7c353",
   "metadata": {},
   "outputs": [
    {
     "data": {
      "application/javascript": [
       "\n",
       "            setTimeout(function() {\n",
       "                var nbb_cell_id = 3;\n",
       "                var nbb_unformatted_code = \"class KVStore(BTree):\\n    def __init__(self, split_threshold=2):\\n        super().__init__(split_threshold)\\n\\n    def __getitem__(self, key):\\n        return self.get_value(key)\\n\\n    def __setitem__(self, key, value):\\n        self.add(key, value)\\n\\n    def __contains__(self, key):\\n        return self.contains(key)\\n\\n    def _range_query(\\n        self, current_node, range_start, range_end, min_key, max_key,\\n    ):\\n        if range_end < min_key or range_start > max_key:\\n            return []\\n        results = []\\n        for i, key in enumerate(current_node.keys):\\n            if range_start <= key <= range_end:\\n                results.append(current_node.values[i])\\n        if not current_node.is_leaf():\\n            for i, child in enumerate(current_node.children):\\n                new_min_key = current_node.keys[i - 1] if i > 0 else min_key\\n                new_max_key = current_node.keys[i] if i < len(current_node) else max_key\\n                results += self._range_query(\\n                    child, range_start, range_end, new_min_key, new_max_key\\n                )\\n        return results\\n\\n    def range_query(self, range_start, range_end):\\n        key_numeric = str(range_start).isnumeric()\\n        if key_numeric:\\n            min_key = float(\\\"-inf\\\")\\n            max_key = float(\\\"inf\\\")\\n        else:\\n            str_factor = len(range_end) + 5\\n            min_key = \\\"\\\"\\n            max_key = \\\"z\\\" * str_factor\\n\\n        return self._range_query(self.root, range_start, range_end, min_key, max_key,)\";\n",
       "                var nbb_formatted_code = \"class KVStore(BTree):\\n    def __init__(self, split_threshold=2):\\n        super().__init__(split_threshold)\\n\\n    def __getitem__(self, key):\\n        return self.get_value(key)\\n\\n    def __setitem__(self, key, value):\\n        self.add(key, value)\\n\\n    def __contains__(self, key):\\n        return self.contains(key)\\n\\n    def _range_query(\\n        self, current_node, range_start, range_end, min_key, max_key,\\n    ):\\n        if range_end < min_key or range_start > max_key:\\n            return []\\n        results = []\\n        for i, key in enumerate(current_node.keys):\\n            if range_start <= key <= range_end:\\n                results.append(current_node.values[i])\\n        if not current_node.is_leaf():\\n            for i, child in enumerate(current_node.children):\\n                new_min_key = current_node.keys[i - 1] if i > 0 else min_key\\n                new_max_key = current_node.keys[i] if i < len(current_node) else max_key\\n                results += self._range_query(\\n                    child, range_start, range_end, new_min_key, new_max_key\\n                )\\n        return results\\n\\n    def range_query(self, range_start, range_end):\\n        key_numeric = str(range_start).isnumeric()\\n        if key_numeric:\\n            min_key = float(\\\"-inf\\\")\\n            max_key = float(\\\"inf\\\")\\n        else:\\n            str_factor = len(range_end) + 5\\n            min_key = \\\"\\\"\\n            max_key = \\\"z\\\" * str_factor\\n\\n        return self._range_query(self.root, range_start, range_end, min_key, max_key,)\";\n",
       "                var nbb_cells = Jupyter.notebook.get_cells();\n",
       "                for (var i = 0; i < nbb_cells.length; ++i) {\n",
       "                    if (nbb_cells[i].input_prompt_number == nbb_cell_id) {\n",
       "                        if (nbb_cells[i].get_text() == nbb_unformatted_code) {\n",
       "                             nbb_cells[i].set_text(nbb_formatted_code);\n",
       "                        }\n",
       "                        break;\n",
       "                    }\n",
       "                }\n",
       "            }, 500);\n",
       "            "
      ],
      "text/plain": [
       "<IPython.core.display.Javascript object>"
      ]
     },
     "metadata": {},
     "output_type": "display_data"
    }
   ],
   "source": [
    "class KVStore(BTree):\n",
    "    def __init__(self, split_threshold=2):\n",
    "        super().__init__(split_threshold)\n",
    "\n",
    "    def __getitem__(self, key):\n",
    "        return self.get_value(key)\n",
    "\n",
    "    def __setitem__(self, key, value):\n",
    "        self.add(key, value)\n",
    "\n",
    "    def __contains__(self, key):\n",
    "        return self.contains(key)\n",
    "\n",
    "    def _range_query(\n",
    "        self, current_node, range_start, range_end, min_key, max_key,\n",
    "    ):\n",
    "        if range_end < min_key or range_start > max_key:\n",
    "            return []\n",
    "        results = []\n",
    "        for i, key in enumerate(current_node.keys):\n",
    "            if range_start <= key <= range_end:\n",
    "                results.append(current_node.values[i])\n",
    "        if not current_node.is_leaf():\n",
    "            for i, child in enumerate(current_node.children):\n",
    "                new_min_key = current_node.keys[i - 1] if i > 0 else min_key\n",
    "                new_max_key = current_node.keys[i] if i < len(current_node) else max_key\n",
    "                results += self._range_query(\n",
    "                    child, range_start, range_end, new_min_key, new_max_key\n",
    "                )\n",
    "        return results\n",
    "\n",
    "    def range_query(self, range_start, range_end):\n",
    "        key_numeric = str(range_start).isnumeric()\n",
    "        if key_numeric:\n",
    "            min_key = float(\"-inf\")\n",
    "            max_key = float(\"inf\")\n",
    "        else:\n",
    "            str_factor = len(range_end) + 5\n",
    "            min_key = \"\"\n",
    "            max_key = \"z\" * str_factor\n",
    "\n",
    "        return self._range_query(self.root, range_start, range_end, min_key, max_key,)"
   ]
  },
  {
   "cell_type": "markdown",
   "id": "1ae4417e",
   "metadata": {},
   "source": [
    "### Testing with Numeric Keys"
   ]
  },
  {
   "cell_type": "code",
   "execution_count": 4,
   "id": "d5ba9cd7",
   "metadata": {},
   "outputs": [
    {
     "data": {
      "application/javascript": [
       "\n",
       "            setTimeout(function() {\n",
       "                var nbb_cell_id = 4;\n",
       "                var nbb_unformatted_code = \"# Test for split_threshold\\nkv = KVStore()\\nassert kv.split_threshold == 2, \\\"The split threshold is not equal to 2.\\\"\\n\\n# Test for initial key, value add\\nkeys = list(range(0, 10))\\n\\nfor i in keys:\\n    kv.add(i, i)\\nfor i in keys:\\n    assert kv.get_value(i) == i, \\\"Expected value not retrieved.\\\"\\n\\n# Test for updated value add\\nfor i in keys:\\n    kv.add(i, i + 1)\\n\\nfor i in keys:\\n    assert kv.get_value(i) == i + 1, \\\"Expected value not retrieved.\\\"\\n\\n# Test for bracket syntax assignment\\nfor i in keys:\\n    kv[i] = i\\nfor i in keys:\\n    assert kv.get_value(i) == i, \\\"Expected value not retrieved.\\\"\\n\\n# Test for bracket syntax retrieval\\nfor i in keys:\\n    kv[i] == i, \\\"Expected value not retrieved.\\\"\\n\\n# Test for value overwrite with bracket syntax\\nfor i in keys:\\n    kv[i] = i + 1\\nfor i in keys:\\n    assert kv.get_value(i) == i + 1, \\\"Expected value not retrieved.\\\"\\n\\n# Re-test bracket syntax retrieval with updated keys\\nfor i in keys:\\n    assert kv[i] == i + 1, \\\"Expected value not retrieved.\\\"\\n\\n# Testing bracket syntax for contains key\\nfor i in keys:\\n    assert kv.contains(i), \\\"Expected value not retrieved.\\\"\\nnot_keys = [i - 100 for i in keys]\\nfor not_i in not_keys:\\n    assert not kv.contains(not_i), \\\"Expected value not retrieved.\\\"\\n\\n# Testing range_query\\nsub_keys = keys[2:9]\\nfor i in keys:\\n    kv[i] = i\\nfor i in sub_keys:\\n    assert i in kv.range_query(keys[2], keys[8]), \\\"Expected value not retrieved.\\\"\\nfor i in [i for i in keys if i not in sub_keys]:\\n    assert i not in kv.range_query(keys[2], keys[8]), \\\"Expected value not retrieved.\\\"\";\n",
       "                var nbb_formatted_code = \"# Test for split_threshold\\nkv = KVStore()\\nassert kv.split_threshold == 2, \\\"The split threshold is not equal to 2.\\\"\\n\\n# Test for initial key, value add\\nkeys = list(range(0, 10))\\n\\nfor i in keys:\\n    kv.add(i, i)\\nfor i in keys:\\n    assert kv.get_value(i) == i, \\\"Expected value not retrieved.\\\"\\n\\n# Test for updated value add\\nfor i in keys:\\n    kv.add(i, i + 1)\\n\\nfor i in keys:\\n    assert kv.get_value(i) == i + 1, \\\"Expected value not retrieved.\\\"\\n\\n# Test for bracket syntax assignment\\nfor i in keys:\\n    kv[i] = i\\nfor i in keys:\\n    assert kv.get_value(i) == i, \\\"Expected value not retrieved.\\\"\\n\\n# Test for bracket syntax retrieval\\nfor i in keys:\\n    kv[i] == i, \\\"Expected value not retrieved.\\\"\\n\\n# Test for value overwrite with bracket syntax\\nfor i in keys:\\n    kv[i] = i + 1\\nfor i in keys:\\n    assert kv.get_value(i) == i + 1, \\\"Expected value not retrieved.\\\"\\n\\n# Re-test bracket syntax retrieval with updated keys\\nfor i in keys:\\n    assert kv[i] == i + 1, \\\"Expected value not retrieved.\\\"\\n\\n# Testing bracket syntax for contains key\\nfor i in keys:\\n    assert kv.contains(i), \\\"Expected value not retrieved.\\\"\\nnot_keys = [i - 100 for i in keys]\\nfor not_i in not_keys:\\n    assert not kv.contains(not_i), \\\"Expected value not retrieved.\\\"\\n\\n# Testing range_query\\nsub_keys = keys[2:9]\\nfor i in keys:\\n    kv[i] = i\\nfor i in sub_keys:\\n    assert i in kv.range_query(keys[2], keys[8]), \\\"Expected value not retrieved.\\\"\\nfor i in [i for i in keys if i not in sub_keys]:\\n    assert i not in kv.range_query(keys[2], keys[8]), \\\"Expected value not retrieved.\\\"\";\n",
       "                var nbb_cells = Jupyter.notebook.get_cells();\n",
       "                for (var i = 0; i < nbb_cells.length; ++i) {\n",
       "                    if (nbb_cells[i].input_prompt_number == nbb_cell_id) {\n",
       "                        if (nbb_cells[i].get_text() == nbb_unformatted_code) {\n",
       "                             nbb_cells[i].set_text(nbb_formatted_code);\n",
       "                        }\n",
       "                        break;\n",
       "                    }\n",
       "                }\n",
       "            }, 500);\n",
       "            "
      ],
      "text/plain": [
       "<IPython.core.display.Javascript object>"
      ]
     },
     "metadata": {},
     "output_type": "display_data"
    }
   ],
   "source": [
    "# Test for split_threshold\n",
    "kv = KVStore()\n",
    "assert kv.split_threshold == 2, \"The split threshold is not equal to 2.\"\n",
    "\n",
    "# Test for initial key, value add\n",
    "keys = list(range(0, 10))\n",
    "\n",
    "for i in keys:\n",
    "    kv.add(i, i)\n",
    "for i in keys:\n",
    "    assert kv.get_value(i) == i, \"Expected value not retrieved.\"\n",
    "\n",
    "# Test for updated value add\n",
    "for i in keys:\n",
    "    kv.add(i, i + 1)\n",
    "\n",
    "for i in keys:\n",
    "    assert kv.get_value(i) == i + 1, \"Expected value not retrieved.\"\n",
    "\n",
    "# Test for bracket syntax assignment\n",
    "for i in keys:\n",
    "    kv[i] = i\n",
    "for i in keys:\n",
    "    assert kv.get_value(i) == i, \"Expected value not retrieved.\"\n",
    "\n",
    "# Test for bracket syntax retrieval\n",
    "for i in keys:\n",
    "    kv[i] == i, \"Expected value not retrieved.\"\n",
    "\n",
    "# Test for value overwrite with bracket syntax\n",
    "for i in keys:\n",
    "    kv[i] = i + 1\n",
    "for i in keys:\n",
    "    assert kv.get_value(i) == i + 1, \"Expected value not retrieved.\"\n",
    "\n",
    "# Re-test bracket syntax retrieval with updated keys\n",
    "for i in keys:\n",
    "    assert kv[i] == i + 1, \"Expected value not retrieved.\"\n",
    "\n",
    "# Testing bracket syntax for contains key\n",
    "for i in keys:\n",
    "    assert kv.contains(i), \"Expected value not retrieved.\"\n",
    "not_keys = [i - 100 for i in keys]\n",
    "for not_i in not_keys:\n",
    "    assert not kv.contains(not_i), \"Expected value not retrieved.\"\n",
    "\n",
    "# Testing range_query\n",
    "sub_keys = keys[2:9]\n",
    "for i in keys:\n",
    "    kv[i] = i\n",
    "for i in sub_keys:\n",
    "    assert i in kv.range_query(keys[2], keys[8]), \"Expected value not retrieved.\"\n",
    "for i in [i for i in keys if i not in sub_keys]:\n",
    "    assert i not in kv.range_query(keys[2], keys[8]), \"Expected value not retrieved.\""
   ]
  },
  {
   "cell_type": "markdown",
   "id": "28eedc98",
   "metadata": {},
   "source": [
    "### Testing with String Keys"
   ]
  },
  {
   "cell_type": "code",
   "execution_count": 5,
   "id": "44120091",
   "metadata": {},
   "outputs": [
    {
     "data": {
      "application/javascript": [
       "\n",
       "            setTimeout(function() {\n",
       "                var nbb_cell_id = 5;\n",
       "                var nbb_unformatted_code = \"kv = KVStore()\\nkeys = \\\"abcdefghijk\\\"\\nfor i in keys:\\n    kv[i] = i\\n\\n# Testing bracket syntax for contains key\\nfor i in keys:\\n    assert kv.contains(i), \\\"Expected value not retrieved\\\"\\nnot_keys = [\\\"lmnopqrstuvwxyz\\\"]\\nfor not_i in not_keys:\\n    assert not kv.contains(not_i), \\\"Expected value not retrieved\\\"\\n\\n# Testing range_query\\nsub_keys = keys[2:9]\\nfor i in keys:\\n    kv[i] = i\\nfor i in sub_keys:\\n    assert i in kv.range_query(keys[2], keys[8]), \\\"Expected value not retrieved.\\\"\\nfor i in [i for i in keys if i not in sub_keys]:\\n    assert i not in kv.range_query(keys[2], keys[8]), \\\"Expected value not retrieved.\\\"\";\n",
       "                var nbb_formatted_code = \"kv = KVStore()\\nkeys = \\\"abcdefghijk\\\"\\nfor i in keys:\\n    kv[i] = i\\n\\n# Testing bracket syntax for contains key\\nfor i in keys:\\n    assert kv.contains(i), \\\"Expected value not retrieved\\\"\\nnot_keys = [\\\"lmnopqrstuvwxyz\\\"]\\nfor not_i in not_keys:\\n    assert not kv.contains(not_i), \\\"Expected value not retrieved\\\"\\n\\n# Testing range_query\\nsub_keys = keys[2:9]\\nfor i in keys:\\n    kv[i] = i\\nfor i in sub_keys:\\n    assert i in kv.range_query(keys[2], keys[8]), \\\"Expected value not retrieved.\\\"\\nfor i in [i for i in keys if i not in sub_keys]:\\n    assert i not in kv.range_query(keys[2], keys[8]), \\\"Expected value not retrieved.\\\"\";\n",
       "                var nbb_cells = Jupyter.notebook.get_cells();\n",
       "                for (var i = 0; i < nbb_cells.length; ++i) {\n",
       "                    if (nbb_cells[i].input_prompt_number == nbb_cell_id) {\n",
       "                        if (nbb_cells[i].get_text() == nbb_unformatted_code) {\n",
       "                             nbb_cells[i].set_text(nbb_formatted_code);\n",
       "                        }\n",
       "                        break;\n",
       "                    }\n",
       "                }\n",
       "            }, 500);\n",
       "            "
      ],
      "text/plain": [
       "<IPython.core.display.Javascript object>"
      ]
     },
     "metadata": {},
     "output_type": "display_data"
    }
   ],
   "source": [
    "kv = KVStore()\n",
    "keys = \"abcdefghijk\"\n",
    "for i in keys:\n",
    "    kv[i] = i\n",
    "\n",
    "# Testing bracket syntax for contains key\n",
    "for i in keys:\n",
    "    assert kv.contains(i), \"Expected value not retrieved\"\n",
    "not_keys = [\"lmnopqrstuvwxyz\"]\n",
    "for not_i in not_keys:\n",
    "    assert not kv.contains(not_i), \"Expected value not retrieved\"\n",
    "\n",
    "# Testing range_query\n",
    "sub_keys = keys[2:9]\n",
    "for i in keys:\n",
    "    kv[i] = i\n",
    "for i in sub_keys:\n",
    "    assert i in kv.range_query(keys[2], keys[8]), \"Expected value not retrieved.\"\n",
    "for i in [i for i in keys if i not in sub_keys]:\n",
    "    assert i not in kv.range_query(keys[2], keys[8]), \"Expected value not retrieved.\""
   ]
  },
  {
   "cell_type": "markdown",
   "id": "4efcbea9",
   "metadata": {},
   "source": [
    "### Random Tests"
   ]
  },
  {
   "cell_type": "code",
   "execution_count": 15,
   "id": "01a43a8c",
   "metadata": {},
   "outputs": [
    {
     "data": {
      "application/javascript": [
       "\n",
       "            setTimeout(function() {\n",
       "                var nbb_cell_id = 15;\n",
       "                var nbb_unformatted_code = \"class DictKVStore(dict):\\n    def range_query(self, range_start, range_end):\\n        results = []\\n        for key in self.keys():\\n            if range_start <= key <= range_end:\\n                results.append(self[key])\\n        return results\";\n",
       "                var nbb_formatted_code = \"class DictKVStore(dict):\\n    def range_query(self, range_start, range_end):\\n        results = []\\n        for key in self.keys():\\n            if range_start <= key <= range_end:\\n                results.append(self[key])\\n        return results\";\n",
       "                var nbb_cells = Jupyter.notebook.get_cells();\n",
       "                for (var i = 0; i < nbb_cells.length; ++i) {\n",
       "                    if (nbb_cells[i].input_prompt_number == nbb_cell_id) {\n",
       "                        if (nbb_cells[i].get_text() == nbb_unformatted_code) {\n",
       "                             nbb_cells[i].set_text(nbb_formatted_code);\n",
       "                        }\n",
       "                        break;\n",
       "                    }\n",
       "                }\n",
       "            }, 500);\n",
       "            "
      ],
      "text/plain": [
       "<IPython.core.display.Javascript object>"
      ]
     },
     "metadata": {},
     "output_type": "display_data"
    }
   ],
   "source": [
    "class DictKVStore(dict):\n",
    "    def range_query(self, range_start, range_end):\n",
    "        results = []\n",
    "        for key in self.keys():\n",
    "            if range_start <= key <= range_end:\n",
    "                results.append(self[key])\n",
    "        return results"
   ]
  },
  {
   "cell_type": "code",
   "execution_count": 44,
   "id": "e65e451a",
   "metadata": {},
   "outputs": [
    {
     "data": {
      "application/javascript": [
       "\n",
       "            setTimeout(function() {\n",
       "                var nbb_cell_id = 44;\n",
       "                var nbb_unformatted_code = \"import random\\nimport time\\nimport matplotlib.pyplot as plt\\n\\nkeys = [random.randint(0, 10000) for i in range(0, 10000)]\\n\\ndict_kv = DictKVStore()\\nfor k in keys:\\n    dict_kv[k] = k\\n\\nnew_kv = KVStore()\\nfor k in keys:\\n    new_kv[k] = k\\n\\nstart_increment_list = [(random.randint(0, 9000), i) for i in range(1000)]\\nrange_list = [\\n    (range_start, range_start + increment)\\n    for range_start, increment in start_increment_list\\n]\\n\\ndict_kv_times = []\\nnew_kv_times = []\\nfor range_start, range_end in range_list:\\n    start = time.time()\\n    dict_kv_res = sorted(dict_kv.range_query(range_start, range_end))\\n    end = time.time()\\n    dict_kv_times.append(end - start)\\n    \\n    start = time.time()\\n    new_kv_res = sorted(new_kv.range_query(range_start, range_end))\\n    end = time.time()\\n    new_kv_times.append(end - start)\\n    \\n    assert dict_kv_res == new_kv_res, \\\"Results differ beteen DictKVStore and KVStore.\\\"\";\n",
       "                var nbb_formatted_code = \"import random\\nimport time\\nimport matplotlib.pyplot as plt\\n\\nkeys = [random.randint(0, 10000) for i in range(0, 10000)]\\n\\ndict_kv = DictKVStore()\\nfor k in keys:\\n    dict_kv[k] = k\\n\\nnew_kv = KVStore()\\nfor k in keys:\\n    new_kv[k] = k\\n\\nstart_increment_list = [(random.randint(0, 9000), i) for i in range(1000)]\\nrange_list = [\\n    (range_start, range_start + increment)\\n    for range_start, increment in start_increment_list\\n]\\n\\ndict_kv_times = []\\nnew_kv_times = []\\nfor range_start, range_end in range_list:\\n    start = time.time()\\n    dict_kv_res = sorted(dict_kv.range_query(range_start, range_end))\\n    end = time.time()\\n    dict_kv_times.append(end - start)\\n\\n    start = time.time()\\n    new_kv_res = sorted(new_kv.range_query(range_start, range_end))\\n    end = time.time()\\n    new_kv_times.append(end - start)\\n\\n    assert dict_kv_res == new_kv_res, \\\"Results differ beteen DictKVStore and KVStore.\\\"\";\n",
       "                var nbb_cells = Jupyter.notebook.get_cells();\n",
       "                for (var i = 0; i < nbb_cells.length; ++i) {\n",
       "                    if (nbb_cells[i].input_prompt_number == nbb_cell_id) {\n",
       "                        if (nbb_cells[i].get_text() == nbb_unformatted_code) {\n",
       "                             nbb_cells[i].set_text(nbb_formatted_code);\n",
       "                        }\n",
       "                        break;\n",
       "                    }\n",
       "                }\n",
       "            }, 500);\n",
       "            "
      ],
      "text/plain": [
       "<IPython.core.display.Javascript object>"
      ]
     },
     "metadata": {},
     "output_type": "display_data"
    }
   ],
   "source": [
    "import random\n",
    "import time\n",
    "import matplotlib.pyplot as plt\n",
    "\n",
    "keys = [random.randint(0, 10000) for i in range(0, 10000)]\n",
    "\n",
    "dict_kv = DictKVStore()\n",
    "for k in keys:\n",
    "    dict_kv[k] = k\n",
    "\n",
    "new_kv = KVStore()\n",
    "for k in keys:\n",
    "    new_kv[k] = k\n",
    "\n",
    "start_increment_list = [(random.randint(0, 9000), i) for i in range(1000)]\n",
    "range_list = [\n",
    "    (range_start, range_start + increment)\n",
    "    for range_start, increment in start_increment_list\n",
    "]\n",
    "\n",
    "dict_kv_times = []\n",
    "new_kv_times = []\n",
    "for range_start, range_end in range_list:\n",
    "    start = time.time()\n",
    "    dict_kv_res = sorted(dict_kv.range_query(range_start, range_end))\n",
    "    end = time.time()\n",
    "    dict_kv_times.append(end - start)\n",
    "\n",
    "    start = time.time()\n",
    "    new_kv_res = sorted(new_kv.range_query(range_start, range_end))\n",
    "    end = time.time()\n",
    "    new_kv_times.append(end - start)\n",
    "\n",
    "    assert dict_kv_res == new_kv_res, \"Results differ beteen DictKVStore and KVStore.\""
   ]
  },
  {
   "cell_type": "code",
   "execution_count": 46,
   "id": "f86ee61e",
   "metadata": {},
   "outputs": [
    {
     "data": {
      "text/plain": [
       "[<matplotlib.lines.Line2D at 0x1bc8bf35940>]"
      ]
     },
     "execution_count": 46,
     "metadata": {},
     "output_type": "execute_result"
    },
    {
     "data": {
      "image/png": "[encoded data removed]",
      "text/plain": [
       "<Figure size 432x288 with 1 Axes>"
      ]
     },
     "metadata": {
      "needs_background": "light"
     },
     "output_type": "display_data"
    },
    {
     "data": {
      "application/javascript": [
       "\n",
       "            setTimeout(function() {\n",
       "                var nbb_cell_id = 46;\n",
       "                var nbb_unformatted_code = \"plt.plot(dict_kv_times)\";\n",
       "                var nbb_formatted_code = \"plt.plot(dict_kv_times)\";\n",
       "                var nbb_cells = Jupyter.notebook.get_cells();\n",
       "                for (var i = 0; i < nbb_cells.length; ++i) {\n",
       "                    if (nbb_cells[i].input_prompt_number == nbb_cell_id) {\n",
       "                        if (nbb_cells[i].get_text() == nbb_unformatted_code) {\n",
       "                             nbb_cells[i].set_text(nbb_formatted_code);\n",
       "                        }\n",
       "                        break;\n",
       "                    }\n",
       "                }\n",
       "            }, 500);\n",
       "            "
      ],
      "text/plain": [
       "<IPython.core.display.Javascript object>"
      ]
     },
     "metadata": {},
     "output_type": "display_data"
    }
   ],
   "source": [
    "plt.plot(dict_kv_times)\n"
   ]
  }
 ],
 "metadata": {
  "kernelspec": {
   "display_name": "Python 3 (ipykernel)",
   "language": "python",
   "name": "python3"
  },
  "language_info": {
   "codemirror_mode": {
    "name": "ipython",
    "version": 3
   },
   "file_extension": ".py",
   "mimetype": "text/x-python",
   "name": "python",
   "nbconvert_exporter": "python",
   "pygments_lexer": "ipython3",
   "version": "3.9.12"
  }
 },
 "nbformat": 4,
 "nbformat_minor": 5
}
