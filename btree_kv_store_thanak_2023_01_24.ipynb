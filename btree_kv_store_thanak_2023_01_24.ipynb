{
 "cells": [
  {
   "cell_type": "markdown",
   "id": "3facc513",
   "metadata": {},
   "source": [
    "# B-tree Implementation for Key-value Store\n",
    "#### An example project illustring B-tree implementation in a key-value store, with numeric or non-numeric unique keys, range look-up, and functional and performance tests"
   ]
  },
  {
   "cell_type": "code",
   "execution_count": 1,
   "id": "17265e3e",
   "metadata": {},
   "outputs": [
    {
     "data": {
      "application/javascript": [
       "\n",
       "            setTimeout(function() {\n",
       "                var nbb_cell_id = 1;\n",
       "                var nbb_unformatted_code = \"# To structure code automatically\\n%load_ext nb_black\";\n",
       "                var nbb_formatted_code = \"# To structure code automatically\\n%load_ext nb_black\";\n",
       "                var nbb_cells = Jupyter.notebook.get_cells();\n",
       "                for (var i = 0; i < nbb_cells.length; ++i) {\n",
       "                    if (nbb_cells[i].input_prompt_number == nbb_cell_id) {\n",
       "                        if (nbb_cells[i].get_text() == nbb_unformatted_code) {\n",
       "                             nbb_cells[i].set_text(nbb_formatted_code);\n",
       "                        }\n",
       "                        break;\n",
       "                    }\n",
       "                }\n",
       "            }, 500);\n",
       "            "
      ],
      "text/plain": [
       "<IPython.core.display.Javascript object>"
      ]
     },
     "metadata": {},
     "output_type": "display_data"
    }
   ],
   "source": [
    "# To structure code automatically\n",
    "%load_ext nb_black"
   ]
  },
  {
   "cell_type": "markdown",
   "id": "167c8f05",
   "metadata": {},
   "source": [
    "### Import B-Tree Implementation"
   ]
  },
  {
   "cell_type": "code",
   "execution_count": 2,
   "id": "2ded0203",
   "metadata": {},
   "outputs": [
    {
     "data": {
      "application/javascript": [
       "\n",
       "            setTimeout(function() {\n",
       "                var nbb_cell_id = 2;\n",
       "                var nbb_unformatted_code = \"from btree import BTree\";\n",
       "                var nbb_formatted_code = \"from btree import BTree\";\n",
       "                var nbb_cells = Jupyter.notebook.get_cells();\n",
       "                for (var i = 0; i < nbb_cells.length; ++i) {\n",
       "                    if (nbb_cells[i].input_prompt_number == nbb_cell_id) {\n",
       "                        if (nbb_cells[i].get_text() == nbb_unformatted_code) {\n",
       "                             nbb_cells[i].set_text(nbb_formatted_code);\n",
       "                        }\n",
       "                        break;\n",
       "                    }\n",
       "                }\n",
       "            }, 500);\n",
       "            "
      ],
      "text/plain": [
       "<IPython.core.display.Javascript object>"
      ]
     },
     "metadata": {},
     "output_type": "display_data"
    }
   ],
   "source": [
    "from btree import BTree"
   ]
  },
  {
   "cell_type": "markdown",
   "id": "be977f36",
   "metadata": {},
   "source": [
    "### KVStore Implementation"
   ]
  },
  {
   "cell_type": "code",
   "execution_count": 6,
   "id": "ffa7c353",
   "metadata": {},
   "outputs": [
    {
     "data": {
      "application/javascript": [
       "\n",
       "            setTimeout(function() {\n",
       "                var nbb_cell_id = 6;\n",
       "                var nbb_unformatted_code = \"class KVStore(BTree):\\n    def __init__(self, split_threshold=2):\\n        super().__init__(split_threshold)\\n\\n    #     def _range_query(\\n    #         self, current_node, range_start, range_end, min_key, max_key,\\n    #     ):\\n    #         range_start = str(range_start)\\n    #         range_end = str(range_end)\\n    #         min_key = str(min_key)\\n    #         max_key = str(max_key)\\n    #         if range_end < min_key or range_start > max_key:\\n    #             return []\\n    #         results = []\\n    #         for i, key in enumerate(current_node.keys):\\n    #             if range_start <= key <= range_end:\\n    #                 results.append(current_node.values[i])\\n    #         if not current_node.is _leaf():\\n    #             for i, child in enumerate(current_node.children):\\n    #                 new_min_key = current_node.keys[i - 1] if i > 0 else min_key\\n    #                 new_max_key = current_node.keys[i] if i < len(current_node) else max_key\\n    #                 results += self._range_query(\\n    #                     child, range_start, range_end, new_min_key, new_max_key\\n    #                 )\\n    #         return results\\n\\n    #     def range_query(self, range_start, range_end):\\n    #         return self._range_query(\\n    #             self.root,\\n    #             range_start,\\n    #             range_end,\\n    #             self.min_possible_key,\\n    #             self.max_possible_key,\\n    #         )\\n\\n    def __getitem__(self, key):\\n        return self.get_value(key)\\n\\n    def __setitem__(self, key, value):\\n        self.add(key, value)\";\n",
       "                var nbb_formatted_code = \"class KVStore(BTree):\\n    def __init__(self, split_threshold=2):\\n        super().__init__(split_threshold)\\n\\n    #     def _range_query(\\n    #         self, current_node, range_start, range_end, min_key, max_key,\\n    #     ):\\n    #         range_start = str(range_start)\\n    #         range_end = str(range_end)\\n    #         min_key = str(min_key)\\n    #         max_key = str(max_key)\\n    #         if range_end < min_key or range_start > max_key:\\n    #             return []\\n    #         results = []\\n    #         for i, key in enumerate(current_node.keys):\\n    #             if range_start <= key <= range_end:\\n    #                 results.append(current_node.values[i])\\n    #         if not current_node.is _leaf():\\n    #             for i, child in enumerate(current_node.children):\\n    #                 new_min_key = current_node.keys[i - 1] if i > 0 else min_key\\n    #                 new_max_key = current_node.keys[i] if i < len(current_node) else max_key\\n    #                 results += self._range_query(\\n    #                     child, range_start, range_end, new_min_key, new_max_key\\n    #                 )\\n    #         return results\\n\\n    #     def range_query(self, range_start, range_end):\\n    #         return self._range_query(\\n    #             self.root,\\n    #             range_start,\\n    #             range_end,\\n    #             self.min_possible_key,\\n    #             self.max_possible_key,\\n    #         )\\n\\n    def __getitem__(self, key):\\n        return self.get_value(key)\\n\\n    def __setitem__(self, key, value):\\n        self.add(key, value)\";\n",
       "                var nbb_cells = Jupyter.notebook.get_cells();\n",
       "                for (var i = 0; i < nbb_cells.length; ++i) {\n",
       "                    if (nbb_cells[i].input_prompt_number == nbb_cell_id) {\n",
       "                        if (nbb_cells[i].get_text() == nbb_unformatted_code) {\n",
       "                             nbb_cells[i].set_text(nbb_formatted_code);\n",
       "                        }\n",
       "                        break;\n",
       "                    }\n",
       "                }\n",
       "            }, 500);\n",
       "            "
      ],
      "text/plain": [
       "<IPython.core.display.Javascript object>"
      ]
     },
     "metadata": {},
     "output_type": "display_data"
    }
   ],
   "source": [
    "class KVStore(BTree):\n",
    "    def __init__(self, split_threshold=2):\n",
    "        super().__init__(split_threshold)\n",
    "        \n",
    "    def __getitem__(self, key):\n",
    "        return self.get_value(key)\n",
    "\n",
    "    def __setitem__(self, key, value):\n",
    "        self.add(key, value)\n",
    "\n",
    "    #     def _range_query(\n",
    "    #         self, current_node, range_start, range_end, min_key, max_key,\n",
    "    #     ):\n",
    "    #         range_start = str(range_start)\n",
    "    #         range_end = str(range_end)\n",
    "    #         min_key = str(min_key)\n",
    "    #         max_key = str(max_key)\n",
    "    #         if range_end < min_key or range_start > max_key:\n",
    "    #             return []\n",
    "    #         results = []\n",
    "    #         for i, key in enumerate(current_node.keys):\n",
    "    #             if range_start <= key <= range_end:\n",
    "    #                 results.append(current_node.values[i])\n",
    "    #         if not current_node.is _leaf():\n",
    "    #             for i, child in enumerate(current_node.children):\n",
    "    #                 new_min_key = current_node.keys[i - 1] if i > 0 else min_key\n",
    "    #                 new_max_key = current_node.keys[i] if i < len(current_node) else max_key\n",
    "    #                 results += self._range_query(\n",
    "    #                     child, range_start, range_end, new_min_key, new_max_key\n",
    "    #                 )\n",
    "    #         return results\n",
    "\n",
    "    #     def range_query(self, range_start, range_end):\n",
    "    #         return self._range_query(\n",
    "    #             self.root,\n",
    "    #             range_start,\n",
    "    #             range_end,\n",
    "    #             self.min_possible_key,\n",
    "    #             self.max_possible_key,\n",
    "    #         )\n"
   ]
  },
  {
   "cell_type": "markdown",
   "id": "1ae4417e",
   "metadata": {},
   "source": [
    "### Testing"
   ]
  },
  {
   "cell_type": "code",
   "execution_count": 12,
   "id": "d5ba9cd7",
   "metadata": {},
   "outputs": [
    {
     "data": {
      "application/javascript": [
       "\n",
       "            setTimeout(function() {\n",
       "                var nbb_cell_id = 12;\n",
       "                var nbb_unformatted_code = \"# Test for split_threshold\\nkv = KVStore()\\nassert kv.split_threshold == 2, \\\"The split threshold is not equal to 2.\\\"\\n\\n# Test for initial key, value add\\nvalues = list(range(0, 10))\\n\\nfor i in values:\\n    kv.add(i, i)\\nfor i in values:\\n    assert kv.get_value(i) == i, \\\"Expected value not retrieved.\\\"\\n\\n# Test for updated value add\\nfor i in values:\\n    kv.add(i, i + 1)\\n\\nfor i in values:\\n    assert kv.get_value(i) == i + 1, \\\"Expected value not retrieved.\\\"\\n\\n# Test for bracket syntax assignment\\nfor i in values:\\n    kv[i] = i\\nfor i in values:\\n    assert kv.get_value(i) == i, \\\"Expected value not retrieved.\\\"\\n\\n# Test for bracket syntax retrieval\\nfor i in values:\\n    kv[i] == i, \\\"Expected value not retrieved.\\\"\\n\\n# Test for value overwrite with bracket syntax\\nfor i in values:\\n    kv[i] = i + 1\\nfor i in values:\\n    assert kv.get_value(i) == i + 1, \\\"Expected value not retrieved.\\\"\\n\\n# Re-test bracket syntax retrieval with updated values\\nfor i in values:\\n    assert kv[i]==i+1, \\\"Expected value not retrieved.\\\"\";\n",
       "                var nbb_formatted_code = \"# Test for split_threshold\\nkv = KVStore()\\nassert kv.split_threshold == 2, \\\"The split threshold is not equal to 2.\\\"\\n\\n# Test for initial key, value add\\nvalues = list(range(0, 10))\\n\\nfor i in values:\\n    kv.add(i, i)\\nfor i in values:\\n    assert kv.get_value(i) == i, \\\"Expected value not retrieved.\\\"\\n\\n# Test for updated value add\\nfor i in values:\\n    kv.add(i, i + 1)\\n\\nfor i in values:\\n    assert kv.get_value(i) == i + 1, \\\"Expected value not retrieved.\\\"\\n\\n# Test for bracket syntax assignment\\nfor i in values:\\n    kv[i] = i\\nfor i in values:\\n    assert kv.get_value(i) == i, \\\"Expected value not retrieved.\\\"\\n\\n# Test for bracket syntax retrieval\\nfor i in values:\\n    kv[i] == i, \\\"Expected value not retrieved.\\\"\\n\\n# Test for value overwrite with bracket syntax\\nfor i in values:\\n    kv[i] = i + 1\\nfor i in values:\\n    assert kv.get_value(i) == i + 1, \\\"Expected value not retrieved.\\\"\\n\\n# Re-test bracket syntax retrieval with updated values\\nfor i in values:\\n    assert kv[i] == i + 1, \\\"Expected value not retrieved.\\\"\";\n",
       "                var nbb_cells = Jupyter.notebook.get_cells();\n",
       "                for (var i = 0; i < nbb_cells.length; ++i) {\n",
       "                    if (nbb_cells[i].input_prompt_number == nbb_cell_id) {\n",
       "                        if (nbb_cells[i].get_text() == nbb_unformatted_code) {\n",
       "                             nbb_cells[i].set_text(nbb_formatted_code);\n",
       "                        }\n",
       "                        break;\n",
       "                    }\n",
       "                }\n",
       "            }, 500);\n",
       "            "
      ],
      "text/plain": [
       "<IPython.core.display.Javascript object>"
      ]
     },
     "metadata": {},
     "output_type": "display_data"
    }
   ],
   "source": [
    "# Test for split_threshold\n",
    "kv = KVStore()\n",
    "assert kv.split_threshold == 2, \"The split threshold is not equal to 2.\"\n",
    "\n",
    "# Test for initial key, value add\n",
    "values = list(range(0, 10))\n",
    "\n",
    "for i in values:\n",
    "    kv.add(i, i)\n",
    "for i in values:\n",
    "    assert kv.get_value(i) == i, \"Expected value not retrieved.\"\n",
    "\n",
    "# Test for updated value add\n",
    "for i in values:\n",
    "    kv.add(i, i + 1)\n",
    "\n",
    "for i in values:\n",
    "    assert kv.get_value(i) == i + 1, \"Expected value not retrieved.\"\n",
    "\n",
    "# Test for bracket syntax assignment\n",
    "for i in values:\n",
    "    kv[i] = i\n",
    "for i in values:\n",
    "    assert kv.get_value(i) == i, \"Expected value not retrieved.\"\n",
    "\n",
    "# Test for bracket syntax retrieval\n",
    "for i in values:\n",
    "    kv[i] == i, \"Expected value not retrieved.\"\n",
    "\n",
    "# Test for value overwrite with bracket syntax\n",
    "for i in values:\n",
    "    kv[i] = i + 1\n",
    "for i in values:\n",
    "    assert kv.get_value(i) == i + 1, \"Expected value not retrieved.\"\n",
    "\n",
    "# Re-test bracket syntax retrieval with updated values\n",
    "for i in values:\n",
    "    assert kv[i] == i + 1, \"Expected value not retrieved.\""
   ]
  },
  {
   "cell_type": "code",
   "execution_count": null,
   "id": "34c8e1b7",
   "metadata": {},
   "outputs": [],
   "source": []
  }
 ],
 "metadata": {
  "kernelspec": {
   "display_name": "Python 3 (ipykernel)",
   "language": "python",
   "name": "python3"
  },
  "language_info": {
   "codemirror_mode": {
    "name": "ipython",
    "version": 3
   },
   "file_extension": ".py",
   "mimetype": "text/x-python",
   "name": "python",
   "nbconvert_exporter": "python",
   "pygments_lexer": "ipython3",
   "version": "3.9.12"
  }
 },
 "nbformat": 4,
 "nbformat_minor": 5
}
