{
 "cells": [
  {
   "cell_type": "markdown",
   "id": "3facc513",
   "metadata": {},
   "source": [
    "# B-tree Implementation for Key-value Store\n",
    "#### An example project illustring B-tree implementation in a key-value store, with numeric or non-numeric unique keys, range look-up, and functional and performance tests"
   ]
  },
  {
   "cell_type": "code",
   "execution_count": 1,
   "id": "17265e3e",
   "metadata": {},
   "outputs": [
    {
     "data": {
      "application/javascript": [
       "\n",
       "            setTimeout(function() {\n",
       "                var nbb_cell_id = 1;\n",
       "                var nbb_unformatted_code = \"# To structure code automatically\\n%load_ext nb_black\";\n",
       "                var nbb_formatted_code = \"# To structure code automatically\\n%load_ext nb_black\";\n",
       "                var nbb_cells = Jupyter.notebook.get_cells();\n",
       "                for (var i = 0; i < nbb_cells.length; ++i) {\n",
       "                    if (nbb_cells[i].input_prompt_number == nbb_cell_id) {\n",
       "                        if (nbb_cells[i].get_text() == nbb_unformatted_code) {\n",
       "                             nbb_cells[i].set_text(nbb_formatted_code);\n",
       "                        }\n",
       "                        break;\n",
       "                    }\n",
       "                }\n",
       "            }, 500);\n",
       "            "
      ],
      "text/plain": [
       "<IPython.core.display.Javascript object>"
      ]
     },
     "metadata": {},
     "output_type": "display_data"
    }
   ],
   "source": [
    "# To structure code automatically\n",
    "%load_ext nb_black"
   ]
  },
  {
   "cell_type": "markdown",
   "id": "2acf65e9",
   "metadata": {},
   "source": [
    "### Import B-Tree Implementation"
   ]
  },
  {
   "cell_type": "code",
   "execution_count": 2,
   "id": "078d8978",
   "metadata": {},
   "outputs": [
    {
     "data": {
      "application/javascript": [
       "\n",
       "            setTimeout(function() {\n",
       "                var nbb_cell_id = 2;\n",
       "                var nbb_unformatted_code = \"from btree import BTree\";\n",
       "                var nbb_formatted_code = \"from btree import BTree\";\n",
       "                var nbb_cells = Jupyter.notebook.get_cells();\n",
       "                for (var i = 0; i < nbb_cells.length; ++i) {\n",
       "                    if (nbb_cells[i].input_prompt_number == nbb_cell_id) {\n",
       "                        if (nbb_cells[i].get_text() == nbb_unformatted_code) {\n",
       "                             nbb_cells[i].set_text(nbb_formatted_code);\n",
       "                        }\n",
       "                        break;\n",
       "                    }\n",
       "                }\n",
       "            }, 500);\n",
       "            "
      ],
      "text/plain": [
       "<IPython.core.display.Javascript object>"
      ]
     },
     "metadata": {},
     "output_type": "display_data"
    }
   ],
   "source": [
    "from btree import BTree"
   ]
  },
  {
   "cell_type": "markdown",
   "id": "be977f36",
   "metadata": {},
   "source": [
    "### KVStore Implementation"
   ]
  },
  {
   "cell_type": "code",
   "execution_count": 3,
   "id": "ffa7c353",
   "metadata": {},
   "outputs": [
    {
     "data": {
      "application/javascript": [
       "\n",
       "            setTimeout(function() {\n",
       "                var nbb_cell_id = 3;\n",
       "                var nbb_unformatted_code = \"class KVStore(BTree):\\n    def __init__(self, split_threshold=2):\\n        super().__init__(split_threshold)\\n\\n    def __getitem__(self, key):\\n        return self.get_value(key)\\n\\n    def __setitem__(self, key, value):\\n        self.add(key, value)\\n\\n    def __contains__(self, key):\\n        return self.contains(key)\\n\\n    def _range_query(\\n        self, current_node, range_start, range_end, min_key, max_key,\\n    ):\\n        if range_end < min_key or range_start > max_key:\\n            return []\\n        results = []\\n        for i, key in enumerate(current_node.keys):\\n            if range_start <= key <= range_end:\\n                results.append(current_node.values[i])\\n        if not current_node.is_leaf():\\n            for i, child in enumerate(current_node.children):\\n                new_min_key = current_node.keys[i - 1] if i > 0 else min_key\\n                new_max_key = current_node.keys[i] if i < len(current_node) else max_key\\n                results += self._range_query(\\n                    child, range_start, range_end, new_min_key, new_max_key\\n                )\\n        return results\\n\\n    def range_query(self, range_start, range_end):\\n        key_numeric = str(range_start).isnumeric()\\n        if key_numeric:\\n            min_key = float(\\\"-inf\\\")\\n            max_key = float(\\\"inf\\\")\\n        else:\\n            str_factor = len(range_end) + 5\\n            min_key = \\\"\\\"\\n            max_key = \\\"z\\\" * str_factor\\n\\n        return self._range_query(self.root, range_start, range_end, min_key, max_key,)\";\n",
       "                var nbb_formatted_code = \"class KVStore(BTree):\\n    def __init__(self, split_threshold=2):\\n        super().__init__(split_threshold)\\n\\n    def __getitem__(self, key):\\n        return self.get_value(key)\\n\\n    def __setitem__(self, key, value):\\n        self.add(key, value)\\n\\n    def __contains__(self, key):\\n        return self.contains(key)\\n\\n    def _range_query(\\n        self, current_node, range_start, range_end, min_key, max_key,\\n    ):\\n        if range_end < min_key or range_start > max_key:\\n            return []\\n        results = []\\n        for i, key in enumerate(current_node.keys):\\n            if range_start <= key <= range_end:\\n                results.append(current_node.values[i])\\n        if not current_node.is_leaf():\\n            for i, child in enumerate(current_node.children):\\n                new_min_key = current_node.keys[i - 1] if i > 0 else min_key\\n                new_max_key = current_node.keys[i] if i < len(current_node) else max_key\\n                results += self._range_query(\\n                    child, range_start, range_end, new_min_key, new_max_key\\n                )\\n        return results\\n\\n    def range_query(self, range_start, range_end):\\n        key_numeric = str(range_start).isnumeric()\\n        if key_numeric:\\n            min_key = float(\\\"-inf\\\")\\n            max_key = float(\\\"inf\\\")\\n        else:\\n            str_factor = len(range_end) + 5\\n            min_key = \\\"\\\"\\n            max_key = \\\"z\\\" * str_factor\\n\\n        return self._range_query(self.root, range_start, range_end, min_key, max_key,)\";\n",
       "                var nbb_cells = Jupyter.notebook.get_cells();\n",
       "                for (var i = 0; i < nbb_cells.length; ++i) {\n",
       "                    if (nbb_cells[i].input_prompt_number == nbb_cell_id) {\n",
       "                        if (nbb_cells[i].get_text() == nbb_unformatted_code) {\n",
       "                             nbb_cells[i].set_text(nbb_formatted_code);\n",
       "                        }\n",
       "                        break;\n",
       "                    }\n",
       "                }\n",
       "            }, 500);\n",
       "            "
      ],
      "text/plain": [
       "<IPython.core.display.Javascript object>"
      ]
     },
     "metadata": {},
     "output_type": "display_data"
    }
   ],
   "source": [
    "class KVStore(BTree):\n",
    "    def __init__(self, split_threshold=2):\n",
    "        super().__init__(split_threshold)\n",
    "\n",
    "    def __getitem__(self, key):\n",
    "        return self.get_value(key)\n",
    "\n",
    "    def __setitem__(self, key, value):\n",
    "        self.add(key, value)\n",
    "\n",
    "    def __contains__(self, key):\n",
    "        return self.contains(key)\n",
    "\n",
    "    def _range_query(\n",
    "        self, current_node, range_start, range_end, min_key, max_key,\n",
    "    ):\n",
    "        if range_end < min_key or range_start > max_key:\n",
    "            return []\n",
    "        results = []\n",
    "        for i, key in enumerate(current_node.keys):\n",
    "            if range_start <= key <= range_end:\n",
    "                results.append(current_node.values[i])\n",
    "        if not current_node.is_leaf():\n",
    "            for i, child in enumerate(current_node.children):\n",
    "                new_min_key = current_node.keys[i - 1] if i > 0 else min_key\n",
    "                new_max_key = current_node.keys[i] if i < len(current_node) else max_key\n",
    "                results += self._range_query(\n",
    "                    child, range_start, range_end, new_min_key, new_max_key\n",
    "                )\n",
    "        return results\n",
    "\n",
    "    def range_query(self, range_start, range_end):\n",
    "        key_numeric = str(range_start).isnumeric()\n",
    "        if key_numeric:\n",
    "            min_key = float(\"-inf\")\n",
    "            max_key = float(\"inf\")\n",
    "        else:\n",
    "            str_factor = len(range_end) + 5\n",
    "            min_key = \"\"\n",
    "            max_key = \"z\" * str_factor\n",
    "\n",
    "        return self._range_query(self.root, range_start, range_end, min_key, max_key,)"
   ]
  },
  {
   "cell_type": "markdown",
   "id": "1ae4417e",
   "metadata": {},
   "source": [
    "### Testing KVStore with Numeric Keys"
   ]
  },
  {
   "cell_type": "code",
   "execution_count": 4,
   "id": "d5ba9cd7",
   "metadata": {},
   "outputs": [
    {
     "name": "stdout",
     "output_type": "stream",
     "text": [
      "Testing Split Threshold\n",
      "Testing Initial Add\n",
      "Testing Value Overwrite\n",
      "Testing Assignment with Bracket Syntax\n",
      "Testing Retrieval with Bracket Syntax\n",
      "Testing Value Overwrite with Bracket Syntax\n",
      "Testing Retrieval with Bracket Syntax after Value Overwrite\n",
      "Testing the In Operator\n",
      "Testing Range Query\n"
     ]
    },
    {
     "data": {
      "application/javascript": [
       "\n",
       "            setTimeout(function() {\n",
       "                var nbb_cell_id = 4;\n",
       "                var nbb_unformatted_code = \"# Test for split_threshold\\nprint(\\\"Testing Split Threshold\\\")\\nkv = KVStore()\\nassert kv.split_threshold == 2, \\\"The split threshold is not equal to 2.\\\"\\n\\n# Test for initial key, value add\\nprint(\\\"Testing Initial Add\\\")\\nkeys = list(range(0, 10))\\n\\nfor i in keys:\\n    kv.add(i, i)\\nfor i in keys:\\n    assert kv.get_value(i) == i, \\\"Expected value not retrieved.\\\"\\n\\n# Test for updated value add\\nprint(\\\"Testing Value Overwrite\\\")\\nfor i in keys:\\n    kv.add(i, i + 1)\\n\\nfor i in keys:\\n    assert kv.get_value(i) == i + 1, \\\"Expected value not retrieved.\\\"\\n\\n# Test for bracket syntax assignment\\nprint(\\\"Testing Assignment with Bracket Syntax\\\")\\nfor i in keys:\\n    kv[i] = i\\nfor i in keys:\\n    assert kv.get_value(i) == i, \\\"Expected value not retrieved.\\\"\\n\\n# Test for bracket syntax retrieval\\nprint(\\\"Testing Retrieval with Bracket Syntax\\\")\\nfor i in keys:\\n    kv[i] == i, \\\"Expected value not retrieved.\\\"\\n\\n# Test for value overwrite with bracket syntax\\nprint(\\\"Testing Value Overwrite with Bracket Syntax\\\")\\nfor i in keys:\\n    kv[i] = i + 1\\nfor i in keys:\\n    assert kv.get_value(i) == i + 1, \\\"Expected value not retrieved.\\\"\\n\\n# Re-test bracket syntax retrieval with updated values\\nprint(\\\"Testing Retrieval with Bracket Syntax after Value Overwrite\\\")\\nfor i in keys:\\n    assert kv[i] == i + 1, \\\"Expected value not retrieved.\\\"\\n\\n# Testing bracket syntax for contains key\\nprint(\\\"Testing the In Operator\\\")\\nfor i in keys:\\n    assert kv.contains(i), \\\"Expected value not retrieved.\\\"\\nnot_keys = [i - 100 for i in keys]\\nfor not_i in not_keys:\\n    assert not kv.contains(not_i), \\\"Expected value not retrieved.\\\"\\n\\n# Testing range_query\\nprint(\\\"Testing Range Query\\\")\\nsub_keys = keys[2:9]\\nfor i in keys:\\n    kv[i] = i\\nfor i in sub_keys:\\n    assert i in kv.range_query(keys[2], keys[8]), \\\"Expected value not retrieved.\\\"\\nfor i in [i for i in keys if i not in sub_keys]:\\n    assert i not in kv.range_query(keys[2], keys[8]), \\\"Expected value not retrieved.\\\"\";\n",
       "                var nbb_formatted_code = \"# Test for split_threshold\\nprint(\\\"Testing Split Threshold\\\")\\nkv = KVStore()\\nassert kv.split_threshold == 2, \\\"The split threshold is not equal to 2.\\\"\\n\\n# Test for initial key, value add\\nprint(\\\"Testing Initial Add\\\")\\nkeys = list(range(0, 10))\\n\\nfor i in keys:\\n    kv.add(i, i)\\nfor i in keys:\\n    assert kv.get_value(i) == i, \\\"Expected value not retrieved.\\\"\\n\\n# Test for updated value add\\nprint(\\\"Testing Value Overwrite\\\")\\nfor i in keys:\\n    kv.add(i, i + 1)\\n\\nfor i in keys:\\n    assert kv.get_value(i) == i + 1, \\\"Expected value not retrieved.\\\"\\n\\n# Test for bracket syntax assignment\\nprint(\\\"Testing Assignment with Bracket Syntax\\\")\\nfor i in keys:\\n    kv[i] = i\\nfor i in keys:\\n    assert kv.get_value(i) == i, \\\"Expected value not retrieved.\\\"\\n\\n# Test for bracket syntax retrieval\\nprint(\\\"Testing Retrieval with Bracket Syntax\\\")\\nfor i in keys:\\n    kv[i] == i, \\\"Expected value not retrieved.\\\"\\n\\n# Test for value overwrite with bracket syntax\\nprint(\\\"Testing Value Overwrite with Bracket Syntax\\\")\\nfor i in keys:\\n    kv[i] = i + 1\\nfor i in keys:\\n    assert kv.get_value(i) == i + 1, \\\"Expected value not retrieved.\\\"\\n\\n# Re-test bracket syntax retrieval with updated values\\nprint(\\\"Testing Retrieval with Bracket Syntax after Value Overwrite\\\")\\nfor i in keys:\\n    assert kv[i] == i + 1, \\\"Expected value not retrieved.\\\"\\n\\n# Testing bracket syntax for contains key\\nprint(\\\"Testing the In Operator\\\")\\nfor i in keys:\\n    assert kv.contains(i), \\\"Expected value not retrieved.\\\"\\nnot_keys = [i - 100 for i in keys]\\nfor not_i in not_keys:\\n    assert not kv.contains(not_i), \\\"Expected value not retrieved.\\\"\\n\\n# Testing range_query\\nprint(\\\"Testing Range Query\\\")\\nsub_keys = keys[2:9]\\nfor i in keys:\\n    kv[i] = i\\nfor i in sub_keys:\\n    assert i in kv.range_query(keys[2], keys[8]), \\\"Expected value not retrieved.\\\"\\nfor i in [i for i in keys if i not in sub_keys]:\\n    assert i not in kv.range_query(keys[2], keys[8]), \\\"Expected value not retrieved.\\\"\";\n",
       "                var nbb_cells = Jupyter.notebook.get_cells();\n",
       "                for (var i = 0; i < nbb_cells.length; ++i) {\n",
       "                    if (nbb_cells[i].input_prompt_number == nbb_cell_id) {\n",
       "                        if (nbb_cells[i].get_text() == nbb_unformatted_code) {\n",
       "                             nbb_cells[i].set_text(nbb_formatted_code);\n",
       "                        }\n",
       "                        break;\n",
       "                    }\n",
       "                }\n",
       "            }, 500);\n",
       "            "
      ],
      "text/plain": [
       "<IPython.core.display.Javascript object>"
      ]
     },
     "metadata": {},
     "output_type": "display_data"
    }
   ],
   "source": [
    "# Test for split_threshold\n",
    "print(\"Testing Split Threshold\")\n",
    "kv = KVStore()\n",
    "assert kv.split_threshold == 2, \"The split threshold is not equal to 2.\"\n",
    "\n",
    "# Test for initial key, value add\n",
    "print(\"Testing Initial Add\")\n",
    "keys = list(range(0, 10))\n",
    "\n",
    "for i in keys:\n",
    "    kv.add(i, i)\n",
    "for i in keys:\n",
    "    assert kv.get_value(i) == i, \"Expected value not retrieved.\"\n",
    "\n",
    "# Test for updated value add\n",
    "print(\"Testing Value Overwrite\")\n",
    "for i in keys:\n",
    "    kv.add(i, i + 1)\n",
    "\n",
    "for i in keys:\n",
    "    assert kv.get_value(i) == i + 1, \"Expected value not retrieved.\"\n",
    "\n",
    "# Test for bracket syntax assignment\n",
    "print(\"Testing Assignment with Bracket Syntax\")\n",
    "for i in keys:\n",
    "    kv[i] = i\n",
    "for i in keys:\n",
    "    assert kv.get_value(i) == i, \"Expected value not retrieved.\"\n",
    "\n",
    "# Test for bracket syntax retrieval\n",
    "print(\"Testing Retrieval with Bracket Syntax\")\n",
    "for i in keys:\n",
    "    kv[i] == i, \"Expected value not retrieved.\"\n",
    "\n",
    "# Test for value overwrite with bracket syntax\n",
    "print(\"Testing Value Overwrite with Bracket Syntax\")\n",
    "for i in keys:\n",
    "    kv[i] = i + 1\n",
    "for i in keys:\n",
    "    assert kv.get_value(i) == i + 1, \"Expected value not retrieved.\"\n",
    "\n",
    "# Re-test bracket syntax retrieval with updated values\n",
    "print(\"Testing Retrieval with Bracket Syntax after Value Overwrite\")\n",
    "for i in keys:\n",
    "    assert kv[i] == i + 1, \"Expected value not retrieved.\"\n",
    "\n",
    "# Testing bracket syntax for contains key\n",
    "print(\"Testing the In Operator\")\n",
    "for i in keys:\n",
    "    assert kv.contains(i), \"Expected value not retrieved.\"\n",
    "not_keys = [i - 100 for i in keys]\n",
    "for not_i in not_keys:\n",
    "    assert not kv.contains(not_i), \"Expected value not retrieved.\"\n",
    "\n",
    "# Testing range_query\n",
    "print(\"Testing Range Query\")\n",
    "sub_keys = keys[2:9]\n",
    "for i in keys:\n",
    "    kv[i] = i\n",
    "for i in sub_keys:\n",
    "    assert i in kv.range_query(keys[2], keys[8]), \"Expected value not retrieved.\"\n",
    "for i in [i for i in keys if i not in sub_keys]:\n",
    "    assert i not in kv.range_query(keys[2], keys[8]), \"Expected value not retrieved.\""
   ]
  },
  {
   "cell_type": "markdown",
   "id": "b7050d09",
   "metadata": {},
   "source": [
    "### Testing KVStore with String Keys"
   ]
  },
  {
   "cell_type": "code",
   "execution_count": 5,
   "id": "bd0a610a",
   "metadata": {},
   "outputs": [
    {
     "name": "stdout",
     "output_type": "stream",
     "text": [
      "Testing the In Operator\n",
      "Testing Range Query\n"
     ]
    },
    {
     "data": {
      "application/javascript": [
       "\n",
       "            setTimeout(function() {\n",
       "                var nbb_cell_id = 5;\n",
       "                var nbb_unformatted_code = \"kv = KVStore()\\nkeys = \\\"abcdefghijk\\\"\\nfor i in keys:\\n    kv[i] = i\\n\\n# Testing bracket syntax for contains key\\nprint(\\\"Testing the In Operator\\\")\\nfor i in keys:\\n    assert kv.contains(i), \\\"Expected value not retrieved\\\"\\nnot_keys = [\\\"lmnopqrstuvwxyz\\\"]\\nfor not_i in not_keys:\\n    assert not kv.contains(not_i), \\\"Expected value not retrieved\\\"\\n\\n# Testing range_query\\nprint(\\\"Testing Range Query\\\")\\nsub_keys = keys[2:9]\\nfor i in keys:\\n    kv[i] = i\\nfor i in sub_keys:\\n    assert i in kv.range_query(keys[2], keys[8]), \\\"Expected value not retrieved.\\\"\\nfor i in [i for i in keys if i not in sub_keys]:\\n    assert i not in kv.range_query(keys[2], keys[8]), \\\"Expected value not retrieved.\\\"\";\n",
       "                var nbb_formatted_code = \"kv = KVStore()\\nkeys = \\\"abcdefghijk\\\"\\nfor i in keys:\\n    kv[i] = i\\n\\n# Testing bracket syntax for contains key\\nprint(\\\"Testing the In Operator\\\")\\nfor i in keys:\\n    assert kv.contains(i), \\\"Expected value not retrieved\\\"\\nnot_keys = [\\\"lmnopqrstuvwxyz\\\"]\\nfor not_i in not_keys:\\n    assert not kv.contains(not_i), \\\"Expected value not retrieved\\\"\\n\\n# Testing range_query\\nprint(\\\"Testing Range Query\\\")\\nsub_keys = keys[2:9]\\nfor i in keys:\\n    kv[i] = i\\nfor i in sub_keys:\\n    assert i in kv.range_query(keys[2], keys[8]), \\\"Expected value not retrieved.\\\"\\nfor i in [i for i in keys if i not in sub_keys]:\\n    assert i not in kv.range_query(keys[2], keys[8]), \\\"Expected value not retrieved.\\\"\";\n",
       "                var nbb_cells = Jupyter.notebook.get_cells();\n",
       "                for (var i = 0; i < nbb_cells.length; ++i) {\n",
       "                    if (nbb_cells[i].input_prompt_number == nbb_cell_id) {\n",
       "                        if (nbb_cells[i].get_text() == nbb_unformatted_code) {\n",
       "                             nbb_cells[i].set_text(nbb_formatted_code);\n",
       "                        }\n",
       "                        break;\n",
       "                    }\n",
       "                }\n",
       "            }, 500);\n",
       "            "
      ],
      "text/plain": [
       "<IPython.core.display.Javascript object>"
      ]
     },
     "metadata": {},
     "output_type": "display_data"
    }
   ],
   "source": [
    "kv = KVStore()\n",
    "keys = \"abcdefghijk\"\n",
    "for i in keys:\n",
    "    kv[i] = i\n",
    "\n",
    "# Testing bracket syntax for contains key\n",
    "print(\"Testing the In Operator\")\n",
    "for i in keys:\n",
    "    assert kv.contains(i), \"Expected value not retrieved\"\n",
    "not_keys = [\"lmnopqrstuvwxyz\"]\n",
    "for not_i in not_keys:\n",
    "    assert not kv.contains(not_i), \"Expected value not retrieved\"\n",
    "\n",
    "# Testing range_query\n",
    "print(\"Testing Range Query\")\n",
    "sub_keys = keys[2:9]\n",
    "for i in keys:\n",
    "    kv[i] = i\n",
    "for i in sub_keys:\n",
    "    assert i in kv.range_query(keys[2], keys[8]), \"Expected value not retrieved.\"\n",
    "for i in [i for i in keys if i not in sub_keys]:\n",
    "    assert i not in kv.range_query(keys[2], keys[8]), \"Expected value not retrieved.\""
   ]
  },
  {
   "cell_type": "markdown",
   "id": "b49d32b9",
   "metadata": {},
   "source": [
    "### Comparing Results for KVStore Extending Built-in Dictionary Class and New KVStore"
   ]
  },
  {
   "cell_type": "markdown",
   "id": "ecb76d43",
   "metadata": {},
   "source": [
    "#### Defining `range_query` Method for Built-in Dictionary Class"
   ]
  },
  {
   "cell_type": "code",
   "execution_count": 6,
   "id": "e5fe6763",
   "metadata": {},
   "outputs": [
    {
     "data": {
      "application/javascript": [
       "\n",
       "            setTimeout(function() {\n",
       "                var nbb_cell_id = 6;\n",
       "                var nbb_unformatted_code = \"class DictKVStore(dict):\\n    def range_query(self, range_start, range_end):\\n        results = []\\n        for key in self.keys():\\n            if range_start <= key <= range_end:\\n                results.append(self[key])\\n        return results\";\n",
       "                var nbb_formatted_code = \"class DictKVStore(dict):\\n    def range_query(self, range_start, range_end):\\n        results = []\\n        for key in self.keys():\\n            if range_start <= key <= range_end:\\n                results.append(self[key])\\n        return results\";\n",
       "                var nbb_cells = Jupyter.notebook.get_cells();\n",
       "                for (var i = 0; i < nbb_cells.length; ++i) {\n",
       "                    if (nbb_cells[i].input_prompt_number == nbb_cell_id) {\n",
       "                        if (nbb_cells[i].get_text() == nbb_unformatted_code) {\n",
       "                             nbb_cells[i].set_text(nbb_formatted_code);\n",
       "                        }\n",
       "                        break;\n",
       "                    }\n",
       "                }\n",
       "            }, 500);\n",
       "            "
      ],
      "text/plain": [
       "<IPython.core.display.Javascript object>"
      ]
     },
     "metadata": {},
     "output_type": "display_data"
    }
   ],
   "source": [
    "class DictKVStore(dict):\n",
    "    def range_query(self, range_start, range_end):\n",
    "        results = []\n",
    "        for key in self.keys():\n",
    "            if range_start <= key <= range_end:\n",
    "                results.append(self[key])\n",
    "        return results"
   ]
  },
  {
   "cell_type": "markdown",
   "id": "87873a19",
   "metadata": {},
   "source": [
    "#### Comparing `range_query` for Both KVStores"
   ]
  },
  {
   "cell_type": "code",
   "execution_count": 7,
   "id": "85bf4079",
   "metadata": {},
   "outputs": [
    {
     "name": "stdout",
     "output_type": "stream",
     "text": [
      "Testing for Matching Results for Numeric Keys\n",
      "Testing for Matching Results for String Keys\n"
     ]
    },
    {
     "data": {
      "application/javascript": [
       "\n",
       "            setTimeout(function() {\n",
       "                var nbb_cell_id = 7;\n",
       "                var nbb_unformatted_code = \"# For numeric keys\\nprint(\\\"Testing for Matching Results for Numeric Keys\\\")\\ndict_kv = DictKVStore()\\nnew_kv = KVStore()\\n\\nfor i in range(10):\\n    dict_kv[i] = i\\n    new_kv[i] = i\\n\\nranges = [(0, 5), (1, 5), (6, 7), (9, 9), (3, 8)]\\n\\nfor range_start, range_end in ranges:\\n    dict_kv_res = sorted(dict_kv.range_query(range_start, range_end))\\n    new_kv_res = sorted(new_kv.range_query(range_start, range_end))\\n    assert dict_kv_res == new_kv_res, \\\"Results do not match for the different KVStores\\\"\\n\\n# For string keys\\nprint(\\\"Testing for Matching Results for String Keys\\\")\\ndict_kv = DictKVStore()\\nnew_kv = KVStore()\\n\\nfor i in \\\"efghijklmnopq\\\":\\n    dict_kv[i] = i\\n    new_kv[i] = i\\n\\nranges = [(\\\"a\\\", \\\"z\\\"), (\\\"c\\\", \\\"l\\\"), (\\\"m\\\", \\\"m\\\"), (\\\"e\\\", \\\"q\\\"), (\\\"w\\\", \\\"z\\\")]\\n\\nfor range_start, range_end in ranges:\\n    dict_kv_res = sorted(dict_kv.range_query(range_start, range_end))\\n    new_kv_res = sorted(new_kv.range_query(range_start, range_end))\\n    assert dict_kv_res == new_kv_res, \\\"Results do not match for the different KVStores\\\"\";\n",
       "                var nbb_formatted_code = \"# For numeric keys\\nprint(\\\"Testing for Matching Results for Numeric Keys\\\")\\ndict_kv = DictKVStore()\\nnew_kv = KVStore()\\n\\nfor i in range(10):\\n    dict_kv[i] = i\\n    new_kv[i] = i\\n\\nranges = [(0, 5), (1, 5), (6, 7), (9, 9), (3, 8)]\\n\\nfor range_start, range_end in ranges:\\n    dict_kv_res = sorted(dict_kv.range_query(range_start, range_end))\\n    new_kv_res = sorted(new_kv.range_query(range_start, range_end))\\n    assert dict_kv_res == new_kv_res, \\\"Results do not match for the different KVStores\\\"\\n\\n# For string keys\\nprint(\\\"Testing for Matching Results for String Keys\\\")\\ndict_kv = DictKVStore()\\nnew_kv = KVStore()\\n\\nfor i in \\\"efghijklmnopq\\\":\\n    dict_kv[i] = i\\n    new_kv[i] = i\\n\\nranges = [(\\\"a\\\", \\\"z\\\"), (\\\"c\\\", \\\"l\\\"), (\\\"m\\\", \\\"m\\\"), (\\\"e\\\", \\\"q\\\"), (\\\"w\\\", \\\"z\\\")]\\n\\nfor range_start, range_end in ranges:\\n    dict_kv_res = sorted(dict_kv.range_query(range_start, range_end))\\n    new_kv_res = sorted(new_kv.range_query(range_start, range_end))\\n    assert dict_kv_res == new_kv_res, \\\"Results do not match for the different KVStores\\\"\";\n",
       "                var nbb_cells = Jupyter.notebook.get_cells();\n",
       "                for (var i = 0; i < nbb_cells.length; ++i) {\n",
       "                    if (nbb_cells[i].input_prompt_number == nbb_cell_id) {\n",
       "                        if (nbb_cells[i].get_text() == nbb_unformatted_code) {\n",
       "                             nbb_cells[i].set_text(nbb_formatted_code);\n",
       "                        }\n",
       "                        break;\n",
       "                    }\n",
       "                }\n",
       "            }, 500);\n",
       "            "
      ],
      "text/plain": [
       "<IPython.core.display.Javascript object>"
      ]
     },
     "metadata": {},
     "output_type": "display_data"
    }
   ],
   "source": [
    "# For numeric keys\n",
    "print(\"Testing for Matching Results for Numeric Keys\")\n",
    "dict_kv = DictKVStore()\n",
    "new_kv = KVStore()\n",
    "\n",
    "for i in range(10):\n",
    "    dict_kv[i] = i\n",
    "    new_kv[i] = i\n",
    "\n",
    "ranges = [(0, 5), (1, 5), (6, 7), (9, 9), (3, 8)]\n",
    "\n",
    "for range_start, range_end in ranges:\n",
    "    dict_kv_res = sorted(dict_kv.range_query(range_start, range_end))\n",
    "    new_kv_res = sorted(new_kv.range_query(range_start, range_end))\n",
    "    assert dict_kv_res == new_kv_res, \"Results do not match for the different KVStores\"\n",
    "\n",
    "# For string keys\n",
    "print(\"Testing for Matching Results for String Keys\")\n",
    "dict_kv = DictKVStore()\n",
    "new_kv = KVStore()\n",
    "\n",
    "for i in \"efghijklmnopq\":\n",
    "    dict_kv[i] = i\n",
    "    new_kv[i] = i\n",
    "\n",
    "ranges = [(\"a\", \"z\"), (\"c\", \"l\"), (\"m\", \"m\"), (\"e\", \"q\"), (\"w\", \"z\")]\n",
    "\n",
    "for range_start, range_end in ranges:\n",
    "    dict_kv_res = sorted(dict_kv.range_query(range_start, range_end))\n",
    "    new_kv_res = sorted(new_kv.range_query(range_start, range_end))\n",
    "    assert dict_kv_res == new_kv_res, \"Results do not match for the different KVStores\""
   ]
  },
  {
   "cell_type": "markdown",
   "id": "de06c803",
   "metadata": {},
   "source": [
    "### Random Tests"
   ]
  },
  {
   "cell_type": "markdown",
   "id": "4072cdc5",
   "metadata": {},
   "source": [
    "#### Random Tests for Numeric Keys"
   ]
  },
  {
   "cell_type": "code",
   "execution_count": 8,
   "id": "a7b69a16",
   "metadata": {},
   "outputs": [
    {
     "name": "stdout",
     "output_type": "stream",
     "text": [
      "Testing Insertion\n",
      "Testing Length\n",
      "Testing Values\n",
      "Testing in Operator\n",
      "Testing Range Query\n"
     ]
    },
    {
     "data": {
      "application/javascript": [
       "\n",
       "            setTimeout(function() {\n",
       "                var nbb_cell_id = 8;\n",
       "                var nbb_unformatted_code = \"import random\\n\\nrandom.seed(42)\\n\\nnum_inserts = 10\\nnum_range_queries = 10\\nnum_contains = 10\\n\\ndict_kv = DictKVStore()\\nnew_kv = KVStore()\\n\\nprint(\\\"Testing Insertion\\\")\\nfor _ in range(num_inserts):\\n    key = random.randint(0, 100)\\n    value = random.randint(0, 1000000)\\n    dict_kv[key] = value\\n    new_kv[key] = value\\n\\nprint(\\\"Testing Length\\\")\\nassert len(dict_kv) == len(\\n    new_kv\\n), f\\\"The legths do not match: {len(dict_kv)} and {len(new_kv)}.\\\"\\n\\nprint(\\\"Testing Values\\\")\\nfor key in dict_kv:\\n    assert (\\n        dict_kv[key] == new_kv[key]\\n    ), f\\\"Wrong value for key {key}.  Expected {dict_kv[key]} but found {new_kv[key]}.\\\"\\n\\nprint(\\\"Testing in Operator\\\")\\nfor _ in range(num_contains):\\n    key = random.randint(0, 100)\\n    assert (key in dict_kv) == (key in new_kv)\\n\\nprint(\\\"Testing Range Query\\\")\\nfor _ in range(num_range_queries):\\n    range_start = random.randint(0, 100)\\n    range_end = random.randint(range_start, 100)\\n    dict_kv_res = sorted(dict_kv.range_query(range_start, range_end))\\n    new_kv_res = sorted(new_kv.range_query(range_start, range_end))\\n    assert dict_kv_res == new_kv_res, f\\\"The results for key {key} do not match.\\\"\";\n",
       "                var nbb_formatted_code = \"import random\\n\\nrandom.seed(42)\\n\\nnum_inserts = 10\\nnum_range_queries = 10\\nnum_contains = 10\\n\\ndict_kv = DictKVStore()\\nnew_kv = KVStore()\\n\\nprint(\\\"Testing Insertion\\\")\\nfor _ in range(num_inserts):\\n    key = random.randint(0, 100)\\n    value = random.randint(0, 1000000)\\n    dict_kv[key] = value\\n    new_kv[key] = value\\n\\nprint(\\\"Testing Length\\\")\\nassert len(dict_kv) == len(\\n    new_kv\\n), f\\\"The legths do not match: {len(dict_kv)} and {len(new_kv)}.\\\"\\n\\nprint(\\\"Testing Values\\\")\\nfor key in dict_kv:\\n    assert (\\n        dict_kv[key] == new_kv[key]\\n    ), f\\\"Wrong value for key {key}.  Expected {dict_kv[key]} but found {new_kv[key]}.\\\"\\n\\nprint(\\\"Testing in Operator\\\")\\nfor _ in range(num_contains):\\n    key = random.randint(0, 100)\\n    assert (key in dict_kv) == (key in new_kv)\\n\\nprint(\\\"Testing Range Query\\\")\\nfor _ in range(num_range_queries):\\n    range_start = random.randint(0, 100)\\n    range_end = random.randint(range_start, 100)\\n    dict_kv_res = sorted(dict_kv.range_query(range_start, range_end))\\n    new_kv_res = sorted(new_kv.range_query(range_start, range_end))\\n    assert dict_kv_res == new_kv_res, f\\\"The results for key {key} do not match.\\\"\";\n",
       "                var nbb_cells = Jupyter.notebook.get_cells();\n",
       "                for (var i = 0; i < nbb_cells.length; ++i) {\n",
       "                    if (nbb_cells[i].input_prompt_number == nbb_cell_id) {\n",
       "                        if (nbb_cells[i].get_text() == nbb_unformatted_code) {\n",
       "                             nbb_cells[i].set_text(nbb_formatted_code);\n",
       "                        }\n",
       "                        break;\n",
       "                    }\n",
       "                }\n",
       "            }, 500);\n",
       "            "
      ],
      "text/plain": [
       "<IPython.core.display.Javascript object>"
      ]
     },
     "metadata": {},
     "output_type": "display_data"
    }
   ],
   "source": [
    "import random\n",
    "\n",
    "random.seed(42)\n",
    "\n",
    "num_inserts = 10\n",
    "num_range_queries = 10\n",
    "num_contains = 10\n",
    "\n",
    "dict_kv = DictKVStore()\n",
    "new_kv = KVStore()\n",
    "\n",
    "print(\"Testing Insertion\")\n",
    "for _ in range(num_inserts):\n",
    "    key = random.randint(0, 100)\n",
    "    value = random.randint(0, 1000000)\n",
    "    dict_kv[key] = value\n",
    "    new_kv[key] = value\n",
    "\n",
    "print(\"Testing Length\")\n",
    "assert len(dict_kv) == len(\n",
    "    new_kv\n",
    "), f\"The legths do not match: {len(dict_kv)} and {len(new_kv)}.\"\n",
    "\n",
    "print(\"Testing Values\")\n",
    "for key in dict_kv:\n",
    "    assert (\n",
    "        dict_kv[key] == new_kv[key]\n",
    "    ), f\"Wrong value for key {key}.  Expected {dict_kv[key]} but found {new_kv[key]}.\"\n",
    "\n",
    "print(\"Testing in Operator\")\n",
    "for _ in range(num_contains):\n",
    "    key = random.randint(0, 100)\n",
    "    assert (key in dict_kv) == (key in new_kv)\n",
    "\n",
    "print(\"Testing Range Query\")\n",
    "for _ in range(num_range_queries):\n",
    "    range_start = random.randint(0, 100)\n",
    "    range_end = random.randint(range_start, 100)\n",
    "    dict_kv_res = sorted(dict_kv.range_query(range_start, range_end))\n",
    "    new_kv_res = sorted(new_kv.range_query(range_start, range_end))\n",
    "    assert dict_kv_res == new_kv_res, f\"The results for key {key} do not match.\""
   ]
  },
  {
   "cell_type": "markdown",
   "id": "f97edd5a",
   "metadata": {},
   "source": [
    "#### Random Tests for String Keys"
   ]
  },
  {
   "cell_type": "code",
   "execution_count": 9,
   "id": "eb77da81",
   "metadata": {},
   "outputs": [
    {
     "name": "stdout",
     "output_type": "stream",
     "text": [
      "Testing Insertion\n",
      "Testing Length\n",
      "Testing Values\n",
      "Testing in Operator\n",
      "Testing Range Query\n"
     ]
    },
    {
     "data": {
      "application/javascript": [
       "\n",
       "            setTimeout(function() {\n",
       "                var nbb_cell_id = 9;\n",
       "                var nbb_unformatted_code = \"letters = sorted([char for char in \\\"abcdefghijklmnopqrstuvwxyzABCDEFGHIJKLMNOPQRSTUVWXYZ\\\"])\\n\\nnum_inserts = 10\\nnum_range_queries = 10\\nnum_contains = 10\\n\\ndict_kv = DictKVStore()\\nnew_kv = KVStore()\\n\\nprint(\\\"Testing Insertion\\\")\\nfor _ in range(num_inserts):\\n    key = letters[random.randint(0, len(letters))]\\n    value = letters[random.randint(0, len(letters))]\\n    dict_kv[key] = value\\n    new_kv[key] = value\\n\\nprint(\\\"Testing Length\\\")\\nassert len(dict_kv) == len(\\n    new_kv\\n), f\\\"The legths do not match: {len(dict_kv)} and {len(new_kv)}.\\\"\\n\\nprint(\\\"Testing Values\\\")\\nfor key in dict_kv:\\n    assert (\\n        dict_kv[key] == new_kv[key]\\n    ), f\\\"Wrong value for key {key}.  Expected {dict_kv[key]} but found {new_kv[key]}.\\\"\\n\\nprint(\\\"Testing in Operator\\\")\\nfor _ in range(num_contains):\\n    key = letters[random.randint(0, len(letters))]\\n    assert (key in dict_kv) == (key in new_kv)\\n\\nprint(\\\"Testing Range Query\\\")\\nfor _ in range(num_range_queries):\\n    range_start_index = random.randint(0, len(letters))\\n    range_start = letters[range_start_index]\\n    range_end_index = random.randint(range_start_index, len(letters))\\n    range_end = letters[range_end_index]\\n    dict_kv_res = sorted(dict_kv.range_query(range_start, range_end))\\n    new_kv_res = sorted(new_kv.range_query(range_start, range_end))\\n    assert dict_kv_res == new_kv_res, f\\\"The results for key {key} do not match.\\\"\";\n",
       "                var nbb_formatted_code = \"letters = sorted(\\n    [char for char in \\\"abcdefghijklmnopqrstuvwxyzABCDEFGHIJKLMNOPQRSTUVWXYZ\\\"]\\n)\\n\\nnum_inserts = 10\\nnum_range_queries = 10\\nnum_contains = 10\\n\\ndict_kv = DictKVStore()\\nnew_kv = KVStore()\\n\\nprint(\\\"Testing Insertion\\\")\\nfor _ in range(num_inserts):\\n    key = letters[random.randint(0, len(letters))]\\n    value = letters[random.randint(0, len(letters))]\\n    dict_kv[key] = value\\n    new_kv[key] = value\\n\\nprint(\\\"Testing Length\\\")\\nassert len(dict_kv) == len(\\n    new_kv\\n), f\\\"The legths do not match: {len(dict_kv)} and {len(new_kv)}.\\\"\\n\\nprint(\\\"Testing Values\\\")\\nfor key in dict_kv:\\n    assert (\\n        dict_kv[key] == new_kv[key]\\n    ), f\\\"Wrong value for key {key}.  Expected {dict_kv[key]} but found {new_kv[key]}.\\\"\\n\\nprint(\\\"Testing in Operator\\\")\\nfor _ in range(num_contains):\\n    key = letters[random.randint(0, len(letters))]\\n    assert (key in dict_kv) == (key in new_kv)\\n\\nprint(\\\"Testing Range Query\\\")\\nfor _ in range(num_range_queries):\\n    range_start_index = random.randint(0, len(letters))\\n    range_start = letters[range_start_index]\\n    range_end_index = random.randint(range_start_index, len(letters))\\n    range_end = letters[range_end_index]\\n    dict_kv_res = sorted(dict_kv.range_query(range_start, range_end))\\n    new_kv_res = sorted(new_kv.range_query(range_start, range_end))\\n    assert dict_kv_res == new_kv_res, f\\\"The results for key {key} do not match.\\\"\";\n",
       "                var nbb_cells = Jupyter.notebook.get_cells();\n",
       "                for (var i = 0; i < nbb_cells.length; ++i) {\n",
       "                    if (nbb_cells[i].input_prompt_number == nbb_cell_id) {\n",
       "                        if (nbb_cells[i].get_text() == nbb_unformatted_code) {\n",
       "                             nbb_cells[i].set_text(nbb_formatted_code);\n",
       "                        }\n",
       "                        break;\n",
       "                    }\n",
       "                }\n",
       "            }, 500);\n",
       "            "
      ],
      "text/plain": [
       "<IPython.core.display.Javascript object>"
      ]
     },
     "metadata": {},
     "output_type": "display_data"
    }
   ],
   "source": [
    "letters = sorted(\n",
    "    [char for char in \"abcdefghijklmnopqrstuvwxyzABCDEFGHIJKLMNOPQRSTUVWXYZ\"]\n",
    ")\n",
    "\n",
    "num_inserts = 10\n",
    "num_range_queries = 10\n",
    "num_contains = 10\n",
    "\n",
    "dict_kv = DictKVStore()\n",
    "new_kv = KVStore()\n",
    "\n",
    "print(\"Testing Insertion\")\n",
    "for _ in range(num_inserts):\n",
    "    key = letters[random.randint(0, len(letters))]\n",
    "    value = letters[random.randint(0, len(letters))]\n",
    "    dict_kv[key] = value\n",
    "    new_kv[key] = value\n",
    "\n",
    "print(\"Testing Length\")\n",
    "assert len(dict_kv) == len(\n",
    "    new_kv\n",
    "), f\"The legths do not match: {len(dict_kv)} and {len(new_kv)}.\"\n",
    "\n",
    "print(\"Testing Values\")\n",
    "for key in dict_kv:\n",
    "    assert (\n",
    "        dict_kv[key] == new_kv[key]\n",
    "    ), f\"Wrong value for key {key}.  Expected {dict_kv[key]} but found {new_kv[key]}.\"\n",
    "\n",
    "print(\"Testing in Operator\")\n",
    "for _ in range(num_contains):\n",
    "    key = letters[random.randint(0, len(letters))]\n",
    "    assert (key in dict_kv) == (key in new_kv)\n",
    "\n",
    "print(\"Testing Range Query\")\n",
    "for _ in range(num_range_queries):\n",
    "    range_start_index = random.randint(0, len(letters))\n",
    "    range_start = letters[range_start_index]\n",
    "    range_end_index = random.randint(range_start_index, len(letters))\n",
    "    range_end = letters[range_end_index]\n",
    "    dict_kv_res = sorted(dict_kv.range_query(range_start, range_end))\n",
    "    new_kv_res = sorted(new_kv.range_query(range_start, range_end))\n",
    "    assert dict_kv_res == new_kv_res, f\"The results for key {key} do not match.\""
   ]
  },
  {
   "cell_type": "code",
   "execution_count": null,
   "id": "1401beeb",
   "metadata": {},
   "outputs": [],
   "source": [
    "plt.plot(dict_kv_times)\n"
   ]
  }
 ],
 "metadata": {
  "kernelspec": {
   "display_name": "Python 3 (ipykernel)",
   "language": "python",
   "name": "python3"
  },
  "language_info": {
   "codemirror_mode": {
    "name": "ipython",
    "version": 3
   },
   "file_extension": ".py",
   "mimetype": "text/x-python",
   "name": "python",
   "nbconvert_exporter": "python",
   "pygments_lexer": "ipython3",
   "version": "3.9.12"
  }
 },
 "nbformat": 4,
 "nbformat_minor": 5
}
