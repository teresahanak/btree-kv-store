{
 "cells": [
  {
   "cell_type": "markdown",
   "id": "3facc513",
   "metadata": {},
   "source": [
    "# B-tree Implementation for Key-value Store\n",
    "#### An example project illustring B-tree implementation in a key-value store, with numeric or non-numeric unique keys, range look-up, and functional and performance tests"
   ]
  },
  {
   "cell_type": "code",
   "execution_count": 1,
   "id": "17265e3e",
   "metadata": {},
   "outputs": [
    {
     "data": {
      "application/javascript": [
       "\n",
       "            setTimeout(function() {\n",
       "                var nbb_cell_id = 1;\n",
       "                var nbb_unformatted_code = \"# To structure code automatically\\n%load_ext nb_black\";\n",
       "                var nbb_formatted_code = \"# To structure code automatically\\n%load_ext nb_black\";\n",
       "                var nbb_cells = Jupyter.notebook.get_cells();\n",
       "                for (var i = 0; i < nbb_cells.length; ++i) {\n",
       "                    if (nbb_cells[i].input_prompt_number == nbb_cell_id) {\n",
       "                        if (nbb_cells[i].get_text() == nbb_unformatted_code) {\n",
       "                             nbb_cells[i].set_text(nbb_formatted_code);\n",
       "                        }\n",
       "                        break;\n",
       "                    }\n",
       "                }\n",
       "            }, 500);\n",
       "            "
      ],
      "text/plain": [
       "<IPython.core.display.Javascript object>"
      ]
     },
     "metadata": {},
     "output_type": "display_data"
    }
   ],
   "source": [
    "# To structure code automatically\n",
    "%load_ext nb_black"
   ]
  },
  {
   "cell_type": "markdown",
   "id": "68967701",
   "metadata": {},
   "source": [
    "### Import B-tree Implementation"
   ]
  },
  {
   "cell_type": "code",
   "execution_count": 2,
   "id": "539da8ac",
   "metadata": {},
   "outputs": [
    {
     "data": {
      "application/javascript": [
       "\n",
       "            setTimeout(function() {\n",
       "                var nbb_cell_id = 2;\n",
       "                var nbb_unformatted_code = \"from btree import BTree\";\n",
       "                var nbb_formatted_code = \"from btree import BTree\";\n",
       "                var nbb_cells = Jupyter.notebook.get_cells();\n",
       "                for (var i = 0; i < nbb_cells.length; ++i) {\n",
       "                    if (nbb_cells[i].input_prompt_number == nbb_cell_id) {\n",
       "                        if (nbb_cells[i].get_text() == nbb_unformatted_code) {\n",
       "                             nbb_cells[i].set_text(nbb_formatted_code);\n",
       "                        }\n",
       "                        break;\n",
       "                    }\n",
       "                }\n",
       "            }, 500);\n",
       "            "
      ],
      "text/plain": [
       "<IPython.core.display.Javascript object>"
      ]
     },
     "metadata": {},
     "output_type": "display_data"
    }
   ],
   "source": [
    "from btree import BTree"
   ]
  },
  {
   "cell_type": "markdown",
   "id": "ea575d65",
   "metadata": {},
   "source": [
    "### KVStore Implementation"
   ]
  },
  {
   "cell_type": "code",
   "execution_count": 3,
   "id": "9ddb5e0a",
   "metadata": {},
   "outputs": [
    {
     "data": {
      "application/javascript": [
       "\n",
       "            setTimeout(function() {\n",
       "                var nbb_cell_id = 3;\n",
       "                var nbb_unformatted_code = \"class KVStore(BTree):\\n    def __init__(self, min_possible_key, max_possible_key, split_threshold=2):\\n        super().__init__(split_threshold)\\n        self.min_possible_key = str(min_possible_key)\\n        self.max_possible_key = str(max_possible_key)\\n\\n        \\n    def _add(self, current_node, key, value):\\n        key = str(key)\\n        if current_node.is_leaf():\\n            len_before = len(current_node)\\n            current_node.insert_entry(key, value)\\n            if len(current_node) > len_before:\\n                self.size += 1\\n        else:\\n            child_index = current_node.get_insert_index(key)\\n            self._add(current_node.children[child_index], key, value)\\n        if len(current_node) > self.split_threshold:\\n            parent = current_node.split()\\n            if current_node == self.root:\\n                self.root = parent\\n                self.height += 1\\n\\n    def add(self, key, value):\\n        self._add(self.root, key, value)\\n        \\n    def _range_query(\\n        self, current_node, range_start, range_end, min_key, max_key,\\n    ):\\n        if range_end < min_key or range_start > max_key:\\n            return []\\n        results = []\\n        for i, key in enumerate(current_node.keys):\\n            if range_start <= key <= range_end:\\n                results.append(current_node.values[i])\\n        if not current_node.is_leaf():\\n            for i, child in enumerate(current_node.children):\\n                new_min_key = current_node.keys[i - 1] if i > 0 else min_key\\n                new_max_key = current_node.keys[i] if i < len(current_node) else max_key\\n                results += self._range_query(\\n                    child, range_start, range_end, new_min_key, new_max_key\\n                )\\n        return results\\n\\n    def range_query(self, range_start, range_end):\\n        return self._range_query(\\n            self.root,\\n            str(range_start),\\n            str(range_end),\\n            str(self.min_possible_key),\\n            str(self.max_possible_key),\\n        )\";\n",
       "                var nbb_formatted_code = \"class KVStore(BTree):\\n    def __init__(self, min_possible_key, max_possible_key, split_threshold=2):\\n        super().__init__(split_threshold)\\n        self.min_possible_key = str(min_possible_key)\\n        self.max_possible_key = str(max_possible_key)\\n\\n    def _add(self, current_node, key, value):\\n        key = str(key)\\n        if current_node.is_leaf():\\n            len_before = len(current_node)\\n            current_node.insert_entry(key, value)\\n            if len(current_node) > len_before:\\n                self.size += 1\\n        else:\\n            child_index = current_node.get_insert_index(key)\\n            self._add(current_node.children[child_index], key, value)\\n        if len(current_node) > self.split_threshold:\\n            parent = current_node.split()\\n            if current_node == self.root:\\n                self.root = parent\\n                self.height += 1\\n\\n    def add(self, key, value):\\n        self._add(self.root, key, value)\\n\\n    def _range_query(\\n        self, current_node, range_start, range_end, min_key, max_key,\\n    ):\\n        if range_end < min_key or range_start > max_key:\\n            return []\\n        results = []\\n        for i, key in enumerate(current_node.keys):\\n            if range_start <= key <= range_end:\\n                results.append(current_node.values[i])\\n        if not current_node.is_leaf():\\n            for i, child in enumerate(current_node.children):\\n                new_min_key = current_node.keys[i - 1] if i > 0 else min_key\\n                new_max_key = current_node.keys[i] if i < len(current_node) else max_key\\n                results += self._range_query(\\n                    child, range_start, range_end, new_min_key, new_max_key\\n                )\\n        return results\\n\\n    def range_query(self, range_start, range_end):\\n        return self._range_query(\\n            self.root,\\n            str(range_start),\\n            str(range_end),\\n            str(self.min_possible_key),\\n            str(self.max_possible_key),\\n        )\";\n",
       "                var nbb_cells = Jupyter.notebook.get_cells();\n",
       "                for (var i = 0; i < nbb_cells.length; ++i) {\n",
       "                    if (nbb_cells[i].input_prompt_number == nbb_cell_id) {\n",
       "                        if (nbb_cells[i].get_text() == nbb_unformatted_code) {\n",
       "                             nbb_cells[i].set_text(nbb_formatted_code);\n",
       "                        }\n",
       "                        break;\n",
       "                    }\n",
       "                }\n",
       "            }, 500);\n",
       "            "
      ],
      "text/plain": [
       "<IPython.core.display.Javascript object>"
      ]
     },
     "metadata": {},
     "output_type": "display_data"
    }
   ],
   "source": [
    "class KVStore(BTree):\n",
    "    def __init__(self, min_possible_key, max_possible_key, split_threshold=2):\n",
    "        super().__init__(split_threshold)\n",
    "        self.min_possible_key = str(min_possible_key)\n",
    "        self.max_possible_key = str(max_possible_key)\n",
    "\n",
    "    def _add(self, current_node, key, value):\n",
    "        key = str(key)\n",
    "        if current_node.is_leaf():\n",
    "            len_before = len(current_node)\n",
    "            current_node.insert_entry(key, value)\n",
    "            if len(current_node) > len_before:\n",
    "                self.size += 1\n",
    "        else:\n",
    "            child_index = current_node.get_insert_index(key)\n",
    "            self._add(current_node.children[child_index], key, value)\n",
    "        if len(current_node) > self.split_threshold:\n",
    "            parent = current_node.split()\n",
    "            if current_node == self.root:\n",
    "                self.root = parent\n",
    "                self.height += 1\n",
    "\n",
    "    def add(self, key, value):\n",
    "        self._add(self.root, key, value)\n",
    "\n",
    "    def _range_query(\n",
    "        self, current_node, range_start, range_end, min_key, max_key,\n",
    "    ):\n",
    "        if range_end < min_key or range_start > max_key:\n",
    "            return []\n",
    "        results = []\n",
    "        for i, key in enumerate(current_node.keys):\n",
    "            if range_start <= key <= range_end:\n",
    "                results.append(current_node.values[i])\n",
    "        if not current_node.is_leaf():\n",
    "            for i, child in enumerate(current_node.children):\n",
    "                new_min_key = current_node.keys[i - 1] if i > 0 else min_key\n",
    "                new_max_key = current_node.keys[i] if i < len(current_node) else max_key\n",
    "                results += self._range_query(\n",
    "                    child, range_start, range_end, new_min_key, new_max_key\n",
    "                )\n",
    "        return results\n",
    "\n",
    "    def range_query(self, range_start, range_end):\n",
    "        return self._range_query(\n",
    "            self.root,\n",
    "            str(range_start),\n",
    "            str(range_end),\n",
    "            str(self.min_possible_key),\n",
    "            str(self.max_possible_key),\n",
    "        )"
   ]
  }
 ],
 "metadata": {
  "kernelspec": {
   "display_name": "Python 3 (ipykernel)",
   "language": "python",
   "name": "python3"
  },
  "language_info": {
   "codemirror_mode": {
    "name": "ipython",
    "version": 3
   },
   "file_extension": ".py",
   "mimetype": "text/x-python",
   "name": "python",
   "nbconvert_exporter": "python",
   "pygments_lexer": "ipython3",
   "version": "3.9.12"
  }
 },
 "nbformat": 4,
 "nbformat_minor": 5
}
