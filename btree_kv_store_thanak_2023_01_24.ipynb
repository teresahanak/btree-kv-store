{
 "cells": [
  {
   "cell_type": "markdown",
   "id": "04592eb2",
   "metadata": {},
   "source": [
    "# B-tree Implementation for Key-value Store\n",
    "#### An example project illustring B-tree implementation in a key-value store, with numeric or non-numeric unique keys, range look-up, and functional and performance tests"
   ]
  },
  {
   "cell_type": "code",
   "execution_count": 1,
   "id": "dcf3a967",
   "metadata": {},
   "outputs": [
    {
     "data": {
      "application/javascript": [
       "\n",
       "            setTimeout(function() {\n",
       "                var nbb_cell_id = 1;\n",
       "                var nbb_unformatted_code = \"%load_ext nb_black\";\n",
       "                var nbb_formatted_code = \"%load_ext nb_black\";\n",
       "                var nbb_cells = Jupyter.notebook.get_cells();\n",
       "                for (var i = 0; i < nbb_cells.length; ++i) {\n",
       "                    if (nbb_cells[i].input_prompt_number == nbb_cell_id) {\n",
       "                        if (nbb_cells[i].get_text() == nbb_unformatted_code) {\n",
       "                             nbb_cells[i].set_text(nbb_formatted_code);\n",
       "                        }\n",
       "                        break;\n",
       "                    }\n",
       "                }\n",
       "            }, 500);\n",
       "            "
      ],
      "text/plain": [
       "<IPython.core.display.Javascript object>"
      ]
     },
     "metadata": {},
     "output_type": "display_data"
    }
   ],
   "source": [
    "# To structure code automatically\n",
    "%load_ext nb_black"
   ]
  },
  {
   "cell_type": "markdown",
   "id": "d286d68a",
   "metadata": {},
   "source": [
    "### Node Implementation"
   ]
  },
  {
   "cell_type": "code",
   "execution_count": 2,
   "id": "47613094",
   "metadata": {},
   "outputs": [
    {
     "data": {
      "application/javascript": [
       "\n",
       "            setTimeout(function() {\n",
       "                var nbb_cell_id = 2;\n",
       "                var nbb_unformatted_code = \"import bisect\\n\\n\\nclass Node:\\n    def __init__(self, keys=None, values=None, children=None, parent=None):\\n        self.keys = keys or []\\n        self.values = values or []\\n        self.parent = parent\\n        self.set_children(children)\\n\\n    def __len__(self):\\n        return len(self.values)\\n\\n    def set_children(self, children):\\n        self.children = children or []\\n        for child in self.children:\\n            child.parent = self\\n\\n    def is_leaf(self):\\n        return len(self.children) == 0\\n\\n    def contains_key(self, key):\\n        return key in self.keys\\n\\n    def get_value(self, key):\\n        for i, k in enumerate(self.keys):\\n            if k == key:\\n                return self.values[i]\\n        print(f'Key Error: \\\"{key}\\\" not found')\\n        return None\\n\\n    def _get_insert_index(self, key):\\n        return bisect.bisect(self.keys, key)\\n\\n    def _update_entry(self, key, value):\\n        for i, k in enumerate(self.keys):\\n            if k == key:\\n                self.values[i] = value\\n\\n    def insert_entry(self, key, value):\\n        if self.contains_key(key):\\n            self._update_entry(key, value)\\n        else:\\n            insert_index = self._get_insert_index(key)\\n            self.keys.insert(insert_index, key)\\n            self.values.insert(insert_index, value)\\n            return insert_index  # insert_index used for insert_child call on split_with_parent\\n\\n    def split(self):\\n        if self.parent is None:\\n            return self._split_no_parent()\\n        return self._split_with_parent()\\n\\n    def _split_no_parent(self):\\n        split_index = len(self) // 2\\n        key_to_move_up = self.keys[split_index]\\n        value_to_move_up = self.values[split_index]\\n        right_node = Node(\\n            self.keys[split_index + 1 :],\\n            self.values[split_index + 1 :],\\n            self.children[split_index + 1 :],\\n        )\\n        self.keys = self.keys[:split_index]\\n        self.values = self.values[:split_index]\\n        self.children = self.children[: split_index + 1]\\n        parent = Node([key_to_move_up], [value_to_move_up], [self, right_node])\\n        return parent\\n\\n    def _insert_child(self, insert_index, child):\\n        self.children.insert(insert_index, child)\\n        child.parent = self\\n\\n    def _split_with_parent(self):\\n        split_index = len(self) // 2\\n        key_to_move_up = self.keys[split_index]\\n        value_to_move_up = self.values[split_index]\\n        right_node = Node(\\n            self.keys[split_index + 1 :],\\n            self.values[split_index + 1 :],\\n            self.children[split_index + 1 :],\\n        )\\n        self.keys = self.keys[:split_index]\\n        self.values = self.values[:split_index]\\n        self.children = self.children[: split_index + 1]\\n        insert_index = self.parent.insert_entry(key_to_move_up, value_to_move_up)\\n        self.parent._insert_child(insert_index + 1, right_node)\";\n",
       "                var nbb_formatted_code = \"import bisect\\n\\n\\nclass Node:\\n    def __init__(self, keys=None, values=None, children=None, parent=None):\\n        self.keys = keys or []\\n        self.values = values or []\\n        self.parent = parent\\n        self.set_children(children)\\n\\n    def __len__(self):\\n        return len(self.values)\\n\\n    def set_children(self, children):\\n        self.children = children or []\\n        for child in self.children:\\n            child.parent = self\\n\\n    def is_leaf(self):\\n        return len(self.children) == 0\\n\\n    def contains_key(self, key):\\n        return key in self.keys\\n\\n    def get_value(self, key):\\n        for i, k in enumerate(self.keys):\\n            if k == key:\\n                return self.values[i]\\n        print(f'Key Error: \\\"{key}\\\" not found')\\n        return None\\n\\n    def _get_insert_index(self, key):\\n        return bisect.bisect(self.keys, key)\\n\\n    def _update_entry(self, key, value):\\n        for i, k in enumerate(self.keys):\\n            if k == key:\\n                self.values[i] = value\\n\\n    def insert_entry(self, key, value):\\n        if self.contains_key(key):\\n            self._update_entry(key, value)\\n        else:\\n            insert_index = self._get_insert_index(key)\\n            self.keys.insert(insert_index, key)\\n            self.values.insert(insert_index, value)\\n            return insert_index  # insert_index used for insert_child call on split_with_parent\\n\\n    def split(self):\\n        if self.parent is None:\\n            return self._split_no_parent()\\n        return self._split_with_parent()\\n\\n    def _split_no_parent(self):\\n        split_index = len(self) // 2\\n        key_to_move_up = self.keys[split_index]\\n        value_to_move_up = self.values[split_index]\\n        right_node = Node(\\n            self.keys[split_index + 1 :],\\n            self.values[split_index + 1 :],\\n            self.children[split_index + 1 :],\\n        )\\n        self.keys = self.keys[:split_index]\\n        self.values = self.values[:split_index]\\n        self.children = self.children[: split_index + 1]\\n        parent = Node([key_to_move_up], [value_to_move_up], [self, right_node])\\n        return parent\\n\\n    def _insert_child(self, insert_index, child):\\n        self.children.insert(insert_index, child)\\n        child.parent = self\\n\\n    def _split_with_parent(self):\\n        split_index = len(self) // 2\\n        key_to_move_up = self.keys[split_index]\\n        value_to_move_up = self.values[split_index]\\n        right_node = Node(\\n            self.keys[split_index + 1 :],\\n            self.values[split_index + 1 :],\\n            self.children[split_index + 1 :],\\n        )\\n        self.keys = self.keys[:split_index]\\n        self.values = self.values[:split_index]\\n        self.children = self.children[: split_index + 1]\\n        insert_index = self.parent.insert_entry(key_to_move_up, value_to_move_up)\\n        self.parent._insert_child(insert_index + 1, right_node)\";\n",
       "                var nbb_cells = Jupyter.notebook.get_cells();\n",
       "                for (var i = 0; i < nbb_cells.length; ++i) {\n",
       "                    if (nbb_cells[i].input_prompt_number == nbb_cell_id) {\n",
       "                        if (nbb_cells[i].get_text() == nbb_unformatted_code) {\n",
       "                             nbb_cells[i].set_text(nbb_formatted_code);\n",
       "                        }\n",
       "                        break;\n",
       "                    }\n",
       "                }\n",
       "            }, 500);\n",
       "            "
      ],
      "text/plain": [
       "<IPython.core.display.Javascript object>"
      ]
     },
     "metadata": {},
     "output_type": "display_data"
    }
   ],
   "source": [
    "import bisect\n",
    "\n",
    "class Node:\n",
    "    \n",
    "    def __init__(self, keys=None, values=None, children=None, parent=None):\n",
    "        self.keys = keys or []\n",
    "        self.values = values or []\n",
    "        self.parent = parent\n",
    "        self.set_children(children)\n",
    "\n",
    "    def __len__(self):\n",
    "        return len(self.values)\n",
    "\n",
    "    def set_children(self, children):\n",
    "        self.children = children or []\n",
    "        for child in self.children:\n",
    "            child.parent = self\n",
    "\n",
    "    def is_leaf(self):\n",
    "        return len(self.children) == 0\n",
    "\n",
    "    def contains_key(self, key):\n",
    "        return key in self.keys\n",
    "\n",
    "    def get_value(self, key):\n",
    "        for i, k in enumerate(self.keys):\n",
    "            if k == key:\n",
    "                return self.values[i]\n",
    "        print(f'Key Error: \"{key}\" not found')\n",
    "        return None\n",
    "\n",
    "    def _get_insert_index(self, key):\n",
    "        return bisect.bisect(self.keys, key)\n",
    "\n",
    "    def _update_entry(self, key, value):\n",
    "        for i, k in enumerate(self.keys):\n",
    "            if k == key:\n",
    "                self.values[i] = value\n",
    "\n",
    "    def insert_entry(self, key, value):\n",
    "        if self.contains_key(key):\n",
    "            self._update_entry(key, value)\n",
    "        else:\n",
    "            insert_index = self._get_insert_index(key)\n",
    "            self.keys.insert(insert_index, key)\n",
    "            self.values.insert(insert_index, value)\n",
    "            return insert_index  # insert_index used for insert_child call on split_with_parent\n",
    "\n",
    "    def split(self):\n",
    "        if self.parent is None:\n",
    "            return self._split_no_parent()\n",
    "        return self._split_with_parent()\n",
    "\n",
    "    def _split_no_parent(self):\n",
    "        split_index = len(self) // 2\n",
    "        key_to_move_up = self.keys[split_index]\n",
    "        value_to_move_up = self.values[split_index]\n",
    "        right_node = Node(\n",
    "            self.keys[split_index + 1 :],\n",
    "            self.values[split_index + 1 :],\n",
    "            self.children[split_index + 1 :],\n",
    "        )\n",
    "        self.keys = self.keys[:split_index]\n",
    "        self.values = self.values[:split_index]\n",
    "        self.children = self.children[: split_index + 1]\n",
    "        parent = Node([key_to_move_up], [value_to_move_up], [self, right_node])\n",
    "        return parent\n",
    "\n",
    "    def _insert_child(self, insert_index, child):\n",
    "        self.children.insert(insert_index, child)\n",
    "        child.parent = self\n",
    "\n",
    "    def _split_with_parent(self):\n",
    "        split_index = len(self) // 2\n",
    "        key_to_move_up = self.keys[split_index]\n",
    "        value_to_move_up = self.values[split_index]\n",
    "        right_node = Node(\n",
    "            self.keys[split_index + 1 :],\n",
    "            self.values[split_index + 1 :],\n",
    "            self.children[split_index + 1 :],\n",
    "        )\n",
    "        self.keys = self.keys[:split_index]\n",
    "        self.values = self.values[:split_index]\n",
    "        self.children = self.children[: split_index + 1]\n",
    "        insert_index = self.parent.insert_entry(key_to_move_up, value_to_move_up)\n",
    "        self.parent._insert_child(insert_index + 1, right_node)"
   ]
  },
  {
   "cell_type": "markdown",
   "id": "0a950861",
   "metadata": {},
   "source": [
    "### B-tree Implementation"
   ]
  },
  {
   "cell_type": "code",
   "execution_count": 82,
   "id": "4b3a83cb",
   "metadata": {},
   "outputs": [
    {
     "data": {
      "application/javascript": [
       "\n",
       "            setTimeout(function() {\n",
       "                var nbb_cell_id = 82;\n",
       "                var nbb_unformatted_code = \"class BTree:\\n    def __init__(\\n        self, threshold_size=2, min_value=float(\\\"-inf\\\"), max_value=float(\\\"inf\\\")\\n    ):\\n        self.root = Node()\\n        self.height = 0\\n        self.size = 0\\n        self.threshold_size = threshold_size\\n        self.min_value = min_value\\n        self.max_value = max_value\\n\\n    def _add(self, current_node, key, value):\\n        if self.height == 0:\\n            current_node = self.root\\n        if current_node.is_leaf():\\n            len_before = len(current_node)\\n            current_node.insert_entry(key, value)\\n            len_after = len(current_node)\\n            if len_after > len_before:\\n                self.size += 1\\n            if len_after > self.threshold_size:\\n                if current_node.parent is None:\\n                    self.height += 1\\n                current_node.split()\\n        else:\\n            self._add_recursive(self.root, key, value)\\n\\n    def _add_recursive(self, current_node, key, value):\\n        child_index = current_node._get_insert_index(key)\\n        self._add(current_node.children[child_index], key, value)\\n\\n    def add(self, key, value):\\n        self._add(self.root, key, value)\";\n",
       "                var nbb_formatted_code = \"class BTree:\\n    def __init__(\\n        self, threshold_size=2, min_value=float(\\\"-inf\\\"), max_value=float(\\\"inf\\\")\\n    ):\\n        self.root = Node()\\n        self.height = 0\\n        self.size = 0\\n        self.threshold_size = threshold_size\\n        self.min_value = min_value\\n        self.max_value = max_value\\n\\n    def _add(self, current_node, key, value):\\n        if self.height == 0:\\n            current_node = self.root\\n        if current_node.is_leaf():\\n            len_before = len(current_node)\\n            current_node.insert_entry(key, value)\\n            len_after = len(current_node)\\n            if len_after > len_before:\\n                self.size += 1\\n            if len_after > self.threshold_size:\\n                if current_node.parent is None:\\n                    self.height += 1\\n                current_node.split()\\n        else:\\n            self._add_recursive(self.root, key, value)\\n\\n    def _add_recursive(self, current_node, key, value):\\n        child_index = current_node._get_insert_index(key)\\n        self._add(current_node.children[child_index], key, value)\\n\\n    def add(self, key, value):\\n        self._add(self.root, key, value)\";\n",
       "                var nbb_cells = Jupyter.notebook.get_cells();\n",
       "                for (var i = 0; i < nbb_cells.length; ++i) {\n",
       "                    if (nbb_cells[i].input_prompt_number == nbb_cell_id) {\n",
       "                        if (nbb_cells[i].get_text() == nbb_unformatted_code) {\n",
       "                             nbb_cells[i].set_text(nbb_formatted_code);\n",
       "                        }\n",
       "                        break;\n",
       "                    }\n",
       "                }\n",
       "            }, 500);\n",
       "            "
      ],
      "text/plain": [
       "<IPython.core.display.Javascript object>"
      ]
     },
     "metadata": {},
     "output_type": "display_data"
    }
   ],
   "source": [
    "class BTree:\n",
    "    def __init__(\n",
    "        self, threshold_size=2, min_value=float(\"-inf\"), max_value=float(\"inf\")\n",
    "    ):\n",
    "        self.root = Node()\n",
    "        self.height = 0\n",
    "        self.size = 0\n",
    "        self.threshold_size = threshold_size\n",
    "        self.min_value = min_value\n",
    "        self.max_value = max_value\n",
    "\n",
    "    def _add(self, current_node, key, value):\n",
    "        if self.height == 0:\n",
    "            current_node = self.root\n",
    "        if current_node.is_leaf():\n",
    "            len_before = len(current_node)\n",
    "            current_node.insert_entry(key, value)\n",
    "            len_after = len(current_node)\n",
    "            if len_after > len_before:\n",
    "                self.size += 1\n",
    "            if len_after > self.threshold_size:\n",
    "                if current_node.parent is None:\n",
    "                    self.height += 1\n",
    "                current_node.split()\n",
    "        else:\n",
    "            self._add_recursive(self.root, key, value)\n",
    "\n",
    "    def _add_recursive(self, current_node, key, value):\n",
    "        child_index = current_node._get_insert_index(key)\n",
    "        self._add(current_node.children[child_index], key, value)\n",
    "\n",
    "    def add(self, key, value):\n",
    "        self._add(self.root, key, value)"
   ]
  },
  {
   "cell_type": "code",
   "execution_count": 83,
   "id": "152f8bca",
   "metadata": {},
   "outputs": [
    {
     "data": {
      "application/javascript": [
       "\n",
       "            setTimeout(function() {\n",
       "                var nbb_cell_id = 83;\n",
       "                var nbb_unformatted_code = \"bt = BTree()\";\n",
       "                var nbb_formatted_code = \"bt = BTree()\";\n",
       "                var nbb_cells = Jupyter.notebook.get_cells();\n",
       "                for (var i = 0; i < nbb_cells.length; ++i) {\n",
       "                    if (nbb_cells[i].input_prompt_number == nbb_cell_id) {\n",
       "                        if (nbb_cells[i].get_text() == nbb_unformatted_code) {\n",
       "                             nbb_cells[i].set_text(nbb_formatted_code);\n",
       "                        }\n",
       "                        break;\n",
       "                    }\n",
       "                }\n",
       "            }, 500);\n",
       "            "
      ],
      "text/plain": [
       "<IPython.core.display.Javascript object>"
      ]
     },
     "metadata": {},
     "output_type": "display_data"
    }
   ],
   "source": [
    "bt = BTree()"
   ]
  },
  {
   "cell_type": "code",
   "execution_count": 84,
   "id": "0582f840",
   "metadata": {},
   "outputs": [
    {
     "data": {
      "application/javascript": [
       "\n",
       "            setTimeout(function() {\n",
       "                var nbb_cell_id = 84;\n",
       "                var nbb_unformatted_code = \"bt.add(\\\"k\\\", 9)\";\n",
       "                var nbb_formatted_code = \"bt.add(\\\"k\\\", 9)\";\n",
       "                var nbb_cells = Jupyter.notebook.get_cells();\n",
       "                for (var i = 0; i < nbb_cells.length; ++i) {\n",
       "                    if (nbb_cells[i].input_prompt_number == nbb_cell_id) {\n",
       "                        if (nbb_cells[i].get_text() == nbb_unformatted_code) {\n",
       "                             nbb_cells[i].set_text(nbb_formatted_code);\n",
       "                        }\n",
       "                        break;\n",
       "                    }\n",
       "                }\n",
       "            }, 500);\n",
       "            "
      ],
      "text/plain": [
       "<IPython.core.display.Javascript object>"
      ]
     },
     "metadata": {},
     "output_type": "display_data"
    }
   ],
   "source": [
    "bt.add(\"k\", 9)"
   ]
  },
  {
   "cell_type": "code",
   "execution_count": 85,
   "id": "0a7f8478",
   "metadata": {},
   "outputs": [
    {
     "data": {
      "text/plain": [
       "<__main__.Node at 0x1d7abb45430>"
      ]
     },
     "execution_count": 85,
     "metadata": {},
     "output_type": "execute_result"
    },
    {
     "data": {
      "application/javascript": [
       "\n",
       "            setTimeout(function() {\n",
       "                var nbb_cell_id = 85;\n",
       "                var nbb_unformatted_code = \"bt.root\";\n",
       "                var nbb_formatted_code = \"bt.root\";\n",
       "                var nbb_cells = Jupyter.notebook.get_cells();\n",
       "                for (var i = 0; i < nbb_cells.length; ++i) {\n",
       "                    if (nbb_cells[i].input_prompt_number == nbb_cell_id) {\n",
       "                        if (nbb_cells[i].get_text() == nbb_unformatted_code) {\n",
       "                             nbb_cells[i].set_text(nbb_formatted_code);\n",
       "                        }\n",
       "                        break;\n",
       "                    }\n",
       "                }\n",
       "            }, 500);\n",
       "            "
      ],
      "text/plain": [
       "<IPython.core.display.Javascript object>"
      ]
     },
     "metadata": {},
     "output_type": "display_data"
    }
   ],
   "source": [
    "bt.root"
   ]
  },
  {
   "cell_type": "code",
   "execution_count": 86,
   "id": "2da88556",
   "metadata": {},
   "outputs": [
    {
     "data": {
      "text/plain": [
       "['k']"
      ]
     },
     "execution_count": 86,
     "metadata": {},
     "output_type": "execute_result"
    },
    {
     "data": {
      "application/javascript": [
       "\n",
       "            setTimeout(function() {\n",
       "                var nbb_cell_id = 86;\n",
       "                var nbb_unformatted_code = \"bt.root.keys\";\n",
       "                var nbb_formatted_code = \"bt.root.keys\";\n",
       "                var nbb_cells = Jupyter.notebook.get_cells();\n",
       "                for (var i = 0; i < nbb_cells.length; ++i) {\n",
       "                    if (nbb_cells[i].input_prompt_number == nbb_cell_id) {\n",
       "                        if (nbb_cells[i].get_text() == nbb_unformatted_code) {\n",
       "                             nbb_cells[i].set_text(nbb_formatted_code);\n",
       "                        }\n",
       "                        break;\n",
       "                    }\n",
       "                }\n",
       "            }, 500);\n",
       "            "
      ],
      "text/plain": [
       "<IPython.core.display.Javascript object>"
      ]
     },
     "metadata": {},
     "output_type": "display_data"
    }
   ],
   "source": [
    "bt.root.keys"
   ]
  },
  {
   "cell_type": "code",
   "execution_count": 87,
   "id": "22b3a871",
   "metadata": {},
   "outputs": [
    {
     "data": {
      "text/plain": [
       "[9]"
      ]
     },
     "execution_count": 87,
     "metadata": {},
     "output_type": "execute_result"
    },
    {
     "data": {
      "application/javascript": [
       "\n",
       "            setTimeout(function() {\n",
       "                var nbb_cell_id = 87;\n",
       "                var nbb_unformatted_code = \"bt.root.values\";\n",
       "                var nbb_formatted_code = \"bt.root.values\";\n",
       "                var nbb_cells = Jupyter.notebook.get_cells();\n",
       "                for (var i = 0; i < nbb_cells.length; ++i) {\n",
       "                    if (nbb_cells[i].input_prompt_number == nbb_cell_id) {\n",
       "                        if (nbb_cells[i].get_text() == nbb_unformatted_code) {\n",
       "                             nbb_cells[i].set_text(nbb_formatted_code);\n",
       "                        }\n",
       "                        break;\n",
       "                    }\n",
       "                }\n",
       "            }, 500);\n",
       "            "
      ],
      "text/plain": [
       "<IPython.core.display.Javascript object>"
      ]
     },
     "metadata": {},
     "output_type": "display_data"
    }
   ],
   "source": [
    "bt.root.values"
   ]
  },
  {
   "cell_type": "code",
   "execution_count": 88,
   "id": "3078ee41",
   "metadata": {},
   "outputs": [
    {
     "data": {
      "application/javascript": [
       "\n",
       "            setTimeout(function() {\n",
       "                var nbb_cell_id = 88;\n",
       "                var nbb_unformatted_code = \"bt.add(\\\"b\\\", 4)\";\n",
       "                var nbb_formatted_code = \"bt.add(\\\"b\\\", 4)\";\n",
       "                var nbb_cells = Jupyter.notebook.get_cells();\n",
       "                for (var i = 0; i < nbb_cells.length; ++i) {\n",
       "                    if (nbb_cells[i].input_prompt_number == nbb_cell_id) {\n",
       "                        if (nbb_cells[i].get_text() == nbb_unformatted_code) {\n",
       "                             nbb_cells[i].set_text(nbb_formatted_code);\n",
       "                        }\n",
       "                        break;\n",
       "                    }\n",
       "                }\n",
       "            }, 500);\n",
       "            "
      ],
      "text/plain": [
       "<IPython.core.display.Javascript object>"
      ]
     },
     "metadata": {},
     "output_type": "display_data"
    }
   ],
   "source": [
    "bt.add(\"b\", 4)"
   ]
  },
  {
   "cell_type": "code",
   "execution_count": 89,
   "id": "7b24e00f",
   "metadata": {},
   "outputs": [
    {
     "data": {
      "text/plain": [
       "['b', 'k']"
      ]
     },
     "execution_count": 89,
     "metadata": {},
     "output_type": "execute_result"
    },
    {
     "data": {
      "application/javascript": [
       "\n",
       "            setTimeout(function() {\n",
       "                var nbb_cell_id = 89;\n",
       "                var nbb_unformatted_code = \"bt.root.keys\";\n",
       "                var nbb_formatted_code = \"bt.root.keys\";\n",
       "                var nbb_cells = Jupyter.notebook.get_cells();\n",
       "                for (var i = 0; i < nbb_cells.length; ++i) {\n",
       "                    if (nbb_cells[i].input_prompt_number == nbb_cell_id) {\n",
       "                        if (nbb_cells[i].get_text() == nbb_unformatted_code) {\n",
       "                             nbb_cells[i].set_text(nbb_formatted_code);\n",
       "                        }\n",
       "                        break;\n",
       "                    }\n",
       "                }\n",
       "            }, 500);\n",
       "            "
      ],
      "text/plain": [
       "<IPython.core.display.Javascript object>"
      ]
     },
     "metadata": {},
     "output_type": "display_data"
    }
   ],
   "source": [
    "bt.root.keys"
   ]
  },
  {
   "cell_type": "code",
   "execution_count": 90,
   "id": "015986bf",
   "metadata": {},
   "outputs": [
    {
     "data": {
      "text/plain": [
       "[4, 9]"
      ]
     },
     "execution_count": 90,
     "metadata": {},
     "output_type": "execute_result"
    },
    {
     "data": {
      "application/javascript": [
       "\n",
       "            setTimeout(function() {\n",
       "                var nbb_cell_id = 90;\n",
       "                var nbb_unformatted_code = \"bt.root.values\";\n",
       "                var nbb_formatted_code = \"bt.root.values\";\n",
       "                var nbb_cells = Jupyter.notebook.get_cells();\n",
       "                for (var i = 0; i < nbb_cells.length; ++i) {\n",
       "                    if (nbb_cells[i].input_prompt_number == nbb_cell_id) {\n",
       "                        if (nbb_cells[i].get_text() == nbb_unformatted_code) {\n",
       "                             nbb_cells[i].set_text(nbb_formatted_code);\n",
       "                        }\n",
       "                        break;\n",
       "                    }\n",
       "                }\n",
       "            }, 500);\n",
       "            "
      ],
      "text/plain": [
       "<IPython.core.display.Javascript object>"
      ]
     },
     "metadata": {},
     "output_type": "display_data"
    }
   ],
   "source": [
    "bt.root.values"
   ]
  },
  {
   "cell_type": "code",
   "execution_count": 91,
   "id": "d8299469",
   "metadata": {},
   "outputs": [
    {
     "data": {
      "application/javascript": [
       "\n",
       "            setTimeout(function() {\n",
       "                var nbb_cell_id = 91;\n",
       "                var nbb_unformatted_code = \"bt.add(\\\"j\\\", 2)\";\n",
       "                var nbb_formatted_code = \"bt.add(\\\"j\\\", 2)\";\n",
       "                var nbb_cells = Jupyter.notebook.get_cells();\n",
       "                for (var i = 0; i < nbb_cells.length; ++i) {\n",
       "                    if (nbb_cells[i].input_prompt_number == nbb_cell_id) {\n",
       "                        if (nbb_cells[i].get_text() == nbb_unformatted_code) {\n",
       "                             nbb_cells[i].set_text(nbb_formatted_code);\n",
       "                        }\n",
       "                        break;\n",
       "                    }\n",
       "                }\n",
       "            }, 500);\n",
       "            "
      ],
      "text/plain": [
       "<IPython.core.display.Javascript object>"
      ]
     },
     "metadata": {},
     "output_type": "display_data"
    }
   ],
   "source": [
    "bt.add(\"j\", 2)"
   ]
  },
  {
   "cell_type": "code",
   "execution_count": 92,
   "id": "67796de8",
   "metadata": {},
   "outputs": [
    {
     "data": {
      "text/plain": [
       "['b']"
      ]
     },
     "execution_count": 92,
     "metadata": {},
     "output_type": "execute_result"
    },
    {
     "data": {
      "application/javascript": [
       "\n",
       "            setTimeout(function() {\n",
       "                var nbb_cell_id = 92;\n",
       "                var nbb_unformatted_code = \"bt.root.keys\";\n",
       "                var nbb_formatted_code = \"bt.root.keys\";\n",
       "                var nbb_cells = Jupyter.notebook.get_cells();\n",
       "                for (var i = 0; i < nbb_cells.length; ++i) {\n",
       "                    if (nbb_cells[i].input_prompt_number == nbb_cell_id) {\n",
       "                        if (nbb_cells[i].get_text() == nbb_unformatted_code) {\n",
       "                             nbb_cells[i].set_text(nbb_formatted_code);\n",
       "                        }\n",
       "                        break;\n",
       "                    }\n",
       "                }\n",
       "            }, 500);\n",
       "            "
      ],
      "text/plain": [
       "<IPython.core.display.Javascript object>"
      ]
     },
     "metadata": {},
     "output_type": "display_data"
    }
   ],
   "source": [
    "bt.root.keys"
   ]
  },
  {
   "cell_type": "code",
   "execution_count": 93,
   "id": "de32d543",
   "metadata": {},
   "outputs": [
    {
     "data": {
      "text/plain": [
       "[4]"
      ]
     },
     "execution_count": 93,
     "metadata": {},
     "output_type": "execute_result"
    },
    {
     "data": {
      "application/javascript": [
       "\n",
       "            setTimeout(function() {\n",
       "                var nbb_cell_id = 93;\n",
       "                var nbb_unformatted_code = \"bt.root.values\";\n",
       "                var nbb_formatted_code = \"bt.root.values\";\n",
       "                var nbb_cells = Jupyter.notebook.get_cells();\n",
       "                for (var i = 0; i < nbb_cells.length; ++i) {\n",
       "                    if (nbb_cells[i].input_prompt_number == nbb_cell_id) {\n",
       "                        if (nbb_cells[i].get_text() == nbb_unformatted_code) {\n",
       "                             nbb_cells[i].set_text(nbb_formatted_code);\n",
       "                        }\n",
       "                        break;\n",
       "                    }\n",
       "                }\n",
       "            }, 500);\n",
       "            "
      ],
      "text/plain": [
       "<IPython.core.display.Javascript object>"
      ]
     },
     "metadata": {},
     "output_type": "display_data"
    }
   ],
   "source": [
    "bt.root.values"
   ]
  },
  {
   "cell_type": "code",
   "execution_count": 94,
   "id": "8662df43",
   "metadata": {},
   "outputs": [
    {
     "data": {
      "application/javascript": [
       "\n",
       "            setTimeout(function() {\n",
       "                var nbb_cell_id = 94;\n",
       "                var nbb_unformatted_code = \"bt.add(\\\"j\\\", 5)\";\n",
       "                var nbb_formatted_code = \"bt.add(\\\"j\\\", 5)\";\n",
       "                var nbb_cells = Jupyter.notebook.get_cells();\n",
       "                for (var i = 0; i < nbb_cells.length; ++i) {\n",
       "                    if (nbb_cells[i].input_prompt_number == nbb_cell_id) {\n",
       "                        if (nbb_cells[i].get_text() == nbb_unformatted_code) {\n",
       "                             nbb_cells[i].set_text(nbb_formatted_code);\n",
       "                        }\n",
       "                        break;\n",
       "                    }\n",
       "                }\n",
       "            }, 500);\n",
       "            "
      ],
      "text/plain": [
       "<IPython.core.display.Javascript object>"
      ]
     },
     "metadata": {},
     "output_type": "display_data"
    }
   ],
   "source": [
    "bt.add(\"j\", 5)"
   ]
  },
  {
   "cell_type": "code",
   "execution_count": 95,
   "id": "e8b7367f",
   "metadata": {},
   "outputs": [
    {
     "data": {
      "text/plain": [
       "4"
      ]
     },
     "execution_count": 95,
     "metadata": {},
     "output_type": "execute_result"
    },
    {
     "data": {
      "application/javascript": [
       "\n",
       "            setTimeout(function() {\n",
       "                var nbb_cell_id = 95;\n",
       "                var nbb_unformatted_code = \"bt.size\";\n",
       "                var nbb_formatted_code = \"bt.size\";\n",
       "                var nbb_cells = Jupyter.notebook.get_cells();\n",
       "                for (var i = 0; i < nbb_cells.length; ++i) {\n",
       "                    if (nbb_cells[i].input_prompt_number == nbb_cell_id) {\n",
       "                        if (nbb_cells[i].get_text() == nbb_unformatted_code) {\n",
       "                             nbb_cells[i].set_text(nbb_formatted_code);\n",
       "                        }\n",
       "                        break;\n",
       "                    }\n",
       "                }\n",
       "            }, 500);\n",
       "            "
      ],
      "text/plain": [
       "<IPython.core.display.Javascript object>"
      ]
     },
     "metadata": {},
     "output_type": "display_data"
    }
   ],
   "source": [
    "bt.size"
   ]
  },
  {
   "cell_type": "code",
   "execution_count": null,
   "id": "7dd201e2",
   "metadata": {},
   "outputs": [],
   "source": []
  }
 ],
 "metadata": {
  "kernelspec": {
   "display_name": "Python 3 (ipykernel)",
   "language": "python",
   "name": "python3"
  },
  "language_info": {
   "codemirror_mode": {
    "name": "ipython",
    "version": 3
   },
   "file_extension": ".py",
   "mimetype": "text/x-python",
   "name": "python",
   "nbconvert_exporter": "python",
   "pygments_lexer": "ipython3",
   "version": "3.9.12"
  }
 },
 "nbformat": 4,
 "nbformat_minor": 5
}
