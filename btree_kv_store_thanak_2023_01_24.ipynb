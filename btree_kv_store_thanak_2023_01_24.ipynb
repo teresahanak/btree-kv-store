{
 "cells": [
  {
   "cell_type": "markdown",
   "id": "1b94fc2f",
   "metadata": {},
   "source": [
    "# B-tree Implementation for Key-value Store\n",
    "#### An example project illustring B-tree implementation in a key-value store, with numeric or non-numeric unique keys, range look-up, and functional and performance tests"
   ]
  },
  {
   "cell_type": "code",
   "execution_count": 1,
   "id": "913daee1",
   "metadata": {},
   "outputs": [
    {
     "data": {
      "application/javascript": [
       "\n",
       "            setTimeout(function() {\n",
       "                var nbb_cell_id = 1;\n",
       "                var nbb_unformatted_code = \"%load_ext nb_black\";\n",
       "                var nbb_formatted_code = \"%load_ext nb_black\";\n",
       "                var nbb_cells = Jupyter.notebook.get_cells();\n",
       "                for (var i = 0; i < nbb_cells.length; ++i) {\n",
       "                    if (nbb_cells[i].input_prompt_number == nbb_cell_id) {\n",
       "                        if (nbb_cells[i].get_text() == nbb_unformatted_code) {\n",
       "                             nbb_cells[i].set_text(nbb_formatted_code);\n",
       "                        }\n",
       "                        break;\n",
       "                    }\n",
       "                }\n",
       "            }, 500);\n",
       "            "
      ],
      "text/plain": [
       "<IPython.core.display.Javascript object>"
      ]
     },
     "metadata": {},
     "output_type": "display_data"
    }
   ],
   "source": [
    "# To structure code automatically\n",
    "%load_ext nb_black"
   ]
  },
  {
   "cell_type": "markdown",
   "id": "65066a95",
   "metadata": {},
   "source": [
    "### Node Implementation"
   ]
  },
  {
   "cell_type": "code",
   "execution_count": 2,
   "id": "e97949db",
   "metadata": {},
   "outputs": [
    {
     "data": {
      "application/javascript": [
       "\n",
       "            setTimeout(function() {\n",
       "                var nbb_cell_id = 2;\n",
       "                var nbb_unformatted_code = \"import bisect\\n\\n\\nclass Node:\\n    def __init__(self, keys=None, values=None, children=None, parent=None):\\n        self.keys = keys or []\\n        self.values = values or []\\n        self.parent = parent\\n        self.set_children(children)\\n\\n    def __len__(self):\\n        return len(self.values)\\n\\n    def set_children(self, children):\\n        self.children = children or []\\n        for child in self.children:\\n            child.parent = self\\n\\n    def is_leaf(self):\\n        return len(self.children) == 0\\n\\n    def contains_key(self, key):\\n        return key in self.keys\\n\\n    def get_value(self, key):\\n        for i, k in enumerate(self.keys):\\n            if k == key:\\n                return self.values[i]\\n        print(f'Key Error: \\\"{key}\\\" not found')\\n        return None\\n\\n    def _get_insert_index(self, key):\\n        return bisect.bisect(self.keys, key)\\n\\n    def _update_entry(self, key, value):\\n        for i, k in enumerate(self.keys):\\n            if k == key:\\n                self.values[i] = value\\n\\n    def insert_entry(self, key, value):\\n        if self.contains_key(key):\\n            self._update_entry(key, value)\\n        else:\\n            insert_index = self._get_insert_index(key)\\n            self.keys.insert(insert_index, key)\\n            self.values.insert(insert_index, value)\\n            return insert_index  # insert_index used for insert_child call on split_with_parent\\n\\n    def split(self):\\n        if self.parent is None:\\n            return self._split_no_parent()\\n        return self._split_with_parent()\\n\\n    def _split_no_parent(self):\\n        split_index = len(self) // 2\\n        key_to_move_up = self.keys[split_index]\\n        value_to_move_up = self.values[split_index]\\n        right_node = Node(\\n            self.keys[split_index + 1 :],\\n            self.values[split_index + 1 :],\\n            self.children[split_index + 1 :],\\n        )\\n        self.keys = self.keys[:split_index]\\n        self.values = self.values[:split_index]\\n        self.children = self.children[: split_index + 1]\\n        parent = Node([key_to_move_up], [value_to_move_up], [self, right_node])\\n        return parent\\n\\n    def _insert_child(self, insert_index, child):\\n        self.children.insert(insert_index, child)\\n        child.parent = self\\n\\n    def _split_with_parent(self):\\n        split_index = len(self) // 2\\n        key_to_move_up = self.keys[split_index]\\n        value_to_move_up = self.values[split_index]\\n        right_node = Node(\\n            self.keys[split_index + 1 :],\\n            self.values[split_index + 1 :],\\n            self.children[split_index + 1 :],\\n        )\\n        self.keys = self.keys[:split_index]\\n        self.values = self.values[:split_index]\\n        self.children = self.children[: split_index + 1]\\n        insert_index = self.parent.insert_entry(key_to_move_up, value_to_move_up)\\n        self.parent._insert_child(insert_index + 1, right_node)\";\n",
       "                var nbb_formatted_code = \"import bisect\\n\\n\\nclass Node:\\n    def __init__(self, keys=None, values=None, children=None, parent=None):\\n        self.keys = keys or []\\n        self.values = values or []\\n        self.parent = parent\\n        self.set_children(children)\\n\\n    def __len__(self):\\n        return len(self.values)\\n\\n    def set_children(self, children):\\n        self.children = children or []\\n        for child in self.children:\\n            child.parent = self\\n\\n    def is_leaf(self):\\n        return len(self.children) == 0\\n\\n    def contains_key(self, key):\\n        return key in self.keys\\n\\n    def get_value(self, key):\\n        for i, k in enumerate(self.keys):\\n            if k == key:\\n                return self.values[i]\\n        print(f'Key Error: \\\"{key}\\\" not found')\\n        return None\\n\\n    def _get_insert_index(self, key):\\n        return bisect.bisect(self.keys, key)\\n\\n    def _update_entry(self, key, value):\\n        for i, k in enumerate(self.keys):\\n            if k == key:\\n                self.values[i] = value\\n\\n    def insert_entry(self, key, value):\\n        if self.contains_key(key):\\n            self._update_entry(key, value)\\n        else:\\n            insert_index = self._get_insert_index(key)\\n            self.keys.insert(insert_index, key)\\n            self.values.insert(insert_index, value)\\n            return insert_index  # insert_index used for insert_child call on split_with_parent\\n\\n    def split(self):\\n        if self.parent is None:\\n            return self._split_no_parent()\\n        return self._split_with_parent()\\n\\n    def _split_no_parent(self):\\n        split_index = len(self) // 2\\n        key_to_move_up = self.keys[split_index]\\n        value_to_move_up = self.values[split_index]\\n        right_node = Node(\\n            self.keys[split_index + 1 :],\\n            self.values[split_index + 1 :],\\n            self.children[split_index + 1 :],\\n        )\\n        self.keys = self.keys[:split_index]\\n        self.values = self.values[:split_index]\\n        self.children = self.children[: split_index + 1]\\n        parent = Node([key_to_move_up], [value_to_move_up], [self, right_node])\\n        return parent\\n\\n    def _insert_child(self, insert_index, child):\\n        self.children.insert(insert_index, child)\\n        child.parent = self\\n\\n    def _split_with_parent(self):\\n        split_index = len(self) // 2\\n        key_to_move_up = self.keys[split_index]\\n        value_to_move_up = self.values[split_index]\\n        right_node = Node(\\n            self.keys[split_index + 1 :],\\n            self.values[split_index + 1 :],\\n            self.children[split_index + 1 :],\\n        )\\n        self.keys = self.keys[:split_index]\\n        self.values = self.values[:split_index]\\n        self.children = self.children[: split_index + 1]\\n        insert_index = self.parent.insert_entry(key_to_move_up, value_to_move_up)\\n        self.parent._insert_child(insert_index + 1, right_node)\";\n",
       "                var nbb_cells = Jupyter.notebook.get_cells();\n",
       "                for (var i = 0; i < nbb_cells.length; ++i) {\n",
       "                    if (nbb_cells[i].input_prompt_number == nbb_cell_id) {\n",
       "                        if (nbb_cells[i].get_text() == nbb_unformatted_code) {\n",
       "                             nbb_cells[i].set_text(nbb_formatted_code);\n",
       "                        }\n",
       "                        break;\n",
       "                    }\n",
       "                }\n",
       "            }, 500);\n",
       "            "
      ],
      "text/plain": [
       "<IPython.core.display.Javascript object>"
      ]
     },
     "metadata": {},
     "output_type": "display_data"
    }
   ],
   "source": [
    "import bisect\n",
    "\n",
    "class Node:\n",
    "    \n",
    "    def __init__(self, keys=None, values=None, children=None, parent=None):\n",
    "        self.keys = keys or []\n",
    "        self.values = values or []\n",
    "        self.parent = parent\n",
    "        self.set_children(children)\n",
    "\n",
    "    def __len__(self):\n",
    "        return len(self.values)\n",
    "\n",
    "    def set_children(self, children):\n",
    "        self.children = children or []\n",
    "        for child in self.children:\n",
    "            child.parent = self\n",
    "\n",
    "    def is_leaf(self):\n",
    "        return len(self.children) == 0\n",
    "\n",
    "    def contains_key(self, key):\n",
    "        return key in self.keys\n",
    "\n",
    "    def get_value(self, key):\n",
    "        for i, k in enumerate(self.keys):\n",
    "            if k == key:\n",
    "                return self.values[i]\n",
    "        print(f'Key Error: \"{key}\" not found')\n",
    "        return None\n",
    "\n",
    "    def _get_insert_index(self, key):\n",
    "        return bisect.bisect(self.keys, key)\n",
    "\n",
    "    def _update_entry(self, key, value):\n",
    "        for i, k in enumerate(self.keys):\n",
    "            if k == key:\n",
    "                self.values[i] = value\n",
    "\n",
    "    def insert_entry(self, key, value):\n",
    "        if self.contains_key(key):\n",
    "            self._update_entry(key, value)\n",
    "        else:\n",
    "            insert_index = self._get_insert_index(key)\n",
    "            self.keys.insert(insert_index, key)\n",
    "            self.values.insert(insert_index, value)\n",
    "            return insert_index  # insert_index used for insert_child call on split_with_parent\n",
    "\n",
    "    def split(self):\n",
    "        if self.parent is None:\n",
    "            return self._split_no_parent()\n",
    "        return self._split_with_parent()\n",
    "\n",
    "    def _split_no_parent(self):\n",
    "        split_index = len(self) // 2\n",
    "        key_to_move_up = self.keys[split_index]\n",
    "        value_to_move_up = self.values[split_index]\n",
    "        right_node = Node(\n",
    "            self.keys[split_index + 1 :],\n",
    "            self.values[split_index + 1 :],\n",
    "            self.children[split_index + 1 :],\n",
    "        )\n",
    "        self.keys = self.keys[:split_index]\n",
    "        self.values = self.values[:split_index]\n",
    "        self.children = self.children[: split_index + 1]\n",
    "        parent = Node([key_to_move_up], [value_to_move_up], [self, right_node])\n",
    "        return parent\n",
    "\n",
    "    def _insert_child(self, insert_index, child):\n",
    "        self.children.insert(insert_index, child)\n",
    "        child.parent = self\n",
    "\n",
    "    def _split_with_parent(self):\n",
    "        split_index = len(self) // 2\n",
    "        key_to_move_up = self.keys[split_index]\n",
    "        value_to_move_up = self.values[split_index]\n",
    "        right_node = Node(\n",
    "            self.keys[split_index + 1 :],\n",
    "            self.values[split_index + 1 :],\n",
    "            self.children[split_index + 1 :],\n",
    "        )\n",
    "        self.keys = self.keys[:split_index]\n",
    "        self.values = self.values[:split_index]\n",
    "        self.children = self.children[: split_index + 1]\n",
    "        insert_index = self.parent.insert_entry(key_to_move_up, value_to_move_up)\n",
    "        self.parent._insert_child(insert_index + 1, right_node)"
   ]
  },
  {
   "cell_type": "markdown",
   "id": "18b7df5c",
   "metadata": {},
   "source": [
    "### B-tree Implementation"
   ]
  },
  {
   "cell_type": "code",
   "execution_count": 107,
   "id": "1936105a",
   "metadata": {},
   "outputs": [
    {
     "data": {
      "application/javascript": [
       "\n",
       "            setTimeout(function() {\n",
       "                var nbb_cell_id = 107;\n",
       "                var nbb_unformatted_code = \"class BTree:\\n    def __init__(self, threshold_size=2):\\n        self.root = Node()\\n        self.height = 0\\n        self.size = 0\\n        self.threshold_size = threshold_size\\n        self.min_value = min_value\\n        self.max_value = max_value\\n\\n    def _add(self, current_node, key, value):\\n        if self.height == 0:\\n            current_node = self.root\\n        if current_node.is_leaf():\\n            len_before = len(current_node)\\n            current_node.insert_entry(key, value)\\n            len_after = len(current_node)\\n            if len_after > len_before:\\n                self.size += 1\\n            if len_after > self.threshold_size:\\n                if current_node.parent is None:\\n                    self.height += 1\\n                current_node.split()\\n        else:\\n            self._add_recursive(self.root, key, value)\\n\\n    def _add_recursive(self, current_node, key, value):\\n        child_index = current_node._get_insert_index(key)\\n        self._add(current_node.children[child_index], key, value)\\n\\n    def add(self, key, value):\\n        self._add(self.root, key, value)\\n\\n    def _range_query  (\\n        self,\\n        current_node,\\n        range_start,\\n        range_end,\\n        min_key,\\n        max_key,\\n    ):\\n        if range_end < min_key or range_start > max_key:\\n            return []\\n        results = []\\n        for i, key in enumerate(current_node.keys):\\n            if range_start <= key <= range_end:\\n                results.append(current_node.values[i])\\n        if not current_node.is_leaf():\\n            for i, child in enumerate(current_node.children):\\n                new_min_key = current_node.keys[i-1] if i > 0 else min_key\\n                new_max_key = current_node.keys[i] if i < len(current_node) else max_key\\n                results += self._range_query(child, range_start, range_end, new_min_key, new_max_key)\\n        return results\\n    \\n    def range_query(self, range_start, range_end):\\n        self._range_query(self.root, range_start, range_end, float('-inf'), float('inf'))\";\n",
       "                var nbb_formatted_code = \"class BTree:\\n    def __init__(self, threshold_size=2):\\n        self.root = Node()\\n        self.height = 0\\n        self.size = 0\\n        self.threshold_size = threshold_size\\n        self.min_value = min_value\\n        self.max_value = max_value\\n\\n    def _add(self, current_node, key, value):\\n        if self.height == 0:\\n            current_node = self.root\\n        if current_node.is_leaf():\\n            len_before = len(current_node)\\n            current_node.insert_entry(key, value)\\n            len_after = len(current_node)\\n            if len_after > len_before:\\n                self.size += 1\\n            if len_after > self.threshold_size:\\n                if current_node.parent is None:\\n                    self.height += 1\\n                current_node.split()\\n        else:\\n            self._add_recursive(self.root, key, value)\\n\\n    def _add_recursive(self, current_node, key, value):\\n        child_index = current_node._get_insert_index(key)\\n        self._add(current_node.children[child_index], key, value)\\n\\n    def add(self, key, value):\\n        self._add(self.root, key, value)\\n\\n    def _range_query(\\n        self, current_node, range_start, range_end, min_key, max_key,\\n    ):\\n        if range_end < min_key or range_start > max_key:\\n            return []\\n        results = []\\n        for i, key in enumerate(current_node.keys):\\n            if range_start <= key <= range_end:\\n                results.append(current_node.values[i])\\n        if not current_node.is_leaf():\\n            for i, child in enumerate(current_node.children):\\n                new_min_key = current_node.keys[i - 1] if i > 0 else min_key\\n                new_max_key = current_node.keys[i] if i < len(current_node) else max_key\\n                results += self._range_query(\\n                    child, range_start, range_end, new_min_key, new_max_key\\n                )\\n        return results\\n\\n    def range_query(self, range_start, range_end):\\n        self._range_query(\\n            self.root, range_start, range_end, float(\\\"-inf\\\"), float(\\\"inf\\\")\\n        )\";\n",
       "                var nbb_cells = Jupyter.notebook.get_cells();\n",
       "                for (var i = 0; i < nbb_cells.length; ++i) {\n",
       "                    if (nbb_cells[i].input_prompt_number == nbb_cell_id) {\n",
       "                        if (nbb_cells[i].get_text() == nbb_unformatted_code) {\n",
       "                             nbb_cells[i].set_text(nbb_formatted_code);\n",
       "                        }\n",
       "                        break;\n",
       "                    }\n",
       "                }\n",
       "            }, 500);\n",
       "            "
      ],
      "text/plain": [
       "<IPython.core.display.Javascript object>"
      ]
     },
     "metadata": {},
     "output_type": "display_data"
    }
   ],
   "source": [
    "class BTree:\n",
    "    def __init__(self, threshold_size=2):\n",
    "        self.root = Node()\n",
    "        self.height = 0\n",
    "        self.size = 0\n",
    "        self.threshold_size = threshold_size\n",
    "        self.min_value = min_value\n",
    "        self.max_value = max_value\n",
    "\n",
    "    def _add(self, current_node, key, value):\n",
    "        if self.height == 0:\n",
    "            current_node = self.root\n",
    "        if current_node.is_leaf():\n",
    "            len_before = len(current_node)\n",
    "            current_node.insert_entry(key, value)\n",
    "            len_after = len(current_node)\n",
    "            if len_after > len_before:\n",
    "                self.size += 1\n",
    "            if len_after > self.threshold_size:\n",
    "                if current_node.parent is None:\n",
    "                    self.height += 1\n",
    "                current_node.split()\n",
    "        else:\n",
    "            self._add_recursive(self.root, key, value)\n",
    "\n",
    "    def _add_recursive(self, current_node, key, value):\n",
    "        child_index = current_node._get_insert_index(key)\n",
    "        self._add(current_node.children[child_index], key, value)\n",
    "\n",
    "    def add(self, key, value):\n",
    "        self._add(self.root, key, value)\n",
    "\n",
    "    def _range_query(\n",
    "        self, current_node, range_start, range_end, min_key, max_key,\n",
    "    ):\n",
    "        if range_end < min_key or range_start > max_key:\n",
    "            return []\n",
    "        results = []\n",
    "        for i, key in enumerate(current_node.keys):\n",
    "            if range_start <= key <= range_end:\n",
    "                results.append(current_node.values[i])\n",
    "        if not current_node.is_leaf():\n",
    "            for i, child in enumerate(current_node.children):\n",
    "                new_min_key = current_node.keys[i - 1] if i > 0 else min_key\n",
    "                new_max_key = current_node.keys[i] if i < len(current_node) else max_key\n",
    "                results += self._range_query(\n",
    "                    child, range_start, range_end, new_min_key, new_max_key\n",
    "                )\n",
    "        return results\n",
    "\n",
    "    def range_query(self, range_start, range_end):\n",
    "        self._range_query(\n",
    "            self.root, range_start, range_end, float(\"-inf\"), float(\"inf\")\n",
    "        )"
   ]
  },
  {
   "cell_type": "code",
   "execution_count": 83,
   "id": "f4dbbe20",
   "metadata": {},
   "outputs": [
    {
     "data": {
      "application/javascript": [
       "\n",
       "            setTimeout(function() {\n",
       "                var nbb_cell_id = 83;\n",
       "                var nbb_unformatted_code = \"bt = BTree()\";\n",
       "                var nbb_formatted_code = \"bt = BTree()\";\n",
       "                var nbb_cells = Jupyter.notebook.get_cells();\n",
       "                for (var i = 0; i < nbb_cells.length; ++i) {\n",
       "                    if (nbb_cells[i].input_prompt_number == nbb_cell_id) {\n",
       "                        if (nbb_cells[i].get_text() == nbb_unformatted_code) {\n",
       "                             nbb_cells[i].set_text(nbb_formatted_code);\n",
       "                        }\n",
       "                        break;\n",
       "                    }\n",
       "                }\n",
       "            }, 500);\n",
       "            "
      ],
      "text/plain": [
       "<IPython.core.display.Javascript object>"
      ]
     },
     "metadata": {},
     "output_type": "display_data"
    }
   ],
   "source": [
    "bt = BTree()"
   ]
  },
  {
   "cell_type": "code",
   "execution_count": 84,
   "id": "f78c574c",
   "metadata": {},
   "outputs": [
    {
     "data": {
      "application/javascript": [
       "\n",
       "            setTimeout(function() {\n",
       "                var nbb_cell_id = 84;\n",
       "                var nbb_unformatted_code = \"bt.add(\\\"k\\\", 9)\";\n",
       "                var nbb_formatted_code = \"bt.add(\\\"k\\\", 9)\";\n",
       "                var nbb_cells = Jupyter.notebook.get_cells();\n",
       "                for (var i = 0; i < nbb_cells.length; ++i) {\n",
       "                    if (nbb_cells[i].input_prompt_number == nbb_cell_id) {\n",
       "                        if (nbb_cells[i].get_text() == nbb_unformatted_code) {\n",
       "                             nbb_cells[i].set_text(nbb_formatted_code);\n",
       "                        }\n",
       "                        break;\n",
       "                    }\n",
       "                }\n",
       "            }, 500);\n",
       "            "
      ],
      "text/plain": [
       "<IPython.core.display.Javascript object>"
      ]
     },
     "metadata": {},
     "output_type": "display_data"
    }
   ],
   "source": [
    "bt.add(\"k\", 9)"
   ]
  },
  {
   "cell_type": "code",
   "execution_count": 85,
   "id": "0f5a36a7",
   "metadata": {},
   "outputs": [
    {
     "data": {
      "text/plain": [
       "<__main__.Node at 0x1d7abb45430>"
      ]
     },
     "execution_count": 85,
     "metadata": {},
     "output_type": "execute_result"
    },
    {
     "data": {
      "application/javascript": [
       "\n",
       "            setTimeout(function() {\n",
       "                var nbb_cell_id = 85;\n",
       "                var nbb_unformatted_code = \"bt.root\";\n",
       "                var nbb_formatted_code = \"bt.root\";\n",
       "                var nbb_cells = Jupyter.notebook.get_cells();\n",
       "                for (var i = 0; i < nbb_cells.length; ++i) {\n",
       "                    if (nbb_cells[i].input_prompt_number == nbb_cell_id) {\n",
       "                        if (nbb_cells[i].get_text() == nbb_unformatted_code) {\n",
       "                             nbb_cells[i].set_text(nbb_formatted_code);\n",
       "                        }\n",
       "                        break;\n",
       "                    }\n",
       "                }\n",
       "            }, 500);\n",
       "            "
      ],
      "text/plain": [
       "<IPython.core.display.Javascript object>"
      ]
     },
     "metadata": {},
     "output_type": "display_data"
    }
   ],
   "source": [
    "bt.root"
   ]
  },
  {
   "cell_type": "code",
   "execution_count": 86,
   "id": "31ba1d5c",
   "metadata": {},
   "outputs": [
    {
     "data": {
      "text/plain": [
       "['k']"
      ]
     },
     "execution_count": 86,
     "metadata": {},
     "output_type": "execute_result"
    },
    {
     "data": {
      "application/javascript": [
       "\n",
       "            setTimeout(function() {\n",
       "                var nbb_cell_id = 86;\n",
       "                var nbb_unformatted_code = \"bt.root.keys\";\n",
       "                var nbb_formatted_code = \"bt.root.keys\";\n",
       "                var nbb_cells = Jupyter.notebook.get_cells();\n",
       "                for (var i = 0; i < nbb_cells.length; ++i) {\n",
       "                    if (nbb_cells[i].input_prompt_number == nbb_cell_id) {\n",
       "                        if (nbb_cells[i].get_text() == nbb_unformatted_code) {\n",
       "                             nbb_cells[i].set_text(nbb_formatted_code);\n",
       "                        }\n",
       "                        break;\n",
       "                    }\n",
       "                }\n",
       "            }, 500);\n",
       "            "
      ],
      "text/plain": [
       "<IPython.core.display.Javascript object>"
      ]
     },
     "metadata": {},
     "output_type": "display_data"
    }
   ],
   "source": [
    "bt.root.keys"
   ]
  },
  {
   "cell_type": "code",
   "execution_count": 87,
   "id": "2df883c9",
   "metadata": {},
   "outputs": [
    {
     "data": {
      "text/plain": [
       "[9]"
      ]
     },
     "execution_count": 87,
     "metadata": {},
     "output_type": "execute_result"
    },
    {
     "data": {
      "application/javascript": [
       "\n",
       "            setTimeout(function() {\n",
       "                var nbb_cell_id = 87;\n",
       "                var nbb_unformatted_code = \"bt.root.values\";\n",
       "                var nbb_formatted_code = \"bt.root.values\";\n",
       "                var nbb_cells = Jupyter.notebook.get_cells();\n",
       "                for (var i = 0; i < nbb_cells.length; ++i) {\n",
       "                    if (nbb_cells[i].input_prompt_number == nbb_cell_id) {\n",
       "                        if (nbb_cells[i].get_text() == nbb_unformatted_code) {\n",
       "                             nbb_cells[i].set_text(nbb_formatted_code);\n",
       "                        }\n",
       "                        break;\n",
       "                    }\n",
       "                }\n",
       "            }, 500);\n",
       "            "
      ],
      "text/plain": [
       "<IPython.core.display.Javascript object>"
      ]
     },
     "metadata": {},
     "output_type": "display_data"
    }
   ],
   "source": [
    "bt.root.values"
   ]
  },
  {
   "cell_type": "code",
   "execution_count": 88,
   "id": "93fcaa3e",
   "metadata": {},
   "outputs": [
    {
     "data": {
      "application/javascript": [
       "\n",
       "            setTimeout(function() {\n",
       "                var nbb_cell_id = 88;\n",
       "                var nbb_unformatted_code = \"bt.add(\\\"b\\\", 4)\";\n",
       "                var nbb_formatted_code = \"bt.add(\\\"b\\\", 4)\";\n",
       "                var nbb_cells = Jupyter.notebook.get_cells();\n",
       "                for (var i = 0; i < nbb_cells.length; ++i) {\n",
       "                    if (nbb_cells[i].input_prompt_number == nbb_cell_id) {\n",
       "                        if (nbb_cells[i].get_text() == nbb_unformatted_code) {\n",
       "                             nbb_cells[i].set_text(nbb_formatted_code);\n",
       "                        }\n",
       "                        break;\n",
       "                    }\n",
       "                }\n",
       "            }, 500);\n",
       "            "
      ],
      "text/plain": [
       "<IPython.core.display.Javascript object>"
      ]
     },
     "metadata": {},
     "output_type": "display_data"
    }
   ],
   "source": [
    "bt.add(\"b\", 4)"
   ]
  },
  {
   "cell_type": "code",
   "execution_count": 89,
   "id": "73a0ff1c",
   "metadata": {},
   "outputs": [
    {
     "data": {
      "text/plain": [
       "['b', 'k']"
      ]
     },
     "execution_count": 89,
     "metadata": {},
     "output_type": "execute_result"
    },
    {
     "data": {
      "application/javascript": [
       "\n",
       "            setTimeout(function() {\n",
       "                var nbb_cell_id = 89;\n",
       "                var nbb_unformatted_code = \"bt.root.keys\";\n",
       "                var nbb_formatted_code = \"bt.root.keys\";\n",
       "                var nbb_cells = Jupyter.notebook.get_cells();\n",
       "                for (var i = 0; i < nbb_cells.length; ++i) {\n",
       "                    if (nbb_cells[i].input_prompt_number == nbb_cell_id) {\n",
       "                        if (nbb_cells[i].get_text() == nbb_unformatted_code) {\n",
       "                             nbb_cells[i].set_text(nbb_formatted_code);\n",
       "                        }\n",
       "                        break;\n",
       "                    }\n",
       "                }\n",
       "            }, 500);\n",
       "            "
      ],
      "text/plain": [
       "<IPython.core.display.Javascript object>"
      ]
     },
     "metadata": {},
     "output_type": "display_data"
    }
   ],
   "source": [
    "bt.root.keys"
   ]
  },
  {
   "cell_type": "code",
   "execution_count": 90,
   "id": "f44e185a",
   "metadata": {},
   "outputs": [
    {
     "data": {
      "text/plain": [
       "[4, 9]"
      ]
     },
     "execution_count": 90,
     "metadata": {},
     "output_type": "execute_result"
    },
    {
     "data": {
      "application/javascript": [
       "\n",
       "            setTimeout(function() {\n",
       "                var nbb_cell_id = 90;\n",
       "                var nbb_unformatted_code = \"bt.root.values\";\n",
       "                var nbb_formatted_code = \"bt.root.values\";\n",
       "                var nbb_cells = Jupyter.notebook.get_cells();\n",
       "                for (var i = 0; i < nbb_cells.length; ++i) {\n",
       "                    if (nbb_cells[i].input_prompt_number == nbb_cell_id) {\n",
       "                        if (nbb_cells[i].get_text() == nbb_unformatted_code) {\n",
       "                             nbb_cells[i].set_text(nbb_formatted_code);\n",
       "                        }\n",
       "                        break;\n",
       "                    }\n",
       "                }\n",
       "            }, 500);\n",
       "            "
      ],
      "text/plain": [
       "<IPython.core.display.Javascript object>"
      ]
     },
     "metadata": {},
     "output_type": "display_data"
    }
   ],
   "source": [
    "bt.root.values"
   ]
  },
  {
   "cell_type": "code",
   "execution_count": 91,
   "id": "3274905f",
   "metadata": {},
   "outputs": [
    {
     "data": {
      "application/javascript": [
       "\n",
       "            setTimeout(function() {\n",
       "                var nbb_cell_id = 91;\n",
       "                var nbb_unformatted_code = \"bt.add(\\\"j\\\", 2)\";\n",
       "                var nbb_formatted_code = \"bt.add(\\\"j\\\", 2)\";\n",
       "                var nbb_cells = Jupyter.notebook.get_cells();\n",
       "                for (var i = 0; i < nbb_cells.length; ++i) {\n",
       "                    if (nbb_cells[i].input_prompt_number == nbb_cell_id) {\n",
       "                        if (nbb_cells[i].get_text() == nbb_unformatted_code) {\n",
       "                             nbb_cells[i].set_text(nbb_formatted_code);\n",
       "                        }\n",
       "                        break;\n",
       "                    }\n",
       "                }\n",
       "            }, 500);\n",
       "            "
      ],
      "text/plain": [
       "<IPython.core.display.Javascript object>"
      ]
     },
     "metadata": {},
     "output_type": "display_data"
    }
   ],
   "source": [
    "bt.add(\"j\", 2)"
   ]
  },
  {
   "cell_type": "code",
   "execution_count": 92,
   "id": "b8c1da87",
   "metadata": {},
   "outputs": [
    {
     "data": {
      "text/plain": [
       "['b']"
      ]
     },
     "execution_count": 92,
     "metadata": {},
     "output_type": "execute_result"
    },
    {
     "data": {
      "application/javascript": [
       "\n",
       "            setTimeout(function() {\n",
       "                var nbb_cell_id = 92;\n",
       "                var nbb_unformatted_code = \"bt.root.keys\";\n",
       "                var nbb_formatted_code = \"bt.root.keys\";\n",
       "                var nbb_cells = Jupyter.notebook.get_cells();\n",
       "                for (var i = 0; i < nbb_cells.length; ++i) {\n",
       "                    if (nbb_cells[i].input_prompt_number == nbb_cell_id) {\n",
       "                        if (nbb_cells[i].get_text() == nbb_unformatted_code) {\n",
       "                             nbb_cells[i].set_text(nbb_formatted_code);\n",
       "                        }\n",
       "                        break;\n",
       "                    }\n",
       "                }\n",
       "            }, 500);\n",
       "            "
      ],
      "text/plain": [
       "<IPython.core.display.Javascript object>"
      ]
     },
     "metadata": {},
     "output_type": "display_data"
    }
   ],
   "source": [
    "bt.root.keys"
   ]
  },
  {
   "cell_type": "code",
   "execution_count": 93,
   "id": "2a3f9e88",
   "metadata": {},
   "outputs": [
    {
     "data": {
      "text/plain": [
       "[4]"
      ]
     },
     "execution_count": 93,
     "metadata": {},
     "output_type": "execute_result"
    },
    {
     "data": {
      "application/javascript": [
       "\n",
       "            setTimeout(function() {\n",
       "                var nbb_cell_id = 93;\n",
       "                var nbb_unformatted_code = \"bt.root.values\";\n",
       "                var nbb_formatted_code = \"bt.root.values\";\n",
       "                var nbb_cells = Jupyter.notebook.get_cells();\n",
       "                for (var i = 0; i < nbb_cells.length; ++i) {\n",
       "                    if (nbb_cells[i].input_prompt_number == nbb_cell_id) {\n",
       "                        if (nbb_cells[i].get_text() == nbb_unformatted_code) {\n",
       "                             nbb_cells[i].set_text(nbb_formatted_code);\n",
       "                        }\n",
       "                        break;\n",
       "                    }\n",
       "                }\n",
       "            }, 500);\n",
       "            "
      ],
      "text/plain": [
       "<IPython.core.display.Javascript object>"
      ]
     },
     "metadata": {},
     "output_type": "display_data"
    }
   ],
   "source": [
    "bt.root.values"
   ]
  },
  {
   "cell_type": "code",
   "execution_count": 94,
   "id": "c1d0af5c",
   "metadata": {},
   "outputs": [
    {
     "data": {
      "application/javascript": [
       "\n",
       "            setTimeout(function() {\n",
       "                var nbb_cell_id = 94;\n",
       "                var nbb_unformatted_code = \"bt.add(\\\"j\\\", 5)\";\n",
       "                var nbb_formatted_code = \"bt.add(\\\"j\\\", 5)\";\n",
       "                var nbb_cells = Jupyter.notebook.get_cells();\n",
       "                for (var i = 0; i < nbb_cells.length; ++i) {\n",
       "                    if (nbb_cells[i].input_prompt_number == nbb_cell_id) {\n",
       "                        if (nbb_cells[i].get_text() == nbb_unformatted_code) {\n",
       "                             nbb_cells[i].set_text(nbb_formatted_code);\n",
       "                        }\n",
       "                        break;\n",
       "                    }\n",
       "                }\n",
       "            }, 500);\n",
       "            "
      ],
      "text/plain": [
       "<IPython.core.display.Javascript object>"
      ]
     },
     "metadata": {},
     "output_type": "display_data"
    }
   ],
   "source": [
    "bt.add(\"j\", 5)"
   ]
  },
  {
   "cell_type": "code",
   "execution_count": 95,
   "id": "d2817d27",
   "metadata": {},
   "outputs": [
    {
     "data": {
      "text/plain": [
       "4"
      ]
     },
     "execution_count": 95,
     "metadata": {},
     "output_type": "execute_result"
    },
    {
     "data": {
      "application/javascript": [
       "\n",
       "            setTimeout(function() {\n",
       "                var nbb_cell_id = 95;\n",
       "                var nbb_unformatted_code = \"bt.size\";\n",
       "                var nbb_formatted_code = \"bt.size\";\n",
       "                var nbb_cells = Jupyter.notebook.get_cells();\n",
       "                for (var i = 0; i < nbb_cells.length; ++i) {\n",
       "                    if (nbb_cells[i].input_prompt_number == nbb_cell_id) {\n",
       "                        if (nbb_cells[i].get_text() == nbb_unformatted_code) {\n",
       "                             nbb_cells[i].set_text(nbb_formatted_code);\n",
       "                        }\n",
       "                        break;\n",
       "                    }\n",
       "                }\n",
       "            }, 500);\n",
       "            "
      ],
      "text/plain": [
       "<IPython.core.display.Javascript object>"
      ]
     },
     "metadata": {},
     "output_type": "display_data"
    }
   ],
   "source": [
    "bt.size"
   ]
  },
  {
   "cell_type": "code",
   "execution_count": 96,
   "id": "94d8a673",
   "metadata": {},
   "outputs": [
    {
     "data": {
      "text/plain": [
       "1"
      ]
     },
     "execution_count": 96,
     "metadata": {},
     "output_type": "execute_result"
    },
    {
     "data": {
      "application/javascript": [
       "\n",
       "            setTimeout(function() {\n",
       "                var nbb_cell_id = 96;\n",
       "                var nbb_unformatted_code = \"bt.height\";\n",
       "                var nbb_formatted_code = \"bt.height\";\n",
       "                var nbb_cells = Jupyter.notebook.get_cells();\n",
       "                for (var i = 0; i < nbb_cells.length; ++i) {\n",
       "                    if (nbb_cells[i].input_prompt_number == nbb_cell_id) {\n",
       "                        if (nbb_cells[i].get_text() == nbb_unformatted_code) {\n",
       "                             nbb_cells[i].set_text(nbb_formatted_code);\n",
       "                        }\n",
       "                        break;\n",
       "                    }\n",
       "                }\n",
       "            }, 500);\n",
       "            "
      ],
      "text/plain": [
       "<IPython.core.display.Javascript object>"
      ]
     },
     "metadata": {},
     "output_type": "display_data"
    }
   ],
   "source": [
    "bt.height"
   ]
  },
  {
   "cell_type": "code",
   "execution_count": 100,
   "id": "e59c62eb",
   "metadata": {},
   "outputs": [
    {
     "data": {
      "text/plain": [
       "[2, 3]"
      ]
     },
     "execution_count": 100,
     "metadata": {},
     "output_type": "execute_result"
    },
    {
     "data": {
      "application/javascript": [
       "\n",
       "            setTimeout(function() {\n",
       "                var nbb_cell_id = 100;\n",
       "                var nbb_unformatted_code = \"test = [1,2,3,4,5]\\ntest[1:3]\";\n",
       "                var nbb_formatted_code = \"test = [1, 2, 3, 4, 5]\\ntest[1:3]\";\n",
       "                var nbb_cells = Jupyter.notebook.get_cells();\n",
       "                for (var i = 0; i < nbb_cells.length; ++i) {\n",
       "                    if (nbb_cells[i].input_prompt_number == nbb_cell_id) {\n",
       "                        if (nbb_cells[i].get_text() == nbb_unformatted_code) {\n",
       "                             nbb_cells[i].set_text(nbb_formatted_code);\n",
       "                        }\n",
       "                        break;\n",
       "                    }\n",
       "                }\n",
       "            }, 500);\n",
       "            "
      ],
      "text/plain": [
       "<IPython.core.display.Javascript object>"
      ]
     },
     "metadata": {},
     "output_type": "display_data"
    }
   ],
   "source": [
    "test = [1, 2, 3, 4, 5]\n",
    "test[1:3]"
   ]
  },
  {
   "cell_type": "code",
   "execution_count": 101,
   "id": "985486b6",
   "metadata": {},
   "outputs": [
    {
     "ename": "SyntaxError",
     "evalue": "invalid syntax (3480118680.py, line 1)",
     "output_type": "error",
     "traceback": [
      "\u001b[1;36m  Input \u001b[1;32mIn [101]\u001b[1;36m\u001b[0m\n\u001b[1;33m    test[[1:3]]\u001b[0m\n\u001b[1;37m           ^\u001b[0m\n\u001b[1;31mSyntaxError\u001b[0m\u001b[1;31m:\u001b[0m invalid syntax\n"
     ]
    },
    {
     "name": "stderr",
     "output_type": "stream",
     "text": [
      "ERROR:root:Cannot parse: 1:7: test[[1:3]]\n",
      "Traceback (most recent call last):\n",
      "  File \"C:\\Users\\Teres\\anaconda3\\lib\\site-packages\\lab_black.py\", line 218, in format_cell\n",
      "    formatted_code = _format_code(cell)\n",
      "  File \"C:\\Users\\Teres\\anaconda3\\lib\\site-packages\\lab_black.py\", line 29, in _format_code\n",
      "    return format_str(src_contents=code, mode=FileMode())\n",
      "  File \"C:\\Users\\Teres\\anaconda3\\lib\\site-packages\\black.py\", line 725, in format_str\n",
      "    src_node = lib2to3_parse(src_contents.lstrip(), mode.target_versions)\n",
      "  File \"C:\\Users\\Teres\\anaconda3\\lib\\site-packages\\black.py\", line 836, in lib2to3_parse\n",
      "    raise exc from None\n",
      "black.InvalidInput: Cannot parse: 1:7: test[[1:3]]\n"
     ]
    }
   ],
   "source": [
    "test[[1:3]]"
   ]
  },
  {
   "cell_type": "code",
   "execution_count": null,
   "id": "5913fe1c",
   "metadata": {},
   "outputs": [],
   "source": []
  }
 ],
 "metadata": {
  "kernelspec": {
   "display_name": "Python 3 (ipykernel)",
   "language": "python",
   "name": "python3"
  },
  "language_info": {
   "codemirror_mode": {
    "name": "ipython",
    "version": 3
   },
   "file_extension": ".py",
   "mimetype": "text/x-python",
   "name": "python",
   "nbconvert_exporter": "python",
   "pygments_lexer": "ipython3",
   "version": "3.9.12"
  }
 },
 "nbformat": 4,
 "nbformat_minor": 5
}
