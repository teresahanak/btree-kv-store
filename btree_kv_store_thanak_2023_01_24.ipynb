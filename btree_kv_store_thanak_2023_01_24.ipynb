{
 "cells": [
  {
   "cell_type": "markdown",
   "id": "3facc513",
   "metadata": {},
   "source": [
    "# B-tree Implementation for Key-value Store\n",
    "#### An example project illustring B-tree implementation in a key-value store, with numeric or non-numeric unique keys, range look-up, and functional and performance tests"
   ]
  },
  {
   "cell_type": "code",
   "execution_count": 77,
   "id": "17265e3e",
   "metadata": {},
   "outputs": [
    {
     "name": "stdout",
     "output_type": "stream",
     "text": [
      "The nb_black extension is already loaded. To reload it, use:\n",
      "  %reload_ext nb_black\n"
     ]
    },
    {
     "data": {
      "application/javascript": [
       "\n",
       "            setTimeout(function() {\n",
       "                var nbb_cell_id = 77;\n",
       "                var nbb_unformatted_code = \"# To structure code automatically\\n%load_ext nb_black\";\n",
       "                var nbb_formatted_code = \"# To structure code automatically\\n%load_ext nb_black\";\n",
       "                var nbb_cells = Jupyter.notebook.get_cells();\n",
       "                for (var i = 0; i < nbb_cells.length; ++i) {\n",
       "                    if (nbb_cells[i].input_prompt_number == nbb_cell_id) {\n",
       "                        if (nbb_cells[i].get_text() == nbb_unformatted_code) {\n",
       "                             nbb_cells[i].set_text(nbb_formatted_code);\n",
       "                        }\n",
       "                        break;\n",
       "                    }\n",
       "                }\n",
       "            }, 500);\n",
       "            "
      ],
      "text/plain": [
       "<IPython.core.display.Javascript object>"
      ]
     },
     "metadata": {},
     "output_type": "display_data"
    }
   ],
   "source": [
    "# To structure code automatically\n",
    "%load_ext nb_black"
   ]
  },
  {
   "cell_type": "markdown",
   "id": "ed3d10cf",
   "metadata": {},
   "source": [
    "### Node Implementation"
   ]
  },
  {
   "cell_type": "code",
   "execution_count": 78,
   "id": "2e02ae39",
   "metadata": {},
   "outputs": [
    {
     "data": {
      "application/javascript": [
       "\n",
       "            setTimeout(function() {\n",
       "                var nbb_cell_id = 78;\n",
       "                var nbb_unformatted_code = \"import bisect\\n\\n\\nclass Node:\\n    def __init__(self, keys=None, values=None, children=None, parent=None):\\n        self.keys = keys or []\\n        self.values = values or []\\n        self.parent = parent\\n        self.set_children(children)\\n\\n    def __len__(self):\\n        return len(self.values)\\n\\n    def set_children(self, children):\\n        self.children = children or []\\n        for child in self.children:\\n            child.parent = self\\n\\n    def is_leaf(self):\\n        return len(self.children) == 0\\n\\n    def contains_key(self, key):\\n        return key in self.keys\\n\\n    def get_value(self, key):\\n        for i, k in enumerate(self.keys):\\n            if k == key:\\n                return self.values[i]\\n        print(f'Key Error: \\\"{key}\\\" not found')\\n        return None\\n\\n    def get_insert_index(self, key):\\n        return bisect.bisect(self.keys, key)\\n\\n    def _update_entry(self, key, value):\\n        for i, k in enumerate(self.keys):\\n            if k == key:\\n                self.values[i] = value\\n\\n    def insert_entry(self, key, value):\\n        if self.contains_key(key):\\n            self._update_entry(key, value)\\n        else:\\n            insert_index = self.get_insert_index(key)\\n            self.keys.insert(insert_index, key)\\n            self.values.insert(insert_index, value)\\n            return insert_index  # insert_index used for insert_child call on split_with_parent\\n\\n    def split(self):\\n        if self.parent is None:\\n            return self._split_no_parent()\\n        return self._split_with_parent()\\n\\n    def _split_no_parent(self):\\n        split_index = len(self) // 2\\n        key_to_move_up = self.keys[split_index]\\n        value_to_move_up = self.values[split_index]\\n        right_node = Node(\\n            self.keys[split_index + 1 :],\\n            self.values[split_index + 1 :],\\n            self.children[split_index + 1 :],\\n        )\\n        self.keys = self.keys[:split_index]\\n        self.values = self.values[:split_index]\\n        self.children = self.children[: split_index + 1]\\n        parent = Node([key_to_move_up], [value_to_move_up], [self, right_node])\\n        return parent\\n\\n    def _insert_child(self, insert_index, child):\\n        self.children.insert(insert_index, child)\\n        child.parent = self\\n\\n    def _split_with_parent(self):\\n        split_index = len(self) // 2\\n        key_to_move_up = self.keys[split_index]\\n        value_to_move_up = self.values[split_index]\\n        right_node = Node(\\n            self.keys[split_index + 1 :],\\n            self.values[split_index + 1 :],\\n            self.children[split_index + 1 :],\\n        )\\n        self.keys = self.keys[:split_index]\\n        self.values = self.values[:split_index]\\n        self.children = self.children[: split_index + 1]\\n        insert_index = self.parent.insert_entry(key_to_move_up, value_to_move_up)\\n        self.parent._insert_child(insert_index + 1, right_node)\\n        return self.parent\";\n",
       "                var nbb_formatted_code = \"import bisect\\n\\n\\nclass Node:\\n    def __init__(self, keys=None, values=None, children=None, parent=None):\\n        self.keys = keys or []\\n        self.values = values or []\\n        self.parent = parent\\n        self.set_children(children)\\n\\n    def __len__(self):\\n        return len(self.values)\\n\\n    def set_children(self, children):\\n        self.children = children or []\\n        for child in self.children:\\n            child.parent = self\\n\\n    def is_leaf(self):\\n        return len(self.children) == 0\\n\\n    def contains_key(self, key):\\n        return key in self.keys\\n\\n    def get_value(self, key):\\n        for i, k in enumerate(self.keys):\\n            if k == key:\\n                return self.values[i]\\n        print(f'Key Error: \\\"{key}\\\" not found')\\n        return None\\n\\n    def get_insert_index(self, key):\\n        return bisect.bisect(self.keys, key)\\n\\n    def _update_entry(self, key, value):\\n        for i, k in enumerate(self.keys):\\n            if k == key:\\n                self.values[i] = value\\n\\n    def insert_entry(self, key, value):\\n        if self.contains_key(key):\\n            self._update_entry(key, value)\\n        else:\\n            insert_index = self.get_insert_index(key)\\n            self.keys.insert(insert_index, key)\\n            self.values.insert(insert_index, value)\\n            return insert_index  # insert_index used for insert_child call on split_with_parent\\n\\n    def split(self):\\n        if self.parent is None:\\n            return self._split_no_parent()\\n        return self._split_with_parent()\\n\\n    def _split_no_parent(self):\\n        split_index = len(self) // 2\\n        key_to_move_up = self.keys[split_index]\\n        value_to_move_up = self.values[split_index]\\n        right_node = Node(\\n            self.keys[split_index + 1 :],\\n            self.values[split_index + 1 :],\\n            self.children[split_index + 1 :],\\n        )\\n        self.keys = self.keys[:split_index]\\n        self.values = self.values[:split_index]\\n        self.children = self.children[: split_index + 1]\\n        parent = Node([key_to_move_up], [value_to_move_up], [self, right_node])\\n        return parent\\n\\n    def _insert_child(self, insert_index, child):\\n        self.children.insert(insert_index, child)\\n        child.parent = self\\n\\n    def _split_with_parent(self):\\n        split_index = len(self) // 2\\n        key_to_move_up = self.keys[split_index]\\n        value_to_move_up = self.values[split_index]\\n        right_node = Node(\\n            self.keys[split_index + 1 :],\\n            self.values[split_index + 1 :],\\n            self.children[split_index + 1 :],\\n        )\\n        self.keys = self.keys[:split_index]\\n        self.values = self.values[:split_index]\\n        self.children = self.children[: split_index + 1]\\n        insert_index = self.parent.insert_entry(key_to_move_up, value_to_move_up)\\n        self.parent._insert_child(insert_index + 1, right_node)\\n        return self.parent\";\n",
       "                var nbb_cells = Jupyter.notebook.get_cells();\n",
       "                for (var i = 0; i < nbb_cells.length; ++i) {\n",
       "                    if (nbb_cells[i].input_prompt_number == nbb_cell_id) {\n",
       "                        if (nbb_cells[i].get_text() == nbb_unformatted_code) {\n",
       "                             nbb_cells[i].set_text(nbb_formatted_code);\n",
       "                        }\n",
       "                        break;\n",
       "                    }\n",
       "                }\n",
       "            }, 500);\n",
       "            "
      ],
      "text/plain": [
       "<IPython.core.display.Javascript object>"
      ]
     },
     "metadata": {},
     "output_type": "display_data"
    }
   ],
   "source": [
    "import bisect\n",
    "\n",
    "\n",
    "class Node:\n",
    "    def __init__(self, keys=None, values=None, children=None, parent=None):\n",
    "        self.keys = keys or []\n",
    "        self.values = values or []\n",
    "        self.parent = parent\n",
    "        self.set_children(children)\n",
    "\n",
    "    def __len__(self):\n",
    "        return len(self.values)\n",
    "\n",
    "    def set_children(self, children):\n",
    "        self.children = children or []\n",
    "        for child in self.children:\n",
    "            child.parent = self\n",
    "\n",
    "    def is_leaf(self):\n",
    "        return len(self.children) == 0\n",
    "\n",
    "    def contains_key(self, key):\n",
    "        return key in self.keys\n",
    "\n",
    "    def get_value(self, key):\n",
    "        for i, k in enumerate(self.keys):\n",
    "            if k == key:\n",
    "                return self.values[i]\n",
    "        print(f'Key Error: \"{key}\" not found')\n",
    "        return None\n",
    "\n",
    "    def get_insert_index(self, key):\n",
    "        return bisect.bisect(self.keys, key)\n",
    "\n",
    "    def _update_entry(self, key, value):\n",
    "        for i, k in enumerate(self.keys):\n",
    "            if k == key:\n",
    "                self.values[i] = value\n",
    "\n",
    "    def insert_entry(self, key, value):\n",
    "        if self.contains_key(key):\n",
    "            self._update_entry(key, value)\n",
    "        else:\n",
    "            insert_index = self.get_insert_index(key)\n",
    "            self.keys.insert(insert_index, key)\n",
    "            self.values.insert(insert_index, value)\n",
    "            return insert_index  # insert_index used for insert_child call on split_with_parent\n",
    "\n",
    "    def split(self):\n",
    "        if self.parent is None:\n",
    "            return self._split_no_parent()\n",
    "        return self._split_with_parent()\n",
    "\n",
    "    def _split_no_parent(self):\n",
    "        split_index = len(self) // 2\n",
    "        key_to_move_up = self.keys[split_index]\n",
    "        value_to_move_up = self.values[split_index]\n",
    "        right_node = Node(\n",
    "            self.keys[split_index + 1 :],\n",
    "            self.values[split_index + 1 :],\n",
    "            self.children[split_index + 1 :],\n",
    "        )\n",
    "        self.keys = self.keys[:split_index]\n",
    "        self.values = self.values[:split_index]\n",
    "        self.children = self.children[: split_index + 1]\n",
    "        parent = Node([key_to_move_up], [value_to_move_up], [self, right_node])\n",
    "        return parent\n",
    "\n",
    "    def _insert_child(self, insert_index, child):\n",
    "        self.children.insert(insert_index, child)\n",
    "        child.parent = self\n",
    "\n",
    "    def _split_with_parent(self):\n",
    "        split_index = len(self) // 2\n",
    "        key_to_move_up = self.keys[split_index]\n",
    "        value_to_move_up = self.values[split_index]\n",
    "        right_node = Node(\n",
    "            self.keys[split_index + 1 :],\n",
    "            self.values[split_index + 1 :],\n",
    "            self.children[split_index + 1 :],\n",
    "        )\n",
    "        self.keys = self.keys[:split_index]\n",
    "        self.values = self.values[:split_index]\n",
    "        self.children = self.children[: split_index + 1]\n",
    "        insert_index = self.parent.insert_entry(key_to_move_up, value_to_move_up)\n",
    "        self.parent._insert_child(insert_index + 1, right_node)\n",
    "        return self.parent"
   ]
  },
  {
   "cell_type": "markdown",
   "id": "68967701",
   "metadata": {},
   "source": [
    "### B-tree Implementation"
   ]
  },
  {
   "cell_type": "code",
   "execution_count": 79,
   "id": "539da8ac",
   "metadata": {},
   "outputs": [
    {
     "data": {
      "application/javascript": [
       "\n",
       "            setTimeout(function() {\n",
       "                var nbb_cell_id = 79;\n",
       "                var nbb_unformatted_code = \"class BTree:\\n    def __init__(self, split_threshold=2):\\n        self.root = Node()\\n        self.height = 0\\n        self.size = 0\\n        self.split_threshold = split_threshold\\n\\n    def __len__(self):\\n        return self.size\\n\\n    def _add(self, current_node, key, value):\\n        if current_node.is_leaf():\\n            len_before = len(current_node)\\n            current_node.insert_entry(key, value)\\n            if len(current_node) > len_before:\\n                self.size += 1\\n        else:\\n            child_index = current_node.get_insert_index(key)\\n            self._add(current_node.children[child_index], key, value)\\n        if len(current_node) > self.split_threshold:\\n            parent = current_node.split()\\n            if current_node == self.root:\\n                self.root = parent\\n                self.height += 1\\n\\n    def add(self, key, value):\\n        self._add(self.root, key, value)\\n\\n\\n    def _find_node(self, current_node, key):\\n        if current_node.contains_key(key):\\n            return current_node\\n        if current_node.is_leaf():\\n            return None\\n        child_index = current_node.get_insert_index(key)\\n        return self._find_node(current_node.children[child_index], key)\\n\\n    def contains(self, key):\\n        node = self._find_node(self.root, key)\\n        return node is not None\\n\\n    def get_value(self, key):\\n        node = self._find_node(self.root, key)\\n        if node is not None:\\n            for i, k in enumerate(node.keys):\\n                if k == key:\\n                    return node.values[i]\\n                \\n    def _range_query(\\n        self, current_node, range_start, range_end, min_key, max_key,\\n    ):\\n        if range_end < min_key or range_start > max_key:\\n            return []\\n        results = []\\n        for i, key in enumerate(current_node.keys):\\n            if range_start <= key <= range_end:\\n                results.append(current_node.values[i])\\n        if not current_node.is_leaf():\\n            for i, child in enumerate(current_node.children):\\n                new_min_key = current_node.keys[i - 1] if i > 0 else min_key\\n                new_max_key = current_node.keys[i] if i < len(current_node) else max_key\\n                results += self._range_query(\\n                    child, range_start, range_end, new_min_key, new_max_key\\n                )\\n        return results\\n\\n    def range_query(self, range_start, range_end):\\n        return self._range_query(\\n            self.root, range_start, range_end, float(\\\"-inf\\\"), float(\\\"inf\\\")\\n        )\";\n",
       "                var nbb_formatted_code = \"class BTree:\\n    def __init__(self, split_threshold=2):\\n        self.root = Node()\\n        self.height = 0\\n        self.size = 0\\n        self.split_threshold = split_threshold\\n\\n    def __len__(self):\\n        return self.size\\n\\n    def _add(self, current_node, key, value):\\n        if current_node.is_leaf():\\n            len_before = len(current_node)\\n            current_node.insert_entry(key, value)\\n            if len(current_node) > len_before:\\n                self.size += 1\\n        else:\\n            child_index = current_node.get_insert_index(key)\\n            self._add(current_node.children[child_index], key, value)\\n        if len(current_node) > self.split_threshold:\\n            parent = current_node.split()\\n            if current_node == self.root:\\n                self.root = parent\\n                self.height += 1\\n\\n    def add(self, key, value):\\n        self._add(self.root, key, value)\\n\\n    def _find_node(self, current_node, key):\\n        if current_node.contains_key(key):\\n            return current_node\\n        if current_node.is_leaf():\\n            return None\\n        child_index = current_node.get_insert_index(key)\\n        return self._find_node(current_node.children[child_index], key)\\n\\n    def contains(self, key):\\n        node = self._find_node(self.root, key)\\n        return node is not None\\n\\n    def get_value(self, key):\\n        node = self._find_node(self.root, key)\\n        if node is not None:\\n            for i, k in enumerate(node.keys):\\n                if k == key:\\n                    return node.values[i]\\n\\n    def _range_query(\\n        self, current_node, range_start, range_end, min_key, max_key,\\n    ):\\n        if range_end < min_key or range_start > max_key:\\n            return []\\n        results = []\\n        for i, key in enumerate(current_node.keys):\\n            if range_start <= key <= range_end:\\n                results.append(current_node.values[i])\\n        if not current_node.is_leaf():\\n            for i, child in enumerate(current_node.children):\\n                new_min_key = current_node.keys[i - 1] if i > 0 else min_key\\n                new_max_key = current_node.keys[i] if i < len(current_node) else max_key\\n                results += self._range_query(\\n                    child, range_start, range_end, new_min_key, new_max_key\\n                )\\n        return results\\n\\n    def range_query(self, range_start, range_end):\\n        return self._range_query(\\n            self.root, range_start, range_end, float(\\\"-inf\\\"), float(\\\"inf\\\")\\n        )\";\n",
       "                var nbb_cells = Jupyter.notebook.get_cells();\n",
       "                for (var i = 0; i < nbb_cells.length; ++i) {\n",
       "                    if (nbb_cells[i].input_prompt_number == nbb_cell_id) {\n",
       "                        if (nbb_cells[i].get_text() == nbb_unformatted_code) {\n",
       "                             nbb_cells[i].set_text(nbb_formatted_code);\n",
       "                        }\n",
       "                        break;\n",
       "                    }\n",
       "                }\n",
       "            }, 500);\n",
       "            "
      ],
      "text/plain": [
       "<IPython.core.display.Javascript object>"
      ]
     },
     "metadata": {},
     "output_type": "display_data"
    }
   ],
   "source": [
    "class BTree:\n",
    "    def __init__(self, split_threshold=2):\n",
    "        self.root = Node()\n",
    "        self.height = 0\n",
    "        self.size = 0\n",
    "        self.split_threshold = split_threshold\n",
    "\n",
    "    def __len__(self):\n",
    "        return self.size\n",
    "\n",
    "    def _add(self, current_node, key, value):\n",
    "        if current_node.is_leaf():\n",
    "            len_before = len(current_node)\n",
    "            current_node.insert_entry(key, value)\n",
    "            if len(current_node) > len_before:\n",
    "                self.size += 1\n",
    "        else:\n",
    "            child_index = current_node.get_insert_index(key)\n",
    "            self._add(current_node.children[child_index], key, value)\n",
    "        if len(current_node) > self.split_threshold:\n",
    "            parent = current_node.split()\n",
    "            if current_node == self.root:\n",
    "                self.root = parent\n",
    "                self.height += 1\n",
    "\n",
    "    def add(self, key, value):\n",
    "        self._add(self.root, key, value)\n",
    "\n",
    "\n",
    "    def _find_node(self, current_node, key):\n",
    "        if current_node.contains_key(key):\n",
    "            return current_node\n",
    "        if current_node.is_leaf():\n",
    "            return None\n",
    "        child_index = current_node.get_insert_index(key)\n",
    "        return self._find_node(current_node.children[child_index], key)\n",
    "\n",
    "    def contains(self, key):\n",
    "        node = self._find_node(self.root, key)\n",
    "        return node is not None\n",
    "\n",
    "    def get_value(self, key):\n",
    "        node = self._find_node(self.root, key)\n",
    "        if node is not None:\n",
    "            for i, k in enumerate(node.keys):\n",
    "                if k == key:\n",
    "                    return node.values[i]\n",
    "                \n",
    "    def _range_query(\n",
    "        self, current_node, range_start, range_end, min_key, max_key,\n",
    "    ):\n",
    "        if range_end < min_key or range_start > max_key:\n",
    "            return []\n",
    "        results = []\n",
    "        for i, key in enumerate(current_node.keys):\n",
    "            if range_start <= key <= range_end:\n",
    "                results.append(current_node.values[i])\n",
    "        if not current_node.is_leaf():\n",
    "            for i, child in enumerate(current_node.children):\n",
    "                new_min_key = current_node.keys[i - 1] if i > 0 else min_key\n",
    "                new_max_key = current_node.keys[i] if i < len(current_node) else max_key\n",
    "                results += self._range_query(\n",
    "                    child, range_start, range_end, new_min_key, new_max_key\n",
    "                )\n",
    "        return results\n",
    "\n",
    "    def range_query(self, range_start, range_end):\n",
    "        return self._range_query(\n",
    "            self.root, range_start, range_end, float(\"-inf\"), float(\"inf\")\n",
    "        )\n"
   ]
  },
  {
   "cell_type": "code",
   "execution_count": 80,
   "id": "851cb7bb",
   "metadata": {},
   "outputs": [
    {
     "data": {
      "application/javascript": [
       "\n",
       "            setTimeout(function() {\n",
       "                var nbb_cell_id = 80;\n",
       "                var nbb_unformatted_code = \"bt = BTree()\\nfor i in range(10):\\n    bt.add(i, i)\";\n",
       "                var nbb_formatted_code = \"bt = BTree()\\nfor i in range(10):\\n    bt.add(i, i)\";\n",
       "                var nbb_cells = Jupyter.notebook.get_cells();\n",
       "                for (var i = 0; i < nbb_cells.length; ++i) {\n",
       "                    if (nbb_cells[i].input_prompt_number == nbb_cell_id) {\n",
       "                        if (nbb_cells[i].get_text() == nbb_unformatted_code) {\n",
       "                             nbb_cells[i].set_text(nbb_formatted_code);\n",
       "                        }\n",
       "                        break;\n",
       "                    }\n",
       "                }\n",
       "            }, 500);\n",
       "            "
      ],
      "text/plain": [
       "<IPython.core.display.Javascript object>"
      ]
     },
     "metadata": {},
     "output_type": "display_data"
    }
   ],
   "source": [
    "bt = BTree()\n",
    "for i in range(10):\n",
    "    bt.add(i, i)"
   ]
  },
  {
   "cell_type": "code",
   "execution_count": 81,
   "id": "cc66cd5a",
   "metadata": {},
   "outputs": [
    {
     "data": {
      "text/plain": [
       "[3, 2, 4]"
      ]
     },
     "execution_count": 81,
     "metadata": {},
     "output_type": "execute_result"
    },
    {
     "data": {
      "application/javascript": [
       "\n",
       "            setTimeout(function() {\n",
       "                var nbb_cell_id = 81;\n",
       "                var nbb_unformatted_code = \"bt.range_query(2, 4)\";\n",
       "                var nbb_formatted_code = \"bt.range_query(2, 4)\";\n",
       "                var nbb_cells = Jupyter.notebook.get_cells();\n",
       "                for (var i = 0; i < nbb_cells.length; ++i) {\n",
       "                    if (nbb_cells[i].input_prompt_number == nbb_cell_id) {\n",
       "                        if (nbb_cells[i].get_text() == nbb_unformatted_code) {\n",
       "                             nbb_cells[i].set_text(nbb_formatted_code);\n",
       "                        }\n",
       "                        break;\n",
       "                    }\n",
       "                }\n",
       "            }, 500);\n",
       "            "
      ],
      "text/plain": [
       "<IPython.core.display.Javascript object>"
      ]
     },
     "metadata": {},
     "output_type": "display_data"
    }
   ],
   "source": [
    "bt.range_query(2, 4)"
   ]
  },
  {
   "cell_type": "code",
   "execution_count": 82,
   "id": "b5701a24",
   "metadata": {},
   "outputs": [
    {
     "data": {
      "text/plain": [
       "[2]"
      ]
     },
     "execution_count": 82,
     "metadata": {},
     "output_type": "execute_result"
    },
    {
     "data": {
      "application/javascript": [
       "\n",
       "            setTimeout(function() {\n",
       "                var nbb_cell_id = 82;\n",
       "                var nbb_unformatted_code = \"bt.range_query(2, 2)\";\n",
       "                var nbb_formatted_code = \"bt.range_query(2, 2)\";\n",
       "                var nbb_cells = Jupyter.notebook.get_cells();\n",
       "                for (var i = 0; i < nbb_cells.length; ++i) {\n",
       "                    if (nbb_cells[i].input_prompt_number == nbb_cell_id) {\n",
       "                        if (nbb_cells[i].get_text() == nbb_unformatted_code) {\n",
       "                             nbb_cells[i].set_text(nbb_formatted_code);\n",
       "                        }\n",
       "                        break;\n",
       "                    }\n",
       "                }\n",
       "            }, 500);\n",
       "            "
      ],
      "text/plain": [
       "<IPython.core.display.Javascript object>"
      ]
     },
     "metadata": {},
     "output_type": "display_data"
    }
   ],
   "source": [
    "bt.range_query(2, 2)"
   ]
  },
  {
   "cell_type": "code",
   "execution_count": 83,
   "id": "e766e06c",
   "metadata": {},
   "outputs": [
    {
     "data": {
      "text/plain": [
       "False"
      ]
     },
     "execution_count": 83,
     "metadata": {},
     "output_type": "execute_result"
    },
    {
     "data": {
      "application/javascript": [
       "\n",
       "            setTimeout(function() {\n",
       "                var nbb_cell_id = 83;\n",
       "                var nbb_unformatted_code = \"bt.contains(11)\";\n",
       "                var nbb_formatted_code = \"bt.contains(11)\";\n",
       "                var nbb_cells = Jupyter.notebook.get_cells();\n",
       "                for (var i = 0; i < nbb_cells.length; ++i) {\n",
       "                    if (nbb_cells[i].input_prompt_number == nbb_cell_id) {\n",
       "                        if (nbb_cells[i].get_text() == nbb_unformatted_code) {\n",
       "                             nbb_cells[i].set_text(nbb_formatted_code);\n",
       "                        }\n",
       "                        break;\n",
       "                    }\n",
       "                }\n",
       "            }, 500);\n",
       "            "
      ],
      "text/plain": [
       "<IPython.core.display.Javascript object>"
      ]
     },
     "metadata": {},
     "output_type": "display_data"
    }
   ],
   "source": [
    "bt.contains(11)"
   ]
  },
  {
   "cell_type": "code",
   "execution_count": 84,
   "id": "a73ee44d",
   "metadata": {},
   "outputs": [
    {
     "data": {
      "text/plain": [
       "9"
      ]
     },
     "execution_count": 84,
     "metadata": {},
     "output_type": "execute_result"
    },
    {
     "data": {
      "application/javascript": [
       "\n",
       "            setTimeout(function() {\n",
       "                var nbb_cell_id = 84;\n",
       "                var nbb_unformatted_code = \"bt.get_value(9)\";\n",
       "                var nbb_formatted_code = \"bt.get_value(9)\";\n",
       "                var nbb_cells = Jupyter.notebook.get_cells();\n",
       "                for (var i = 0; i < nbb_cells.length; ++i) {\n",
       "                    if (nbb_cells[i].input_prompt_number == nbb_cell_id) {\n",
       "                        if (nbb_cells[i].get_text() == nbb_unformatted_code) {\n",
       "                             nbb_cells[i].set_text(nbb_formatted_code);\n",
       "                        }\n",
       "                        break;\n",
       "                    }\n",
       "                }\n",
       "            }, 500);\n",
       "            "
      ],
      "text/plain": [
       "<IPython.core.display.Javascript object>"
      ]
     },
     "metadata": {},
     "output_type": "display_data"
    }
   ],
   "source": [
    "bt.get_value(9)"
   ]
  },
  {
   "cell_type": "code",
   "execution_count": 85,
   "id": "5948920c",
   "metadata": {},
   "outputs": [
    {
     "data": {
      "text/plain": [
       "9"
      ]
     },
     "execution_count": 85,
     "metadata": {},
     "output_type": "execute_result"
    },
    {
     "data": {
      "application/javascript": [
       "\n",
       "            setTimeout(function() {\n",
       "                var nbb_cell_id = 85;\n",
       "                var nbb_unformatted_code = \"bt.get_value(9)\";\n",
       "                var nbb_formatted_code = \"bt.get_value(9)\";\n",
       "                var nbb_cells = Jupyter.notebook.get_cells();\n",
       "                for (var i = 0; i < nbb_cells.length; ++i) {\n",
       "                    if (nbb_cells[i].input_prompt_number == nbb_cell_id) {\n",
       "                        if (nbb_cells[i].get_text() == nbb_unformatted_code) {\n",
       "                             nbb_cells[i].set_text(nbb_formatted_code);\n",
       "                        }\n",
       "                        break;\n",
       "                    }\n",
       "                }\n",
       "            }, 500);\n",
       "            "
      ],
      "text/plain": [
       "<IPython.core.display.Javascript object>"
      ]
     },
     "metadata": {},
     "output_type": "display_data"
    }
   ],
   "source": [
    "bt.get_value(9)"
   ]
  },
  {
   "cell_type": "code",
   "execution_count": null,
   "id": "fb324026",
   "metadata": {},
   "outputs": [],
   "source": []
  },
  {
   "cell_type": "code",
   "execution_count": null,
   "id": "9f36d416",
   "metadata": {},
   "outputs": [],
   "source": []
  }
 ],
 "metadata": {
  "kernelspec": {
   "display_name": "Python 3 (ipykernel)",
   "language": "python",
   "name": "python3"
  },
  "language_info": {
   "codemirror_mode": {
    "name": "ipython",
    "version": 3
   },
   "file_extension": ".py",
   "mimetype": "text/x-python",
   "name": "python",
   "nbconvert_exporter": "python",
   "pygments_lexer": "ipython3",
   "version": "3.9.12"
  }
 },
 "nbformat": 4,
 "nbformat_minor": 5
}
