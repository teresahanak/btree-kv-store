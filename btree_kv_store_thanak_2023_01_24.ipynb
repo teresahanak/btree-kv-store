{
 "cells": [
  {
   "cell_type": "markdown",
   "id": "3facc513",
   "metadata": {},
   "source": [
    "# B-tree Implementation for Key-value Store\n",
    "### B-Tree Implementation in a Key-value Store, with Numeric or Non-numeric Unique Keys, Range Look-Up, and Functional and Performance Tests\n",
    "\n",
    "Our objective is to create a key-value store that is more efficient for range queries when compared to a key-value store reliant on the built-in dictionary implementation.  We will take the following steps:\n",
    "1. Import base class BTree, implemented in btree.py.  Its base class, Node, is implemented in node.py\n",
    "2. Implement KVStore with the following:\n",
    "    - inheritance from `BTree`\n",
    "    - `split_threshold` attribute with default of 2, which determines the size (lengths of lists for keys and values) of any given node\n",
    "    - getter and setter methods to add bracket syntax (i.e., `kv_instance[key] = value`, etc.); note that value overwrite functionality for unique keys is inherited from the `Node` class via the `BTree` class\n",
    "    -  `in` operator or `__contains__()` method (i.e., `key in kv_instance`)\n",
    "    - `range_query()` method for both numeric OR string keys (i.e., `kv_instance.range_query(range_start, range_end`) to return all values for keys in given range\n",
    "    - `find_min_key()` and `find_max_key()` methods\n",
    "3. Test of the above for numeric keys\n",
    "4. Test for string keys, as indicated\n",
    "5. Extend built-in `dict` class with `range_query` method for comparison in `DictKVStore` class\n",
    "6. Confirm `KVStore` and `DictKVStore` obtain matching results for inserts/retrievals/range queries\n",
    "7. Random tests of functionality of `KVStore` with `DictKVStore` as baseline\n",
    "8. Speed tests of `KVStore` vs `DictKVStore`"
   ]
  },
  {
   "cell_type": "code",
   "execution_count": 1,
   "id": "17265e3e",
   "metadata": {},
   "outputs": [
    {
     "data": {
      "application/javascript": [
       "\n",
       "            setTimeout(function() {\n",
       "                var nbb_cell_id = 1;\n",
       "                var nbb_unformatted_code = \"# To structure code automatically\\n%load_ext nb_black\";\n",
       "                var nbb_formatted_code = \"# To structure code automatically\\n%load_ext nb_black\";\n",
       "                var nbb_cells = Jupyter.notebook.get_cells();\n",
       "                for (var i = 0; i < nbb_cells.length; ++i) {\n",
       "                    if (nbb_cells[i].input_prompt_number == nbb_cell_id) {\n",
       "                        if (nbb_cells[i].get_text() == nbb_unformatted_code) {\n",
       "                             nbb_cells[i].set_text(nbb_formatted_code);\n",
       "                        }\n",
       "                        break;\n",
       "                    }\n",
       "                }\n",
       "            }, 500);\n",
       "            "
      ],
      "text/plain": [
       "<IPython.core.display.Javascript object>"
      ]
     },
     "metadata": {},
     "output_type": "display_data"
    }
   ],
   "source": [
    "# To structure code automatically\n",
    "%load_ext nb_black"
   ]
  },
  {
   "cell_type": "markdown",
   "id": "d8be8816",
   "metadata": {},
   "source": [
    "### Import B-Tree Implementation"
   ]
  },
  {
   "cell_type": "code",
   "execution_count": 2,
   "id": "15721cf8",
   "metadata": {},
   "outputs": [
    {
     "data": {
      "application/javascript": [
       "\n",
       "            setTimeout(function() {\n",
       "                var nbb_cell_id = 2;\n",
       "                var nbb_unformatted_code = \"# Base class BTree from btree.py, which derived class of Node class from node.py\\nfrom btree import BTree\";\n",
       "                var nbb_formatted_code = \"# Base class BTree from btree.py, which derived class of Node class from node.py\\nfrom btree import BTree\";\n",
       "                var nbb_cells = Jupyter.notebook.get_cells();\n",
       "                for (var i = 0; i < nbb_cells.length; ++i) {\n",
       "                    if (nbb_cells[i].input_prompt_number == nbb_cell_id) {\n",
       "                        if (nbb_cells[i].get_text() == nbb_unformatted_code) {\n",
       "                             nbb_cells[i].set_text(nbb_formatted_code);\n",
       "                        }\n",
       "                        break;\n",
       "                    }\n",
       "                }\n",
       "            }, 500);\n",
       "            "
      ],
      "text/plain": [
       "<IPython.core.display.Javascript object>"
      ]
     },
     "metadata": {},
     "output_type": "display_data"
    }
   ],
   "source": [
    "# Base class BTree from btree.py, which derived class of Node class from node.py\n",
    "from btree import BTree"
   ]
  },
  {
   "cell_type": "markdown",
   "id": "be977f36",
   "metadata": {},
   "source": [
    "### KVStore Implementation"
   ]
  },
  {
   "cell_type": "code",
   "execution_count": 3,
   "id": "ffa7c353",
   "metadata": {},
   "outputs": [
    {
     "data": {
      "application/javascript": [
       "\n",
       "            setTimeout(function() {\n",
       "                var nbb_cell_id = 3;\n",
       "                var nbb_unformatted_code = \"class KVStore(BTree):\\n    def __init__(self, split_threshold=2):\\n        super().__init__(split_threshold)\\n\\n    def __getitem__(self, key):\\n        return self.get_value(key)\\n\\n    def __setitem__(self, key, value):\\n        self.add(key, value)\\n\\n    def __contains__(self, key):\\n        return self.contains(key)\\n\\n    def _find_min_key(self, current_node):\\n        if current_node.is_leaf():\\n            return current_node.keys[0]\\n        if current_node.keys[0] < current_node.children[0].keys[0]:\\n            return current_node.keys[0]\\n        else:\\n            return self._find_min_key(current_node.children[0])\\n\\n    def find_min_key(self):\\n        return self._find_min_key(self.root)\\n\\n    def _find_max_key(self, current_node):\\n        if current_node.is_leaf():\\n            return current_node.keys[-1]\\n        if current_node.keys[-1] > current_node.children[-1].keys[-1]:\\n            return current_node.keys[-1]\\n        else:\\n            return self._find_max_key(current_node.children[-1])\\n\\n    def find_max_key(self):\\n        return self._find_max_key(self.root)\\n\\n    def _range_query(\\n        self, current_node, range_start, range_end, min_key, max_key,\\n    ):\\n        if range_end < min_key or range_start > max_key:\\n            return []\\n        results = []\\n        for i, key in enumerate(current_node.keys):\\n            if range_start <= key <= range_end:\\n                results.append(current_node.values[i])\\n        if not current_node.is_leaf():\\n            for i, child in enumerate(current_node.children):\\n                new_min_key = current_node.keys[i - 1] if i > 0 else min_key\\n                new_max_key = current_node.keys[i] if i < len(current_node) else max_key\\n                results += self._range_query(\\n                    child, range_start, range_end, new_min_key, new_max_key\\n                )\\n        return results\\n\\n    def range_query(self, range_start, range_end):\\n        key_numeric = str(range_start).isnumeric()\\n        if key_numeric:\\n            min_key = float(\\\"-inf\\\")\\n            max_key = float(\\\"inf\\\")\\n        else:\\n            str_factor = len(range_end) + 1\\n            min_key = \\\"\\\"\\n            max_key = \\\"z\\\" * str_factor\\n\\n        return self._range_query(self.root, range_start, range_end, min_key, max_key,)\";\n",
       "                var nbb_formatted_code = \"class KVStore(BTree):\\n    def __init__(self, split_threshold=2):\\n        super().__init__(split_threshold)\\n\\n    def __getitem__(self, key):\\n        return self.get_value(key)\\n\\n    def __setitem__(self, key, value):\\n        self.add(key, value)\\n\\n    def __contains__(self, key):\\n        return self.contains(key)\\n\\n    def _find_min_key(self, current_node):\\n        if current_node.is_leaf():\\n            return current_node.keys[0]\\n        if current_node.keys[0] < current_node.children[0].keys[0]:\\n            return current_node.keys[0]\\n        else:\\n            return self._find_min_key(current_node.children[0])\\n\\n    def find_min_key(self):\\n        return self._find_min_key(self.root)\\n\\n    def _find_max_key(self, current_node):\\n        if current_node.is_leaf():\\n            return current_node.keys[-1]\\n        if current_node.keys[-1] > current_node.children[-1].keys[-1]:\\n            return current_node.keys[-1]\\n        else:\\n            return self._find_max_key(current_node.children[-1])\\n\\n    def find_max_key(self):\\n        return self._find_max_key(self.root)\\n\\n    def _range_query(\\n        self, current_node, range_start, range_end, min_key, max_key,\\n    ):\\n        if range_end < min_key or range_start > max_key:\\n            return []\\n        results = []\\n        for i, key in enumerate(current_node.keys):\\n            if range_start <= key <= range_end:\\n                results.append(current_node.values[i])\\n        if not current_node.is_leaf():\\n            for i, child in enumerate(current_node.children):\\n                new_min_key = current_node.keys[i - 1] if i > 0 else min_key\\n                new_max_key = current_node.keys[i] if i < len(current_node) else max_key\\n                results += self._range_query(\\n                    child, range_start, range_end, new_min_key, new_max_key\\n                )\\n        return results\\n\\n    def range_query(self, range_start, range_end):\\n        key_numeric = str(range_start).isnumeric()\\n        if key_numeric:\\n            min_key = float(\\\"-inf\\\")\\n            max_key = float(\\\"inf\\\")\\n        else:\\n            str_factor = len(range_end) + 1\\n            min_key = \\\"\\\"\\n            max_key = \\\"z\\\" * str_factor\\n\\n        return self._range_query(self.root, range_start, range_end, min_key, max_key,)\";\n",
       "                var nbb_cells = Jupyter.notebook.get_cells();\n",
       "                for (var i = 0; i < nbb_cells.length; ++i) {\n",
       "                    if (nbb_cells[i].input_prompt_number == nbb_cell_id) {\n",
       "                        if (nbb_cells[i].get_text() == nbb_unformatted_code) {\n",
       "                             nbb_cells[i].set_text(nbb_formatted_code);\n",
       "                        }\n",
       "                        break;\n",
       "                    }\n",
       "                }\n",
       "            }, 500);\n",
       "            "
      ],
      "text/plain": [
       "<IPython.core.display.Javascript object>"
      ]
     },
     "metadata": {},
     "output_type": "display_data"
    }
   ],
   "source": [
    "class KVStore(BTree):\n",
    "    def __init__(self, split_threshold=2):\n",
    "        super().__init__(split_threshold)\n",
    "\n",
    "    def __getitem__(self, key):\n",
    "        return self.get_value(key)\n",
    "\n",
    "    def __setitem__(self, key, value):\n",
    "        self.add(key, value)\n",
    "\n",
    "    def __contains__(self, key):\n",
    "        return self.contains(key)\n",
    "\n",
    "    def _find_min_key(self, current_node):\n",
    "        if current_node.is_leaf():\n",
    "            return current_node.keys[0]\n",
    "        if current_node.keys[0] < current_node.children[0].keys[0]:\n",
    "            return current_node.keys[0]\n",
    "        else:\n",
    "            return self._find_min_key(current_node.children[0])\n",
    "\n",
    "    def find_min_key(self):\n",
    "        return self._find_min_key(self.root)\n",
    "\n",
    "    def _find_max_key(self, current_node):\n",
    "        if current_node.is_leaf():\n",
    "            return current_node.keys[-1]\n",
    "        if current_node.keys[-1] > current_node.children[-1].keys[-1]:\n",
    "            return current_node.keys[-1]\n",
    "        else:\n",
    "            return self._find_max_key(current_node.children[-1])\n",
    "\n",
    "    def find_max_key(self):\n",
    "        return self._find_max_key(self.root)\n",
    "\n",
    "    def _range_query(\n",
    "        self, current_node, range_start, range_end, min_key, max_key,\n",
    "    ):\n",
    "        if range_end < min_key or range_start > max_key:\n",
    "            return []\n",
    "        results = []\n",
    "        for i, key in enumerate(current_node.keys):\n",
    "            if range_start <= key <= range_end:\n",
    "                results.append(current_node.values[i])\n",
    "        if not current_node.is_leaf():\n",
    "            for i, child in enumerate(current_node.children):\n",
    "                new_min_key = current_node.keys[i - 1] if i > 0 else min_key\n",
    "                new_max_key = current_node.keys[i] if i < len(current_node) else max_key\n",
    "                results += self._range_query(\n",
    "                    child, range_start, range_end, new_min_key, new_max_key\n",
    "                )\n",
    "        return results\n",
    "\n",
    "    def range_query(self, range_start, range_end):\n",
    "        key_numeric = str(range_start).isnumeric()\n",
    "        if key_numeric:\n",
    "            min_key = float(\"-inf\")\n",
    "            max_key = float(\"inf\")\n",
    "        else:\n",
    "            str_factor = len(range_end) + 1\n",
    "            min_key = \"\"\n",
    "            max_key = \"z\" * str_factor\n",
    "\n",
    "        return self._range_query(self.root, range_start, range_end, min_key, max_key,)"
   ]
  },
  {
   "cell_type": "markdown",
   "id": "1ae4417e",
   "metadata": {},
   "source": [
    "### Testing KVStore with Numeric Keys"
   ]
  },
  {
   "cell_type": "code",
   "execution_count": 4,
   "id": "d5ba9cd7",
   "metadata": {},
   "outputs": [
    {
     "name": "stdout",
     "output_type": "stream",
     "text": [
      "Testing Split Threshold\n",
      "Testing Initial Add\n",
      "Testing Value Overwrite\n",
      "Testing Assignment with Bracket Syntax\n",
      "Testing Retrieval with Bracket Syntax\n",
      "Testing Value Overwrite with Bracket Syntax\n",
      "Testing Retrieval with Bracket Syntax after Value Overwrite\n",
      "Testing the In Operator\n",
      "Testing Range Query\n"
     ]
    },
    {
     "data": {
      "application/javascript": [
       "\n",
       "            setTimeout(function() {\n",
       "                var nbb_cell_id = 4;\n",
       "                var nbb_unformatted_code = \"# Test for split_threshold\\nprint(\\\"Testing Split Threshold\\\")\\nkv = KVStore()\\nassert kv.split_threshold == 2, \\\"The split threshold is not equal to 2.\\\"\\n\\n# Test for initial key, value add\\nprint(\\\"Testing Initial Add\\\")\\nkeys = list(range(0, 10))\\n\\nfor i in keys:\\n    kv.add(i, i)\\nfor i in keys:\\n    assert kv.get_value(i) == i, \\\"Expected value not retrieved.\\\"\\n\\n# Test for updated value add\\nprint(\\\"Testing Value Overwrite\\\")\\nfor i in keys:\\n    kv.add(i, i + 1)\\n\\nfor i in keys:\\n    assert kv.get_value(i) == i + 1, \\\"Expected value not retrieved.\\\"\\n\\n# Test for bracket syntax assignment\\nprint(\\\"Testing Assignment with Bracket Syntax\\\")\\nfor i in keys:\\n    kv[i] = i\\nfor i in keys:\\n    assert kv.get_value(i) == i, \\\"Expected value not retrieved.\\\"\\n\\n# Test for bracket syntax retrieval\\nprint(\\\"Testing Retrieval with Bracket Syntax\\\")\\nfor i in keys:\\n    kv[i] == i, \\\"Expected value not retrieved.\\\"\\n\\n# Test for value overwrite with bracket syntax\\nprint(\\\"Testing Value Overwrite with Bracket Syntax\\\")\\nfor i in keys:\\n    kv[i] = i + 1\\nfor i in keys:\\n    assert kv.get_value(i) == i + 1, \\\"Expected value not retrieved.\\\"\\n\\n# Re-test bracket syntax retrieval with updated values\\nprint(\\\"Testing Retrieval with Bracket Syntax after Value Overwrite\\\")\\nfor i in keys:\\n    assert kv[i] == i + 1, \\\"Expected value not retrieved.\\\"\\n\\n# Testing bracket syntax for contains key\\nprint(\\\"Testing the In Operator\\\")\\nfor i in keys:\\n    assert kv.contains(i), \\\"Expected value not retrieved.\\\"\\nnot_keys = [i - 100 for i in keys]\\nfor not_i in not_keys:\\n    assert not kv.contains(not_i), \\\"Expected value not retrieved.\\\"\\n\\n# Testing range_query\\nprint(\\\"Testing Range Query\\\")\\nsub_keys = keys[2:9]\\nfor i in keys:\\n    kv[i] = i\\nfor i in sub_keys:\\n    assert i in kv.range_query(keys[2], keys[8]), \\\"Expected value not retrieved.\\\"\\nfor i in [i for i in keys if i not in sub_keys]:\\n    assert i not in kv.range_query(keys[2], keys[8]), \\\"Expected value not retrieved.\\\"\";\n",
       "                var nbb_formatted_code = \"# Test for split_threshold\\nprint(\\\"Testing Split Threshold\\\")\\nkv = KVStore()\\nassert kv.split_threshold == 2, \\\"The split threshold is not equal to 2.\\\"\\n\\n# Test for initial key, value add\\nprint(\\\"Testing Initial Add\\\")\\nkeys = list(range(0, 10))\\n\\nfor i in keys:\\n    kv.add(i, i)\\nfor i in keys:\\n    assert kv.get_value(i) == i, \\\"Expected value not retrieved.\\\"\\n\\n# Test for updated value add\\nprint(\\\"Testing Value Overwrite\\\")\\nfor i in keys:\\n    kv.add(i, i + 1)\\n\\nfor i in keys:\\n    assert kv.get_value(i) == i + 1, \\\"Expected value not retrieved.\\\"\\n\\n# Test for bracket syntax assignment\\nprint(\\\"Testing Assignment with Bracket Syntax\\\")\\nfor i in keys:\\n    kv[i] = i\\nfor i in keys:\\n    assert kv.get_value(i) == i, \\\"Expected value not retrieved.\\\"\\n\\n# Test for bracket syntax retrieval\\nprint(\\\"Testing Retrieval with Bracket Syntax\\\")\\nfor i in keys:\\n    kv[i] == i, \\\"Expected value not retrieved.\\\"\\n\\n# Test for value overwrite with bracket syntax\\nprint(\\\"Testing Value Overwrite with Bracket Syntax\\\")\\nfor i in keys:\\n    kv[i] = i + 1\\nfor i in keys:\\n    assert kv.get_value(i) == i + 1, \\\"Expected value not retrieved.\\\"\\n\\n# Re-test bracket syntax retrieval with updated values\\nprint(\\\"Testing Retrieval with Bracket Syntax after Value Overwrite\\\")\\nfor i in keys:\\n    assert kv[i] == i + 1, \\\"Expected value not retrieved.\\\"\\n\\n# Testing bracket syntax for contains key\\nprint(\\\"Testing the In Operator\\\")\\nfor i in keys:\\n    assert kv.contains(i), \\\"Expected value not retrieved.\\\"\\nnot_keys = [i - 100 for i in keys]\\nfor not_i in not_keys:\\n    assert not kv.contains(not_i), \\\"Expected value not retrieved.\\\"\\n\\n# Testing range_query\\nprint(\\\"Testing Range Query\\\")\\nsub_keys = keys[2:9]\\nfor i in keys:\\n    kv[i] = i\\nfor i in sub_keys:\\n    assert i in kv.range_query(keys[2], keys[8]), \\\"Expected value not retrieved.\\\"\\nfor i in [i for i in keys if i not in sub_keys]:\\n    assert i not in kv.range_query(keys[2], keys[8]), \\\"Expected value not retrieved.\\\"\";\n",
       "                var nbb_cells = Jupyter.notebook.get_cells();\n",
       "                for (var i = 0; i < nbb_cells.length; ++i) {\n",
       "                    if (nbb_cells[i].input_prompt_number == nbb_cell_id) {\n",
       "                        if (nbb_cells[i].get_text() == nbb_unformatted_code) {\n",
       "                             nbb_cells[i].set_text(nbb_formatted_code);\n",
       "                        }\n",
       "                        break;\n",
       "                    }\n",
       "                }\n",
       "            }, 500);\n",
       "            "
      ],
      "text/plain": [
       "<IPython.core.display.Javascript object>"
      ]
     },
     "metadata": {},
     "output_type": "display_data"
    }
   ],
   "source": [
    "# Test for split_threshold\n",
    "print(\"Testing Split Threshold\")\n",
    "kv = KVStore()\n",
    "assert kv.split_threshold == 2, \"The split threshold is not equal to 2.\"\n",
    "\n",
    "# Test for initial key, value add\n",
    "print(\"Testing Initial Add\")\n",
    "keys = list(range(0, 10))\n",
    "\n",
    "for i in keys:\n",
    "    kv.add(i, i)\n",
    "for i in keys:\n",
    "    assert kv.get_value(i) == i, \"Expected value not retrieved.\"\n",
    "\n",
    "# Test for updated value add\n",
    "print(\"Testing Value Overwrite\")\n",
    "for i in keys:\n",
    "    kv.add(i, i + 1)\n",
    "\n",
    "for i in keys:\n",
    "    assert kv.get_value(i) == i + 1, \"Expected value not retrieved.\"\n",
    "\n",
    "# Test for bracket syntax assignment\n",
    "print(\"Testing Assignment with Bracket Syntax\")\n",
    "for i in keys:\n",
    "    kv[i] = i\n",
    "for i in keys:\n",
    "    assert kv.get_value(i) == i, \"Expected value not retrieved.\"\n",
    "\n",
    "# Test for bracket syntax retrieval\n",
    "print(\"Testing Retrieval with Bracket Syntax\")\n",
    "for i in keys:\n",
    "    kv[i] == i, \"Expected value not retrieved.\"\n",
    "\n",
    "# Test for value overwrite with bracket syntax\n",
    "print(\"Testing Value Overwrite with Bracket Syntax\")\n",
    "for i in keys:\n",
    "    kv[i] = i + 1\n",
    "for i in keys:\n",
    "    assert kv.get_value(i) == i + 1, \"Expected value not retrieved.\"\n",
    "\n",
    "# Re-test bracket syntax retrieval with updated values\n",
    "print(\"Testing Retrieval with Bracket Syntax after Value Overwrite\")\n",
    "for i in keys:\n",
    "    assert kv[i] == i + 1, \"Expected value not retrieved.\"\n",
    "\n",
    "# Testing bracket syntax for contains key\n",
    "print(\"Testing the In Operator\")\n",
    "for i in keys:\n",
    "    assert kv.contains(i), \"Expected value not retrieved.\"\n",
    "not_keys = [i - 100 for i in keys]\n",
    "for not_i in not_keys:\n",
    "    assert not kv.contains(not_i), \"Expected value not retrieved.\"\n",
    "\n",
    "# Testing range_query\n",
    "print(\"Testing Range Query\")\n",
    "sub_keys = keys[2:9]\n",
    "for i in keys:\n",
    "    kv[i] = i\n",
    "for i in sub_keys:\n",
    "    assert i in kv.range_query(keys[2], keys[8]), \"Expected value not retrieved.\"\n",
    "for i in [i for i in keys if i not in sub_keys]:\n",
    "    assert i not in kv.range_query(keys[2], keys[8]), \"Expected value not retrieved.\""
   ]
  },
  {
   "cell_type": "markdown",
   "id": "224761d3",
   "metadata": {},
   "source": [
    "### Testing KVStore with String Keys"
   ]
  },
  {
   "cell_type": "code",
   "execution_count": 5,
   "id": "1d0f7e7a",
   "metadata": {},
   "outputs": [
    {
     "name": "stdout",
     "output_type": "stream",
     "text": [
      "Testing the In Operator\n",
      "Testing Range Query\n"
     ]
    },
    {
     "data": {
      "application/javascript": [
       "\n",
       "            setTimeout(function() {\n",
       "                var nbb_cell_id = 5;\n",
       "                var nbb_unformatted_code = \"kv = KVStore()\\nkeys = \\\"abcdefghijk\\\"\\nfor i in keys:\\n    kv[i] = i\\n\\n# Testing bracket syntax for contains key\\nprint(\\\"Testing the In Operator\\\")\\nfor i in keys:\\n    assert kv.contains(i), \\\"Expected value not retrieved\\\"\\nnot_keys = [\\\"lmnopqrstuvwxyz\\\"]\\nfor not_i in not_keys:\\n    assert not kv.contains(not_i), \\\"Expected value not retrieved\\\"\\n\\n# Testing range_query\\nprint(\\\"Testing Range Query\\\")\\nsub_keys = keys[2:9]\\nfor i in keys:\\n    kv[i] = i\\nfor i in sub_keys:\\n    assert i in kv.range_query(keys[2], keys[8]), \\\"Expected value not retrieved.\\\"\\nfor i in [i for i in keys if i not in sub_keys]:\\n    assert i not in kv.range_query(keys[2], keys[8]), \\\"Expected value not retrieved.\\\"\";\n",
       "                var nbb_formatted_code = \"kv = KVStore()\\nkeys = \\\"abcdefghijk\\\"\\nfor i in keys:\\n    kv[i] = i\\n\\n# Testing bracket syntax for contains key\\nprint(\\\"Testing the In Operator\\\")\\nfor i in keys:\\n    assert kv.contains(i), \\\"Expected value not retrieved\\\"\\nnot_keys = [\\\"lmnopqrstuvwxyz\\\"]\\nfor not_i in not_keys:\\n    assert not kv.contains(not_i), \\\"Expected value not retrieved\\\"\\n\\n# Testing range_query\\nprint(\\\"Testing Range Query\\\")\\nsub_keys = keys[2:9]\\nfor i in keys:\\n    kv[i] = i\\nfor i in sub_keys:\\n    assert i in kv.range_query(keys[2], keys[8]), \\\"Expected value not retrieved.\\\"\\nfor i in [i for i in keys if i not in sub_keys]:\\n    assert i not in kv.range_query(keys[2], keys[8]), \\\"Expected value not retrieved.\\\"\";\n",
       "                var nbb_cells = Jupyter.notebook.get_cells();\n",
       "                for (var i = 0; i < nbb_cells.length; ++i) {\n",
       "                    if (nbb_cells[i].input_prompt_number == nbb_cell_id) {\n",
       "                        if (nbb_cells[i].get_text() == nbb_unformatted_code) {\n",
       "                             nbb_cells[i].set_text(nbb_formatted_code);\n",
       "                        }\n",
       "                        break;\n",
       "                    }\n",
       "                }\n",
       "            }, 500);\n",
       "            "
      ],
      "text/plain": [
       "<IPython.core.display.Javascript object>"
      ]
     },
     "metadata": {},
     "output_type": "display_data"
    }
   ],
   "source": [
    "kv = KVStore()\n",
    "keys = \"abcdefghijk\"\n",
    "for i in keys:\n",
    "    kv[i] = i\n",
    "\n",
    "# Testing bracket syntax for contains key\n",
    "print(\"Testing the In Operator\")\n",
    "for i in keys:\n",
    "    assert kv.contains(i), \"Expected value not retrieved\"\n",
    "not_keys = [\"lmnopqrstuvwxyz\"]\n",
    "for not_i in not_keys:\n",
    "    assert not kv.contains(not_i), \"Expected value not retrieved\"\n",
    "\n",
    "# Testing range_query\n",
    "print(\"Testing Range Query\")\n",
    "sub_keys = keys[2:9]\n",
    "for i in keys:\n",
    "    kv[i] = i\n",
    "for i in sub_keys:\n",
    "    assert i in kv.range_query(keys[2], keys[8]), \"Expected value not retrieved.\"\n",
    "for i in [i for i in keys if i not in sub_keys]:\n",
    "    assert i not in kv.range_query(keys[2], keys[8]), \"Expected value not retrieved.\""
   ]
  },
  {
   "cell_type": "markdown",
   "id": "bdd999a6",
   "metadata": {},
   "source": [
    "### Comparing Results for KVStore Extending Built-in Dictionary Class and New KVStore"
   ]
  },
  {
   "cell_type": "markdown",
   "id": "a285e43b",
   "metadata": {},
   "source": [
    "#### Defining `range_query` Method for Built-in Dictionary Class"
   ]
  },
  {
   "cell_type": "code",
   "execution_count": 6,
   "id": "7f5835ff",
   "metadata": {},
   "outputs": [
    {
     "data": {
      "application/javascript": [
       "\n",
       "            setTimeout(function() {\n",
       "                var nbb_cell_id = 6;\n",
       "                var nbb_unformatted_code = \"class DictKVStore(dict):\\n    def range_query(self, range_start, range_end):\\n        results = []\\n        for key in self.keys():\\n            if range_start <= key <= range_end:\\n                results.append(self[key])\\n        return results\";\n",
       "                var nbb_formatted_code = \"class DictKVStore(dict):\\n    def range_query(self, range_start, range_end):\\n        results = []\\n        for key in self.keys():\\n            if range_start <= key <= range_end:\\n                results.append(self[key])\\n        return results\";\n",
       "                var nbb_cells = Jupyter.notebook.get_cells();\n",
       "                for (var i = 0; i < nbb_cells.length; ++i) {\n",
       "                    if (nbb_cells[i].input_prompt_number == nbb_cell_id) {\n",
       "                        if (nbb_cells[i].get_text() == nbb_unformatted_code) {\n",
       "                             nbb_cells[i].set_text(nbb_formatted_code);\n",
       "                        }\n",
       "                        break;\n",
       "                    }\n",
       "                }\n",
       "            }, 500);\n",
       "            "
      ],
      "text/plain": [
       "<IPython.core.display.Javascript object>"
      ]
     },
     "metadata": {},
     "output_type": "display_data"
    }
   ],
   "source": [
    "class DictKVStore(dict):\n",
    "    def range_query(self, range_start, range_end):\n",
    "        results = []\n",
    "        for key in self.keys():\n",
    "            if range_start <= key <= range_end:\n",
    "                results.append(self[key])\n",
    "        return results"
   ]
  },
  {
   "cell_type": "markdown",
   "id": "39b5c49d",
   "metadata": {},
   "source": [
    "#### Comparing `range_query` Results of Both KVStores"
   ]
  },
  {
   "cell_type": "code",
   "execution_count": 7,
   "id": "4e6293bf",
   "metadata": {},
   "outputs": [
    {
     "name": "stdout",
     "output_type": "stream",
     "text": [
      "Testing for Matching Results for Numeric Keys\n",
      "Testing for Matching Results for String Keys\n"
     ]
    },
    {
     "data": {
      "application/javascript": [
       "\n",
       "            setTimeout(function() {\n",
       "                var nbb_cell_id = 7;\n",
       "                var nbb_unformatted_code = \"# For numeric keys\\nprint(\\\"Testing for Matching Results for Numeric Keys\\\")\\ndict_kv = DictKVStore()\\nnew_kv = KVStore()\\n\\nfor i in range(10):\\n    dict_kv[i] = i\\n    new_kv[i] = i\\n\\nranges = [(0, 5), (1, 5), (6, 7), (9, 9), (3, 8)]\\n\\nfor range_start, range_end in ranges:\\n    dict_kv_res = sorted(dict_kv.range_query(range_start, range_end))\\n    new_kv_res = sorted(new_kv.range_query(range_start, range_end))\\n    assert dict_kv_res == new_kv_res, \\\"Results do not match for the different KVStores\\\"\\n\\n# For string keys\\nprint(\\\"Testing for Matching Results for String Keys\\\")\\ndict_kv = DictKVStore()\\nnew_kv = KVStore()\\n\\nfor i in \\\"efghijklmnopq\\\":\\n    dict_kv[i] = i\\n    new_kv[i] = i\\n\\nranges = [(\\\"a\\\", \\\"z\\\"), (\\\"c\\\", \\\"l\\\"), (\\\"m\\\", \\\"m\\\"), (\\\"e\\\", \\\"q\\\"), (\\\"w\\\", \\\"z\\\")]\\n\\nfor range_start, range_end in ranges:\\n    dict_kv_res = sorted(dict_kv.range_query(range_start, range_end))\\n    new_kv_res = sorted(new_kv.range_query(range_start, range_end))\\n    assert dict_kv_res == new_kv_res, \\\"Results do not match for the different KVStores\\\"\";\n",
       "                var nbb_formatted_code = \"# For numeric keys\\nprint(\\\"Testing for Matching Results for Numeric Keys\\\")\\ndict_kv = DictKVStore()\\nnew_kv = KVStore()\\n\\nfor i in range(10):\\n    dict_kv[i] = i\\n    new_kv[i] = i\\n\\nranges = [(0, 5), (1, 5), (6, 7), (9, 9), (3, 8)]\\n\\nfor range_start, range_end in ranges:\\n    dict_kv_res = sorted(dict_kv.range_query(range_start, range_end))\\n    new_kv_res = sorted(new_kv.range_query(range_start, range_end))\\n    assert dict_kv_res == new_kv_res, \\\"Results do not match for the different KVStores\\\"\\n\\n# For string keys\\nprint(\\\"Testing for Matching Results for String Keys\\\")\\ndict_kv = DictKVStore()\\nnew_kv = KVStore()\\n\\nfor i in \\\"efghijklmnopq\\\":\\n    dict_kv[i] = i\\n    new_kv[i] = i\\n\\nranges = [(\\\"a\\\", \\\"z\\\"), (\\\"c\\\", \\\"l\\\"), (\\\"m\\\", \\\"m\\\"), (\\\"e\\\", \\\"q\\\"), (\\\"w\\\", \\\"z\\\")]\\n\\nfor range_start, range_end in ranges:\\n    dict_kv_res = sorted(dict_kv.range_query(range_start, range_end))\\n    new_kv_res = sorted(new_kv.range_query(range_start, range_end))\\n    assert dict_kv_res == new_kv_res, \\\"Results do not match for the different KVStores\\\"\";\n",
       "                var nbb_cells = Jupyter.notebook.get_cells();\n",
       "                for (var i = 0; i < nbb_cells.length; ++i) {\n",
       "                    if (nbb_cells[i].input_prompt_number == nbb_cell_id) {\n",
       "                        if (nbb_cells[i].get_text() == nbb_unformatted_code) {\n",
       "                             nbb_cells[i].set_text(nbb_formatted_code);\n",
       "                        }\n",
       "                        break;\n",
       "                    }\n",
       "                }\n",
       "            }, 500);\n",
       "            "
      ],
      "text/plain": [
       "<IPython.core.display.Javascript object>"
      ]
     },
     "metadata": {},
     "output_type": "display_data"
    }
   ],
   "source": [
    "# For numeric keys\n",
    "print(\"Testing for Matching Results for Numeric Keys\")\n",
    "dict_kv = DictKVStore()\n",
    "new_kv = KVStore()\n",
    "\n",
    "for i in range(10):\n",
    "    dict_kv[i] = i\n",
    "    new_kv[i] = i\n",
    "\n",
    "ranges = [(0, 5), (1, 5), (6, 7), (9, 9), (3, 8)]\n",
    "\n",
    "for range_start, range_end in ranges:\n",
    "    dict_kv_res = sorted(dict_kv.range_query(range_start, range_end))\n",
    "    new_kv_res = sorted(new_kv.range_query(range_start, range_end))\n",
    "    assert dict_kv_res == new_kv_res, \"Results do not match for the different KVStores\"\n",
    "\n",
    "# For string keys\n",
    "print(\"Testing for Matching Results for String Keys\")\n",
    "dict_kv = DictKVStore()\n",
    "new_kv = KVStore()\n",
    "\n",
    "for i in \"efghijklmnopq\":\n",
    "    dict_kv[i] = i\n",
    "    new_kv[i] = i\n",
    "\n",
    "ranges = [(\"a\", \"z\"), (\"c\", \"l\"), (\"m\", \"m\"), (\"e\", \"q\"), (\"w\", \"z\")]\n",
    "\n",
    "for range_start, range_end in ranges:\n",
    "    dict_kv_res = sorted(dict_kv.range_query(range_start, range_end))\n",
    "    new_kv_res = sorted(new_kv.range_query(range_start, range_end))\n",
    "    assert dict_kv_res == new_kv_res, \"Results do not match for the different KVStores\""
   ]
  },
  {
   "cell_type": "markdown",
   "id": "f8082b43",
   "metadata": {},
   "source": [
    "### Random Tests"
   ]
  },
  {
   "cell_type": "markdown",
   "id": "abeb781f",
   "metadata": {},
   "source": [
    "#### Random Tests for Numeric Keys"
   ]
  },
  {
   "cell_type": "code",
   "execution_count": 8,
   "id": "9f675ea4",
   "metadata": {},
   "outputs": [
    {
     "name": "stdout",
     "output_type": "stream",
     "text": [
      "Testing Insertion\n",
      "Testing Length\n",
      "Testing Values\n",
      "Testing in Operator\n",
      "Testing Range Query\n"
     ]
    },
    {
     "data": {
      "application/javascript": [
       "\n",
       "            setTimeout(function() {\n",
       "                var nbb_cell_id = 8;\n",
       "                var nbb_unformatted_code = \"import random\\n\\nnum_inserts = 10\\nnum_range_queries = 10\\nnum_contains = 10\\n\\ndict_kv = DictKVStore()\\nnew_kv = KVStore()\\n\\nprint(\\\"Testing Insertion\\\")\\nfor _ in range(num_inserts):\\n    key = random.randint(0, 100)\\n    value = random.randint(0, 1000000)\\n    dict_kv[key] = value\\n    new_kv[key] = value\\n\\nprint(\\\"Testing Length\\\")\\nassert len(dict_kv) == len(\\n    new_kv\\n), f\\\"The legths do not match: {len(dict_kv)} and {len(new_kv)}.\\\"\\n\\nprint(\\\"Testing Values\\\")\\nfor key in dict_kv:\\n    assert (\\n        dict_kv[key] == new_kv[key]\\n    ), f\\\"Wrong value for key {key}.  Expected {dict_kv[key]} but found {new_kv[key]}.\\\"\\n\\nprint(\\\"Testing in Operator\\\")\\nfor _ in range(num_contains):\\n    key = random.randint(0, 100)\\n    assert (key in dict_kv) == (key in new_kv)\\n\\nprint(\\\"Testing Range Query\\\")\\nfor _ in range(num_range_queries):\\n    range_start = random.randint(0, 100)\\n    range_end = random.randint(range_start, 100)\\n    dict_kv_res = sorted(dict_kv.range_query(range_start, range_end))\\n    new_kv_res = sorted(new_kv.range_query(range_start, range_end))\\n    assert dict_kv_res == new_kv_res, f\\\"The results for key {key} do not match.\\\"\";\n",
       "                var nbb_formatted_code = \"import random\\n\\nnum_inserts = 10\\nnum_range_queries = 10\\nnum_contains = 10\\n\\ndict_kv = DictKVStore()\\nnew_kv = KVStore()\\n\\nprint(\\\"Testing Insertion\\\")\\nfor _ in range(num_inserts):\\n    key = random.randint(0, 100)\\n    value = random.randint(0, 1000000)\\n    dict_kv[key] = value\\n    new_kv[key] = value\\n\\nprint(\\\"Testing Length\\\")\\nassert len(dict_kv) == len(\\n    new_kv\\n), f\\\"The legths do not match: {len(dict_kv)} and {len(new_kv)}.\\\"\\n\\nprint(\\\"Testing Values\\\")\\nfor key in dict_kv:\\n    assert (\\n        dict_kv[key] == new_kv[key]\\n    ), f\\\"Wrong value for key {key}.  Expected {dict_kv[key]} but found {new_kv[key]}.\\\"\\n\\nprint(\\\"Testing in Operator\\\")\\nfor _ in range(num_contains):\\n    key = random.randint(0, 100)\\n    assert (key in dict_kv) == (key in new_kv)\\n\\nprint(\\\"Testing Range Query\\\")\\nfor _ in range(num_range_queries):\\n    range_start = random.randint(0, 100)\\n    range_end = random.randint(range_start, 100)\\n    dict_kv_res = sorted(dict_kv.range_query(range_start, range_end))\\n    new_kv_res = sorted(new_kv.range_query(range_start, range_end))\\n    assert dict_kv_res == new_kv_res, f\\\"The results for key {key} do not match.\\\"\";\n",
       "                var nbb_cells = Jupyter.notebook.get_cells();\n",
       "                for (var i = 0; i < nbb_cells.length; ++i) {\n",
       "                    if (nbb_cells[i].input_prompt_number == nbb_cell_id) {\n",
       "                        if (nbb_cells[i].get_text() == nbb_unformatted_code) {\n",
       "                             nbb_cells[i].set_text(nbb_formatted_code);\n",
       "                        }\n",
       "                        break;\n",
       "                    }\n",
       "                }\n",
       "            }, 500);\n",
       "            "
      ],
      "text/plain": [
       "<IPython.core.display.Javascript object>"
      ]
     },
     "metadata": {},
     "output_type": "display_data"
    }
   ],
   "source": [
    "import random\n",
    "\n",
    "num_inserts = 10\n",
    "num_range_queries = 10\n",
    "num_contains = 10\n",
    "\n",
    "dict_kv = DictKVStore()\n",
    "new_kv = KVStore()\n",
    "\n",
    "print(\"Testing Insertion\")\n",
    "for _ in range(num_inserts):\n",
    "    key = random.randint(0, 100)\n",
    "    value = random.randint(0, 1000000)\n",
    "    dict_kv[key] = value\n",
    "    new_kv[key] = value\n",
    "\n",
    "print(\"Testing Length\")\n",
    "assert len(dict_kv) == len(\n",
    "    new_kv\n",
    "), f\"The legths do not match: {len(dict_kv)} and {len(new_kv)}.\"\n",
    "\n",
    "print(\"Testing Values\")\n",
    "for key in dict_kv:\n",
    "    assert (\n",
    "        dict_kv[key] == new_kv[key]\n",
    "    ), f\"Wrong value for key {key}.  Expected {dict_kv[key]} but found {new_kv[key]}.\"\n",
    "\n",
    "print(\"Testing in Operator\")\n",
    "for _ in range(num_contains):\n",
    "    key = random.randint(0, 100)\n",
    "    assert (key in dict_kv) == (key in new_kv)\n",
    "\n",
    "print(\"Testing Range Query\")\n",
    "for _ in range(num_range_queries):\n",
    "    range_start = random.randint(0, 100)\n",
    "    range_end = random.randint(range_start, 100)\n",
    "    dict_kv_res = sorted(dict_kv.range_query(range_start, range_end))\n",
    "    new_kv_res = sorted(new_kv.range_query(range_start, range_end))\n",
    "    assert dict_kv_res == new_kv_res, f\"The results for key {key} do not match.\""
   ]
  },
  {
   "cell_type": "markdown",
   "id": "12c9e860",
   "metadata": {},
   "source": [
    "#### Random Tests for String Keys"
   ]
  },
  {
   "cell_type": "code",
   "execution_count": 9,
   "id": "49a0fa63",
   "metadata": {},
   "outputs": [
    {
     "name": "stdout",
     "output_type": "stream",
     "text": [
      "Testing Insertion\n",
      "Testing Length\n",
      "Testing Values\n",
      "Testing in Operator\n",
      "Testing Range Query\n"
     ]
    },
    {
     "data": {
      "application/javascript": [
       "\n",
       "            setTimeout(function() {\n",
       "                var nbb_cell_id = 9;\n",
       "                var nbb_unformatted_code = \"letters = sorted(\\n    [char for char in \\\"abcdefghijklmnopqrstuvwxyzABCDEFGHIJKLMNOPQRSTUVWXYZ\\\"]\\n)\\n\\nnum_inserts = 10\\nnum_range_queries = 10\\nnum_contains = 10\\n\\ndict_kv = DictKVStore()\\nnew_kv = KVStore()\\n\\nprint(\\\"Testing Insertion\\\")\\nfor _ in range(num_inserts):\\n    key = letters[random.randint(0, len(letters) - 1)]\\n    value = letters[random.randint(0, len(letters) - 1)]\\n    dict_kv[key] = value\\n    new_kv[key] = value\\n\\nprint(\\\"Testing Length\\\")\\nassert len(dict_kv) == len(\\n    new_kv\\n), f\\\"The legths do not match: {len(dict_kv)} and {len(new_kv)}.\\\"\\n\\nprint(\\\"Testing Values\\\")\\nfor key in dict_kv:\\n    assert (\\n        dict_kv[key] == new_kv[key]\\n    ), f\\\"Wrong value for key {key}.  Expected {dict_kv[key]} but found {new_kv[key]}.\\\"\\n\\nprint(\\\"Testing in Operator\\\")\\nfor _ in range(num_contains):\\n    key = letters[random.randint(0, len(letters) - 1)]\\n    assert (key in dict_kv) == (key in new_kv)\\n\\nprint(\\\"Testing Range Query\\\")\\nfor _ in range(num_range_queries):\\n    range_start_index = random.randint(0, len(letters) - 1)\\n    range_start = letters[range_start_index]\\n    range_end_index = random.randint(range_start_index, len(letters) - 1)\\n    range_end = letters[range_end_index]\\n    dict_kv_res = sorted(dict_kv.range_query(range_start, range_end))\\n    new_kv_res = sorted(new_kv.range_query(range_start, range_end))\\n    assert dict_kv_res == new_kv_res, f\\\"The results for key {key} do not match.\\\"\";\n",
       "                var nbb_formatted_code = \"letters = sorted(\\n    [char for char in \\\"abcdefghijklmnopqrstuvwxyzABCDEFGHIJKLMNOPQRSTUVWXYZ\\\"]\\n)\\n\\nnum_inserts = 10\\nnum_range_queries = 10\\nnum_contains = 10\\n\\ndict_kv = DictKVStore()\\nnew_kv = KVStore()\\n\\nprint(\\\"Testing Insertion\\\")\\nfor _ in range(num_inserts):\\n    key = letters[random.randint(0, len(letters) - 1)]\\n    value = letters[random.randint(0, len(letters) - 1)]\\n    dict_kv[key] = value\\n    new_kv[key] = value\\n\\nprint(\\\"Testing Length\\\")\\nassert len(dict_kv) == len(\\n    new_kv\\n), f\\\"The legths do not match: {len(dict_kv)} and {len(new_kv)}.\\\"\\n\\nprint(\\\"Testing Values\\\")\\nfor key in dict_kv:\\n    assert (\\n        dict_kv[key] == new_kv[key]\\n    ), f\\\"Wrong value for key {key}.  Expected {dict_kv[key]} but found {new_kv[key]}.\\\"\\n\\nprint(\\\"Testing in Operator\\\")\\nfor _ in range(num_contains):\\n    key = letters[random.randint(0, len(letters) - 1)]\\n    assert (key in dict_kv) == (key in new_kv)\\n\\nprint(\\\"Testing Range Query\\\")\\nfor _ in range(num_range_queries):\\n    range_start_index = random.randint(0, len(letters) - 1)\\n    range_start = letters[range_start_index]\\n    range_end_index = random.randint(range_start_index, len(letters) - 1)\\n    range_end = letters[range_end_index]\\n    dict_kv_res = sorted(dict_kv.range_query(range_start, range_end))\\n    new_kv_res = sorted(new_kv.range_query(range_start, range_end))\\n    assert dict_kv_res == new_kv_res, f\\\"The results for key {key} do not match.\\\"\";\n",
       "                var nbb_cells = Jupyter.notebook.get_cells();\n",
       "                for (var i = 0; i < nbb_cells.length; ++i) {\n",
       "                    if (nbb_cells[i].input_prompt_number == nbb_cell_id) {\n",
       "                        if (nbb_cells[i].get_text() == nbb_unformatted_code) {\n",
       "                             nbb_cells[i].set_text(nbb_formatted_code);\n",
       "                        }\n",
       "                        break;\n",
       "                    }\n",
       "                }\n",
       "            }, 500);\n",
       "            "
      ],
      "text/plain": [
       "<IPython.core.display.Javascript object>"
      ]
     },
     "metadata": {},
     "output_type": "display_data"
    }
   ],
   "source": [
    "letters = sorted(\n",
    "    [char for char in \"abcdefghijklmnopqrstuvwxyzABCDEFGHIJKLMNOPQRSTUVWXYZ\"]\n",
    ")\n",
    "\n",
    "num_inserts = 10\n",
    "num_range_queries = 10\n",
    "num_contains = 10\n",
    "\n",
    "dict_kv = DictKVStore()\n",
    "new_kv = KVStore()\n",
    "\n",
    "print(\"Testing Insertion\")\n",
    "for _ in range(num_inserts):\n",
    "    key = letters[random.randint(0, len(letters) - 1)]\n",
    "    value = letters[random.randint(0, len(letters) - 1)]\n",
    "    dict_kv[key] = value\n",
    "    new_kv[key] = value\n",
    "\n",
    "print(\"Testing Length\")\n",
    "assert len(dict_kv) == len(\n",
    "    new_kv\n",
    "), f\"The legths do not match: {len(dict_kv)} and {len(new_kv)}.\"\n",
    "\n",
    "print(\"Testing Values\")\n",
    "for key in dict_kv:\n",
    "    assert (\n",
    "        dict_kv[key] == new_kv[key]\n",
    "    ), f\"Wrong value for key {key}.  Expected {dict_kv[key]} but found {new_kv[key]}.\"\n",
    "\n",
    "print(\"Testing in Operator\")\n",
    "for _ in range(num_contains):\n",
    "    key = letters[random.randint(0, len(letters) - 1)]\n",
    "    assert (key in dict_kv) == (key in new_kv)\n",
    "\n",
    "print(\"Testing Range Query\")\n",
    "for _ in range(num_range_queries):\n",
    "    range_start_index = random.randint(0, len(letters) - 1)\n",
    "    range_start = letters[range_start_index]\n",
    "    range_end_index = random.randint(range_start_index, len(letters) - 1)\n",
    "    range_end = letters[range_end_index]\n",
    "    dict_kv_res = sorted(dict_kv.range_query(range_start, range_end))\n",
    "    new_kv_res = sorted(new_kv.range_query(range_start, range_end))\n",
    "    assert dict_kv_res == new_kv_res, f\"The results for key {key} do not match.\""
   ]
  },
  {
   "cell_type": "markdown",
   "id": "06e4a0d0",
   "metadata": {},
   "source": [
    "## Performance Testing\n",
    "- To illustrate the process of generating the test data, we will create separate csv files for the entries and the query ranges.  This step could alternatively be handled in memory for the current example.\n",
    "- Note that re-running the immediate cell below will simply overwrite the csv files with the same results as random.seed() is set and `'w'` is indicated (i.e., versus `'a'` for append) in the `open()` call of the context manager.\n",
    "- The length of both key-value stores will likely be shorter than the 100,000 entries created, due to overwriting values for duplicate keys that are generated randomly in the entries."
   ]
  },
  {
   "cell_type": "markdown",
   "id": "a9bf2862",
   "metadata": {},
   "source": [
    "### Creating Test Entries and Query Ranges"
   ]
  },
  {
   "cell_type": "code",
   "execution_count": 10,
   "id": "fcf1bf08",
   "metadata": {},
   "outputs": [
    {
     "data": {
      "application/javascript": [
       "\n",
       "            setTimeout(function() {\n",
       "                var nbb_cell_id = 10;\n",
       "                var nbb_unformatted_code = \"import csv\\n\\nrandom.seed(42)\\n\\n# Creating a csv file of the keys and values of entries\\nwith open(\\\"entries.csv\\\", \\\"w\\\", newline=\\\"\\\") as f:\\n    writer = csv.writer(f)\\n    header = [\\\"key\\\", \\\"value\\\"]\\n    writer.writerow(header)\\n    for i in range(0, 100000):\\n        key = random.randint(0, 200000)\\n        value = random.randint(0, 200000)\\n        row = [key, value]\\n        writer.writerow(row)\\n\\n# Creating a csv file of the query range sizes, range_starts, range_ends\\nwith open(\\\"queries.csv\\\", \\\"w\\\", newline=\\\"\\\") as f:\\n    writer = csv.writer(f)\\n    header = [\\\"query_size\\\", \\\"range_start\\\", \\\"range_end\\\"]\\n    writer.writerow(header)\\n    for i in range(1000, 11000, 10):\\n        increment = i\\n        range_start = random.randint(0, 90000)\\n        range_end = range_start + i\\n        row = [increment, range_start, range_end]\\n        writer.writerow(row)\";\n",
       "                var nbb_formatted_code = \"import csv\\n\\nrandom.seed(42)\\n\\n# Creating a csv file of the keys and values of entries\\nwith open(\\\"entries.csv\\\", \\\"w\\\", newline=\\\"\\\") as f:\\n    writer = csv.writer(f)\\n    header = [\\\"key\\\", \\\"value\\\"]\\n    writer.writerow(header)\\n    for i in range(0, 100000):\\n        key = random.randint(0, 200000)\\n        value = random.randint(0, 200000)\\n        row = [key, value]\\n        writer.writerow(row)\\n\\n# Creating a csv file of the query range sizes, range_starts, range_ends\\nwith open(\\\"queries.csv\\\", \\\"w\\\", newline=\\\"\\\") as f:\\n    writer = csv.writer(f)\\n    header = [\\\"query_size\\\", \\\"range_start\\\", \\\"range_end\\\"]\\n    writer.writerow(header)\\n    for i in range(1000, 11000, 10):\\n        increment = i\\n        range_start = random.randint(0, 90000)\\n        range_end = range_start + i\\n        row = [increment, range_start, range_end]\\n        writer.writerow(row)\";\n",
       "                var nbb_cells = Jupyter.notebook.get_cells();\n",
       "                for (var i = 0; i < nbb_cells.length; ++i) {\n",
       "                    if (nbb_cells[i].input_prompt_number == nbb_cell_id) {\n",
       "                        if (nbb_cells[i].get_text() == nbb_unformatted_code) {\n",
       "                             nbb_cells[i].set_text(nbb_formatted_code);\n",
       "                        }\n",
       "                        break;\n",
       "                    }\n",
       "                }\n",
       "            }, 500);\n",
       "            "
      ],
      "text/plain": [
       "<IPython.core.display.Javascript object>"
      ]
     },
     "metadata": {},
     "output_type": "display_data"
    }
   ],
   "source": [
    "import csv\n",
    "\n",
    "random.seed(42)\n",
    "\n",
    "# Creating a csv file of the keys and values of entries\n",
    "with open(\"entries.csv\", \"w\", newline=\"\") as f:\n",
    "    writer = csv.writer(f)\n",
    "    header = [\"key\", \"value\"]\n",
    "    writer.writerow(header)\n",
    "    for i in range(0, 100000):\n",
    "        key = random.randint(0, 200000)\n",
    "        value = random.randint(0, 200000)\n",
    "        row = [key, value]\n",
    "        writer.writerow(row)\n",
    "\n",
    "# Creating a csv file of the query range sizes, range_starts, range_ends\n",
    "with open(\"queries.csv\", \"w\", newline=\"\") as f:\n",
    "    writer = csv.writer(f)\n",
    "    header = [\"query_size\", \"range_start\", \"range_end\"]\n",
    "    writer.writerow(header)\n",
    "    for i in range(1000, 11000, 10):\n",
    "        increment = i\n",
    "        range_start = random.randint(0, 90000)\n",
    "        range_end = range_start + i\n",
    "        row = [increment, range_start, range_end]\n",
    "        writer.writerow(row)"
   ]
  },
  {
   "cell_type": "markdown",
   "id": "c7f64db0",
   "metadata": {},
   "source": [
    "### Running the Speed Tests\n",
    "- Some queries have runtime of 0 for `new_kv` which throws an error for calculating the runtime ratio.\n",
    "- So, we will exlude those queries from the runtime ratios, but collect them in a separate dictionary.\n",
    "- To be fair in our comparison, we will also create a dictionary of any queries for which `dict_kv` has runtimes of 0, as the calculation of runtime ratio would result in 0 and not show if `new_kv` was actually slower than `dict_kv` for the range query in those instances."
   ]
  },
  {
   "cell_type": "code",
   "execution_count": 11,
   "id": "f9320e0e",
   "metadata": {},
   "outputs": [
    {
     "data": {
      "application/javascript": [
       "\n",
       "            setTimeout(function() {\n",
       "                var nbb_cell_id = 11;\n",
       "                var nbb_unformatted_code = \"import time\\n\\n# Creating kv stores\\ndict_kv = DictKVStore()\\nnew_kv = KVStore()\\n\\nwith open(\\\"entries.csv\\\") as f:\\n    reader = csv.reader(f)\\n    rows = list(reader)\\n    for row in rows[1:]:\\n        key = int(row[0])\\n        value = int(row[1])\\n        dict_kv[key] = value\\n        new_kv[key] = value\\n\\n# Comparing Performance on range queries\\ntime_ratios = (\\n    {}\\n)  # Dict to collect query size keys with runtime ratios (dict_kv/new_kv) values\\ntimes_kv_zero = (\\n    {}\\n)  # Dict to collect query size keys with runtimes tuples (dict_kv_time, new_kv_time)\\ntimes_dict_zero = (\\n    {}\\n)  # Dict to collect query size keys with runtimes tuples (dict_kv_time, new_kv_time)\\n\\nwith open(\\\"queries.csv\\\") as f:\\n    reader = csv.reader(f)\\n    rows = list(reader)\\n    for i, row in enumerate(rows[1:]):\\n        range_start = int(row[1])\\n        range_end = int(row[2])\\n\\n        start = time.time()\\n        dict_kv.range_query(range_start, range_end)\\n        end = time.time()\\n        dict_kv_time = end - start\\n\\n        start = time.time()\\n        new_kv.range_query(range_start, range_end)\\n        end = time.time()\\n        new_kv_time = end - start\\n\\n        if new_kv_time > 0:\\n            time_ratios[row[0]] = dict_kv_time / new_kv_time\\n        if new_kv_time == 0:\\n            times_kv_zero[row[0]] = (dict_kv_time, new_kv_time)\\n        if dict_kv_time == 0:\\n            dict_kv_times[row[0]] = (dict_kv_time, new_kv_time)\";\n",
       "                var nbb_formatted_code = \"import time\\n\\n# Creating kv stores\\ndict_kv = DictKVStore()\\nnew_kv = KVStore()\\n\\nwith open(\\\"entries.csv\\\") as f:\\n    reader = csv.reader(f)\\n    rows = list(reader)\\n    for row in rows[1:]:\\n        key = int(row[0])\\n        value = int(row[1])\\n        dict_kv[key] = value\\n        new_kv[key] = value\\n\\n# Comparing Performance on range queries\\ntime_ratios = (\\n    {}\\n)  # Dict to collect query size keys with runtime ratios (dict_kv/new_kv) values\\ntimes_kv_zero = (\\n    {}\\n)  # Dict to collect query size keys with runtimes tuples (dict_kv_time, new_kv_time)\\ntimes_dict_zero = (\\n    {}\\n)  # Dict to collect query size keys with runtimes tuples (dict_kv_time, new_kv_time)\\n\\nwith open(\\\"queries.csv\\\") as f:\\n    reader = csv.reader(f)\\n    rows = list(reader)\\n    for i, row in enumerate(rows[1:]):\\n        range_start = int(row[1])\\n        range_end = int(row[2])\\n\\n        start = time.time()\\n        dict_kv.range_query(range_start, range_end)\\n        end = time.time()\\n        dict_kv_time = end - start\\n\\n        start = time.time()\\n        new_kv.range_query(range_start, range_end)\\n        end = time.time()\\n        new_kv_time = end - start\\n\\n        if new_kv_time > 0:\\n            time_ratios[row[0]] = dict_kv_time / new_kv_time\\n        if new_kv_time == 0:\\n            times_kv_zero[row[0]] = (dict_kv_time, new_kv_time)\\n        if dict_kv_time == 0:\\n            dict_kv_times[row[0]] = (dict_kv_time, new_kv_time)\";\n",
       "                var nbb_cells = Jupyter.notebook.get_cells();\n",
       "                for (var i = 0; i < nbb_cells.length; ++i) {\n",
       "                    if (nbb_cells[i].input_prompt_number == nbb_cell_id) {\n",
       "                        if (nbb_cells[i].get_text() == nbb_unformatted_code) {\n",
       "                             nbb_cells[i].set_text(nbb_formatted_code);\n",
       "                        }\n",
       "                        break;\n",
       "                    }\n",
       "                }\n",
       "            }, 500);\n",
       "            "
      ],
      "text/plain": [
       "<IPython.core.display.Javascript object>"
      ]
     },
     "metadata": {},
     "output_type": "display_data"
    }
   ],
   "source": [
    "import time\n",
    "\n",
    "# Creating kv stores\n",
    "dict_kv = DictKVStore()\n",
    "new_kv = KVStore()\n",
    "\n",
    "with open(\"entries.csv\") as f:\n",
    "    reader = csv.reader(f)\n",
    "    rows = list(reader)\n",
    "    for row in rows[1:]:\n",
    "        key = int(row[0])\n",
    "        value = int(row[1])\n",
    "        dict_kv[key] = value\n",
    "        new_kv[key] = value\n",
    "\n",
    "# Comparing Performance on range queries\n",
    "time_ratios = (\n",
    "    {}\n",
    ")  # Dict to collect query size keys with runtime ratios (dict_kv/new_kv) values\n",
    "times_kv_zero = (\n",
    "    {}\n",
    ")  # Dict to collect query size keys with runtimes tuples (dict_kv_time, new_kv_time)\n",
    "times_dict_zero = (\n",
    "    {}\n",
    ")  # Dict to collect query size keys with runtimes tuples (dict_kv_time, new_kv_time)\n",
    "\n",
    "with open(\"queries.csv\") as f:\n",
    "    reader = csv.reader(f)\n",
    "    rows = list(reader)\n",
    "    for i, row in enumerate(rows[1:]):\n",
    "        range_start = int(row[1])\n",
    "        range_end = int(row[2])\n",
    "\n",
    "        start = time.time()\n",
    "        dict_kv.range_query(range_start, range_end)\n",
    "        end = time.time()\n",
    "        dict_kv_time = end - start\n",
    "\n",
    "        start = time.time()\n",
    "        new_kv.range_query(range_start, range_end)\n",
    "        end = time.time()\n",
    "        new_kv_time = end - start\n",
    "\n",
    "        if new_kv_time > 0:\n",
    "            time_ratios[row[0]] = dict_kv_time / new_kv_time\n",
    "        if new_kv_time == 0:\n",
    "            times_kv_zero[row[0]] = (dict_kv_time, new_kv_time)\n",
    "        if dict_kv_time == 0:\n",
    "            dict_kv_times[row[0]] = (dict_kv_time, new_kv_time)"
   ]
  },
  {
   "cell_type": "markdown",
   "id": "c6ed39b2",
   "metadata": {},
   "source": [
    "### Visualizing Speed Test Results"
   ]
  },
  {
   "cell_type": "code",
   "execution_count": 12,
   "id": "73833fea",
   "metadata": {},
   "outputs": [
    {
     "data": {
      "image/png": "[encoded data removed]",
      "text/plain": [
       "<Figure size 576x432 with 1 Axes>"
      ]
     },
     "metadata": {
      "needs_background": "light"
     },
     "output_type": "display_data"
    },
    {
     "data": {
      "application/javascript": [
       "\n",
       "            setTimeout(function() {\n",
       "                var nbb_cell_id = 12;\n",
       "                var nbb_unformatted_code = \"import matplotlib.pyplot as plt\\n\\nplt.figure(figsize=(8, 6))\\nplt.title(\\\"Runtime Ratio vs Query Size (KVStore runtime > 0) \\\", fontsize=14)\\nplt.scatter([int(key) for key in time_ratios.keys()], time_ratios.values())\\nplt.xlabel(\\\"Size of Query Range\\\", fontsize=12)\\nplt.ylabel(\\\"Runtime Ratio\\\", fontsize=12)\\nplt.show()\";\n",
       "                var nbb_formatted_code = \"import matplotlib.pyplot as plt\\n\\nplt.figure(figsize=(8, 6))\\nplt.title(\\\"Runtime Ratio vs Query Size (KVStore runtime > 0) \\\", fontsize=14)\\nplt.scatter([int(key) for key in time_ratios.keys()], time_ratios.values())\\nplt.xlabel(\\\"Size of Query Range\\\", fontsize=12)\\nplt.ylabel(\\\"Runtime Ratio\\\", fontsize=12)\\nplt.show()\";\n",
       "                var nbb_cells = Jupyter.notebook.get_cells();\n",
       "                for (var i = 0; i < nbb_cells.length; ++i) {\n",
       "                    if (nbb_cells[i].input_prompt_number == nbb_cell_id) {\n",
       "                        if (nbb_cells[i].get_text() == nbb_unformatted_code) {\n",
       "                             nbb_cells[i].set_text(nbb_formatted_code);\n",
       "                        }\n",
       "                        break;\n",
       "                    }\n",
       "                }\n",
       "            }, 500);\n",
       "            "
      ],
      "text/plain": [
       "<IPython.core.display.Javascript object>"
      ]
     },
     "metadata": {},
     "output_type": "display_data"
    }
   ],
   "source": [
    "import matplotlib.pyplot as plt\n",
    "\n",
    "plt.figure(figsize=(8, 6))\n",
    "plt.title(\"Runtime Ratio vs Query Size (KVStore runtime > 0) \", fontsize=14)\n",
    "plt.scatter([int(key) for key in time_ratios.keys()], time_ratios.values())\n",
    "plt.xlabel(\"Size of Query Range\", fontsize=12)\n",
    "plt.ylabel(\"Runtime Ratio\", fontsize=12)\n",
    "plt.show()"
   ]
  },
  {
   "cell_type": "markdown",
   "id": "b123e330",
   "metadata": {},
   "source": [
    "#### Observations:\n",
    "- For query range sizes of up to ~4500 potential results, KVStore typically outperforms the range query implementing the built-in dictionary, as much as ~6 times faster, and frequently 1.5 to 3 times faster.\n",
    "- As the query size increases further, the KVStore degrades from either on par with or even slower than the built-in dictionary.\n",
    "- Let us check the queries for which one of the key-value stores had a runtime of 0."
   ]
  },
  {
   "cell_type": "code",
   "execution_count": 13,
   "id": "d2f85a95",
   "metadata": {},
   "outputs": [
    {
     "name": "stdout",
     "output_type": "stream",
     "text": [
      "There are 0 queries for which runtime of DictKVStore = 0.\n",
      "\n",
      "There are 8 queries for which runtime of KVStore = 0.\n",
      "\n"
     ]
    },
    {
     "data": {
      "image/png": "[encoded data removed]",
      "text/plain": [
       "<Figure size 576x432 with 1 Axes>"
      ]
     },
     "metadata": {
      "needs_background": "light"
     },
     "output_type": "display_data"
    },
    {
     "data": {
      "application/javascript": [
       "\n",
       "            setTimeout(function() {\n",
       "                var nbb_cell_id = 13;\n",
       "                var nbb_unformatted_code = \"print(\\n    f\\\"There are {len(times_dict_zero)} queries for which runtime of DictKVStore = 0.\\\\n\\\"\\n)\\nprint(f\\\"There are {len(times_kv_zero)} queries for which runtime of KVStore = 0.\\\\n\\\")\\n\\nplt.figure(figsize=(8, 6))\\nplt.title(\\\"Speed Comparison for Range Query (KVStore Runtime = 0)\\\", fontsize=14)\\nplt.scatter(\\n    [int(key) for key in times_kv_zero.keys()],\\n    [value[0] * 1000 for value in times_kv_zero.values()],\\n    label=\\\"Built-in Dictionary\\\",\\n)\\nplt.scatter(\\n    [int(key) for key in times_kv_zero.keys()],\\n    [value[1] * 1000 for value in times_kv_zero.values()],\\n    label=\\\"New KVStore\\\",\\n)\\nplt.xlabel(\\\"Size of Query Range\\\")\\nplt.ylabel(\\\"Runtime in ms\\\")\\nplt.legend()\\nplt.show()\";\n",
       "                var nbb_formatted_code = \"print(\\n    f\\\"There are {len(times_dict_zero)} queries for which runtime of DictKVStore = 0.\\\\n\\\"\\n)\\nprint(f\\\"There are {len(times_kv_zero)} queries for which runtime of KVStore = 0.\\\\n\\\")\\n\\nplt.figure(figsize=(8, 6))\\nplt.title(\\\"Speed Comparison for Range Query (KVStore Runtime = 0)\\\", fontsize=14)\\nplt.scatter(\\n    [int(key) for key in times_kv_zero.keys()],\\n    [value[0] * 1000 for value in times_kv_zero.values()],\\n    label=\\\"Built-in Dictionary\\\",\\n)\\nplt.scatter(\\n    [int(key) for key in times_kv_zero.keys()],\\n    [value[1] * 1000 for value in times_kv_zero.values()],\\n    label=\\\"New KVStore\\\",\\n)\\nplt.xlabel(\\\"Size of Query Range\\\")\\nplt.ylabel(\\\"Runtime in ms\\\")\\nplt.legend()\\nplt.show()\";\n",
       "                var nbb_cells = Jupyter.notebook.get_cells();\n",
       "                for (var i = 0; i < nbb_cells.length; ++i) {\n",
       "                    if (nbb_cells[i].input_prompt_number == nbb_cell_id) {\n",
       "                        if (nbb_cells[i].get_text() == nbb_unformatted_code) {\n",
       "                             nbb_cells[i].set_text(nbb_formatted_code);\n",
       "                        }\n",
       "                        break;\n",
       "                    }\n",
       "                }\n",
       "            }, 500);\n",
       "            "
      ],
      "text/plain": [
       "<IPython.core.display.Javascript object>"
      ]
     },
     "metadata": {},
     "output_type": "display_data"
    }
   ],
   "source": [
    "print(\n",
    "    f\"There are {len(times_dict_zero)} queries for which runtime of DictKVStore = 0.\\n\"\n",
    ")\n",
    "print(f\"There are {len(times_kv_zero)} queries for which runtime of KVStore = 0.\\n\")\n",
    "\n",
    "plt.figure(figsize=(8, 6))\n",
    "plt.title(\"Speed Comparison for Range Query (KVStore Runtime = 0)\", fontsize=14)\n",
    "plt.scatter(\n",
    "    [int(key) for key in times_kv_zero.keys()],\n",
    "    [value[0] * 1000 for value in times_kv_zero.values()],\n",
    "    label=\"Built-in Dictionary\",\n",
    ")\n",
    "plt.scatter(\n",
    "    [int(key) for key in times_kv_zero.keys()],\n",
    "    [value[1] * 1000 for value in times_kv_zero.values()],\n",
    "    label=\"New KVStore\",\n",
    ")\n",
    "plt.xlabel(\"Size of Query Range\")\n",
    "plt.ylabel(\"Runtime in ms\")\n",
    "plt.legend()\n",
    "plt.show()"
   ]
  },
  {
   "cell_type": "markdown",
   "id": "527dfb80",
   "metadata": {},
   "source": [
    "#### Observations:\n",
    "- There were only a handful of queries for which the runtime was zero for `new_kv` and none for `dict_kv`.  \n",
    "- We can see that KVStore outperformed the built-in dictionary for all of these range queries."
   ]
  },
  {
   "cell_type": "markdown",
   "id": "945281c7",
   "metadata": {},
   "source": [
    "## Conclusion:\n",
    "Implementing a key-value store based on B-tree implementation allows for range queries, which are not avaible as a method of the built-in Python dictionary type.  Similar functionality can be achieved by extending the built-in dictionary class.  However, with query range sizes of up to ~4500 potential results, the B-tree implementation outperformed the built-in version, which is built using hash tables.  Above that size, the performance of the B-tree-based key-value store degraded to at par with, then below that of the built-in implementation, suggesting consideration of use case query size to determine the preferred approach.\n",
    "\n",
    "An additional consideration is that built-in Python dictionaries allow for mixing key data types, as long as they are hashable.  The KVStore class presented here allows for either numeric or string types, but not both."
   ]
  }
 ],
 "metadata": {
  "kernelspec": {
   "display_name": "Python 3 (ipykernel)",
   "language": "python",
   "name": "python3"
  },
  "language_info": {
   "codemirror_mode": {
    "name": "ipython",
    "version": 3
   },
   "file_extension": ".py",
   "mimetype": "text/x-python",
   "name": "python",
   "nbconvert_exporter": "python",
   "pygments_lexer": "ipython3",
   "version": "3.9.12"
  }
 },
 "nbformat": 4,
 "nbformat_minor": 5
}
