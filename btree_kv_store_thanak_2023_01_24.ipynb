{
 "cells": [
  {
   "cell_type": "markdown",
   "id": "93ee0de7",
   "metadata": {},
   "source": [
    "# B-tree Implementation for Key-value Store\n",
    "#### An example project illustring B-tree implementation in a key-value store with numeric/non-numeric unique keys including functional and performance tests"
   ]
  },
  {
   "cell_type": "markdown",
   "id": "eed1bd4d",
   "metadata": {},
   "source": [
    "### Node Implementation"
   ]
  },
  {
   "cell_type": "code",
   "execution_count": 211,
   "id": "4dd1e922",
   "metadata": {},
   "outputs": [
    {
     "data": {
      "application/javascript": [
       "\n",
       "            setTimeout(function() {\n",
       "                var nbb_cell_id = 211;\n",
       "                var nbb_unformatted_code = \"%load_ext nb_black\";\n",
       "                var nbb_formatted_code = \"%load_ext nb_black\";\n",
       "                var nbb_cells = Jupyter.notebook.get_cells();\n",
       "                for (var i = 0; i < nbb_cells.length; ++i) {\n",
       "                    if (nbb_cells[i].input_prompt_number == nbb_cell_id) {\n",
       "                        if (nbb_cells[i].get_text() == nbb_unformatted_code) {\n",
       "                             nbb_cells[i].set_text(nbb_formatted_code);\n",
       "                        }\n",
       "                        break;\n",
       "                    }\n",
       "                }\n",
       "            }, 500);\n",
       "            "
      ],
      "text/plain": [
       "<IPython.core.display.Javascript object>"
      ]
     },
     "metadata": {},
     "output_type": "display_data"
    }
   ],
   "source": [
    "%load_ext nb_black"
   ]
  },
  {
   "cell_type": "code",
   "execution_count": 214,
   "id": "0c7d106a",
   "metadata": {},
   "outputs": [
    {
     "data": {
      "application/javascript": [
       "\n",
       "            setTimeout(function() {\n",
       "                var nbb_cell_id = 214;\n",
       "                var nbb_unformatted_code = \"import bisect\\n\\n\\nclass Node:\\n    def __init__(self, keys=[], values=[], children=None, parent=None):\\n        self.keys = keys\\n        self.values = values\\n        self.children = children\\n        self.parent = parent\\n\\n\\n    def _get_value(self, key):\\n        for i, k in enumerate(self.keys):\\n            if k == key:\\n                return self.values[i]\\n        return None\\n\\n    def _get_insert_index(self, key):\\n        insert_index = bisect.bisect(self.keys, key)\\n        return insert_index\\n\\n    def _insert_entry(self, key, value):\\n        insert_index = self._get_insert_index(key)\\n        self.keys.insert(insert_index, key)\\n        self.values.insert(insert_index, value)\\n\\n    def _update_entry(self, key, value):\\n        for i, k in enumerate(self.keys):\\n            if k == key:\\n                self.values[i] = value\\n\\n    def contains(self, key):\\n        return key in self.keys\\n\\n    def add_update(self, key, value):\\n        if not self.contains(key):\\n            self._insert_entry(key, value)\\n        else:\\n            self._update_entry(key, value)\\n\\n    def _set_children(self, children):\\n        self.children = children\";\n",
       "                var nbb_formatted_code = \"import bisect\\n\\n\\nclass Node:\\n    def __init__(self, keys=[], values=[], children=None, parent=None):\\n        self.keys = keys\\n        self.values = values\\n        self.children = children\\n        self.parent = parent\\n\\n    def _get_value(self, key):\\n        for i, k in enumerate(self.keys):\\n            if k == key:\\n                return self.values[i]\\n        return None\\n\\n    def _get_insert_index(self, key):\\n        insert_index = bisect.bisect(self.keys, key)\\n        return insert_index\\n\\n    def _insert_entry(self, key, value):\\n        insert_index = self._get_insert_index(key)\\n        self.keys.insert(insert_index, key)\\n        self.values.insert(insert_index, value)\\n\\n    def _update_entry(self, key, value):\\n        for i, k in enumerate(self.keys):\\n            if k == key:\\n                self.values[i] = value\\n\\n    def contains(self, key):\\n        return key in self.keys\\n\\n    def add_update(self, key, value):\\n        if not self.contains(key):\\n            self._insert_entry(key, value)\\n        else:\\n            self._update_entry(key, value)\\n\\n    def _set_children(self, children):\\n        self.children = children\";\n",
       "                var nbb_cells = Jupyter.notebook.get_cells();\n",
       "                for (var i = 0; i < nbb_cells.length; ++i) {\n",
       "                    if (nbb_cells[i].input_prompt_number == nbb_cell_id) {\n",
       "                        if (nbb_cells[i].get_text() == nbb_unformatted_code) {\n",
       "                             nbb_cells[i].set_text(nbb_formatted_code);\n",
       "                        }\n",
       "                        break;\n",
       "                    }\n",
       "                }\n",
       "            }, 500);\n",
       "            "
      ],
      "text/plain": [
       "<IPython.core.display.Javascript object>"
      ]
     },
     "metadata": {},
     "output_type": "display_data"
    }
   ],
   "source": [
    "import bisect\n",
    "\n",
    "\n",
    "class Node:\n",
    "    def __init__(self, keys=[], values=[], children=None, parent=None):\n",
    "        self.keys = keys\n",
    "        self.values = values\n",
    "        self.children = children\n",
    "        self.parent = parent\n",
    "\n",
    "    def _get_value(self, key):\n",
    "        for i, k in enumerate(self.keys):\n",
    "            if k == key:\n",
    "                return self.values[i]\n",
    "        return None\n",
    "\n",
    "    def _get_insert_index(self, key):\n",
    "        insert_index = bisect.bisect(self.keys, key)\n",
    "        return insert_index\n",
    "\n",
    "    def _insert_entry(self, key, value):\n",
    "        insert_index = self._get_insert_index(key)\n",
    "        self.keys.insert(insert_index, key)\n",
    "        self.values.insert(insert_index, value)\n",
    "\n",
    "    def _update_entry(self, key, value):\n",
    "        for i, k in enumerate(self.keys):\n",
    "            if k == key:\n",
    "                self.values[i] = value\n",
    "\n",
    "    def contains(self, key):\n",
    "        return key in self.keys\n",
    "\n",
    "    def add_update(self, key, value):\n",
    "        if not self.contains(key):\n",
    "            self._insert_entry(key, value)\n",
    "        else:\n",
    "            self._update_entry(key, value)\n",
    "\n",
    "    def _set_children(self, children):\n",
    "        self.children = children"
   ]
  },
  {
   "cell_type": "markdown",
   "id": "0b168025",
   "metadata": {},
   "source": [
    "### B-tree Implementation"
   ]
  },
  {
   "cell_type": "code",
   "execution_count": 217,
   "id": "91bac68f",
   "metadata": {},
   "outputs": [
    {
     "data": {
      "application/javascript": [
       "\n",
       "            setTimeout(function() {\n",
       "                var nbb_cell_id = 217;\n",
       "                var nbb_unformatted_code = \"class BTree:\\n    def __init__(self):\\n        self.root = Node()\\n        self.height = 0\\n        self.size = 0\\n\\n    def split_without_parent(self):\\n        split_index = len(self) // 2\\n        key_to_move_up = self.keys(split_index)\\n        value_to_move_up = self.values(split_index)\\n        right_node = Node(\\n            self.keys[split_index + 1 :],\\n            self.values[split_index + 1 :],\\n            self.children[split_index + 1],\\n        )\\n        self.keys = self.keys[:split_index]\\n        self.values = self.values[:split_index]\\n        self.children = self.children[: split_index + 1]\\n        parent = Node(key_to_move_up, value_to_move_up, [self, right_node])\\n        self.parent = parent\\n        right_node.parent = parent\\n        self.root = parent\\n        self.height += 1\\n\\n    def split_with_parent(self):\\n        split_index = len(self) // 2\\n        key_to_move_up = self.keys(split_index)\\n        value_to_move_up = self.values(split_index)\\n        right_node = Node(self.keys[split_index + 1 :], self.values[split_index+1:], self.children[split_index+1:])\\n        self.keys = self.keys[:split_index]\\n        self.values = self.values[:split_index]\\n        self.children = self.children[:split_index+1]\\n        self.parent._insert_entry(key_to_move_up, value_to_move_up)\\n        self.parent._set_children([self, right_node])\\n        right_node.parent = self.parent\\n        \\n\\n    def _split_(self, current_node):\\n        if parent is None:\\n            return current_node.split_without_parent()\\n        return current_node.split_with_parent()\";\n",
       "                var nbb_formatted_code = \"class BTree:\\n    def __init__(self):\\n        self.root = Node()\\n        self.height = 0\\n        self.size = 0\\n\\n    def split_without_parent(self):\\n        split_index = len(self) // 2\\n        key_to_move_up = self.keys(split_index)\\n        value_to_move_up = self.values(split_index)\\n        right_node = Node(\\n            self.keys[split_index + 1 :],\\n            self.values[split_index + 1 :],\\n            self.children[split_index + 1],\\n        )\\n        self.keys = self.keys[:split_index]\\n        self.values = self.values[:split_index]\\n        self.children = self.children[: split_index + 1]\\n        parent = Node(key_to_move_up, value_to_move_up, [self, right_node])\\n        self.parent = parent\\n        right_node.parent = parent\\n        self.root = parent\\n        self.height += 1\\n\\n    def split_with_parent(self):\\n        split_index = len(self) // 2\\n        key_to_move_up = self.keys(split_index)\\n        value_to_move_up = self.values(split_index)\\n        right_node = Node(\\n            self.keys[split_index + 1 :],\\n            self.values[split_index + 1 :],\\n            self.children[split_index + 1 :],\\n        )\\n        self.keys = self.keys[:split_index]\\n        self.values = self.values[:split_index]\\n        self.children = self.children[: split_index + 1]\\n        self.parent._insert_entry(key_to_move_up, value_to_move_up)\\n        self.parent._set_children([self, right_node])\\n        right_node.parent = self.parent\\n\\n    def _split_(self, current_node):\\n        if parent is None:\\n            return current_node.split_without_parent()\\n        return current_node.split_with_parent()\";\n",
       "                var nbb_cells = Jupyter.notebook.get_cells();\n",
       "                for (var i = 0; i < nbb_cells.length; ++i) {\n",
       "                    if (nbb_cells[i].input_prompt_number == nbb_cell_id) {\n",
       "                        if (nbb_cells[i].get_text() == nbb_unformatted_code) {\n",
       "                             nbb_cells[i].set_text(nbb_formatted_code);\n",
       "                        }\n",
       "                        break;\n",
       "                    }\n",
       "                }\n",
       "            }, 500);\n",
       "            "
      ],
      "text/plain": [
       "<IPython.core.display.Javascript object>"
      ]
     },
     "metadata": {},
     "output_type": "display_data"
    }
   ],
   "source": [
    "class BTree:\n",
    "    def __init__(self):\n",
    "        self.root = Node()\n",
    "        self.height = 0\n",
    "        self.size = 0\n",
    "\n",
    "    def split_without_parent(self):\n",
    "        split_index = len(self) // 2\n",
    "        key_to_move_up = self.keys(split_index)\n",
    "        value_to_move_up = self.values(split_index)\n",
    "        right_node = Node(\n",
    "            self.keys[split_index + 1 :],\n",
    "            self.values[split_index + 1 :],\n",
    "            self.children[split_index + 1],\n",
    "        )\n",
    "        self.keys = self.keys[:split_index]\n",
    "        self.values = self.values[:split_index]\n",
    "        self.children = self.children[: split_index + 1]\n",
    "        parent = Node(key_to_move_up, value_to_move_up, [self, right_node])\n",
    "        self.parent = parent\n",
    "        right_node.parent = parent\n",
    "        self.root = parent\n",
    "        self.height += 1\n",
    "\n",
    "    def split_with_parent(self):\n",
    "        split_index = len(self) // 2\n",
    "        key_to_move_up = self.keys(split_index)\n",
    "        value_to_move_up = self.values(split_index)\n",
    "        right_node = Node(\n",
    "            self.keys[split_index + 1 :],\n",
    "            self.values[split_index + 1 :],\n",
    "            self.children[split_index + 1 :],\n",
    "        )\n",
    "        self.keys = self.keys[:split_index]\n",
    "        self.values = self.values[:split_index]\n",
    "        self.children = self.children[: split_index + 1]\n",
    "        self.parent._insert_entry(key_to_move_up, value_to_move_up)\n",
    "        self.parent._set_children([self, right_node])\n",
    "        right_node.parent = self.parent\n",
    "\n",
    "    def _split_(self, current_node):\n",
    "        if parent is None:\n",
    "            return current_node.split_without_parent()\n",
    "        return current_node.split_with_parent()\n",
    "    \n",
    "    def __len__(self):\n",
    "        return self.size\n",
    "    \n",
    "    def _add(self, current_node, key, value):\n",
    "        child_index = current_node._get_insert_index(key)\n",
    "        \n",
    "    def _add_recursive(self, key, value):\n",
    "        \n",
    "        \n",
    "        \n",
    "    \n",
    "    "
   ]
  },
  {
   "cell_type": "code",
   "execution_count": 218,
   "id": "4f668f51",
   "metadata": {},
   "outputs": [
    {
     "data": {
      "application/javascript": [
       "\n",
       "            setTimeout(function() {\n",
       "                var nbb_cell_id = 218;\n",
       "                var nbb_unformatted_code = \"bt = BTree()\";\n",
       "                var nbb_formatted_code = \"bt = BTree()\";\n",
       "                var nbb_cells = Jupyter.notebook.get_cells();\n",
       "                for (var i = 0; i < nbb_cells.length; ++i) {\n",
       "                    if (nbb_cells[i].input_prompt_number == nbb_cell_id) {\n",
       "                        if (nbb_cells[i].get_text() == nbb_unformatted_code) {\n",
       "                             nbb_cells[i].set_text(nbb_formatted_code);\n",
       "                        }\n",
       "                        break;\n",
       "                    }\n",
       "                }\n",
       "            }, 500);\n",
       "            "
      ],
      "text/plain": [
       "<IPython.core.display.Javascript object>"
      ]
     },
     "metadata": {},
     "output_type": "display_data"
    }
   ],
   "source": [
    "bt = BTree()"
   ]
  },
  {
   "cell_type": "code",
   "execution_count": 215,
   "id": "e3e97bf7",
   "metadata": {},
   "outputs": [
    {
     "data": {
      "text/plain": [
       "['a', 'b', 'k']"
      ]
     },
     "execution_count": 215,
     "metadata": {},
     "output_type": "execute_result"
    },
    {
     "data": {
      "application/javascript": [
       "\n",
       "            setTimeout(function() {\n",
       "                var nbb_cell_id = 215;\n",
       "                var nbb_unformatted_code = \"x.keys\";\n",
       "                var nbb_formatted_code = \"x.keys\";\n",
       "                var nbb_cells = Jupyter.notebook.get_cells();\n",
       "                for (var i = 0; i < nbb_cells.length; ++i) {\n",
       "                    if (nbb_cells[i].input_prompt_number == nbb_cell_id) {\n",
       "                        if (nbb_cells[i].get_text() == nbb_unformatted_code) {\n",
       "                             nbb_cells[i].set_text(nbb_formatted_code);\n",
       "                        }\n",
       "                        break;\n",
       "                    }\n",
       "                }\n",
       "            }, 500);\n",
       "            "
      ],
      "text/plain": [
       "<IPython.core.display.Javascript object>"
      ]
     },
     "metadata": {},
     "output_type": "display_data"
    }
   ],
   "source": [
    "x = Node()"
   ]
  },
  {
   "cell_type": "code",
   "execution_count": 216,
   "id": "918913fe",
   "metadata": {},
   "outputs": [
    {
     "data": {
      "text/plain": [
       "[5, 15, 4]"
      ]
     },
     "execution_count": 216,
     "metadata": {},
     "output_type": "execute_result"
    },
    {
     "data": {
      "application/javascript": [
       "\n",
       "            setTimeout(function() {\n",
       "                var nbb_cell_id = 216;\n",
       "                var nbb_unformatted_code = \"x.values\";\n",
       "                var nbb_formatted_code = \"x.values\";\n",
       "                var nbb_cells = Jupyter.notebook.get_cells();\n",
       "                for (var i = 0; i < nbb_cells.length; ++i) {\n",
       "                    if (nbb_cells[i].input_prompt_number == nbb_cell_id) {\n",
       "                        if (nbb_cells[i].get_text() == nbb_unformatted_code) {\n",
       "                             nbb_cells[i].set_text(nbb_formatted_code);\n",
       "                        }\n",
       "                        break;\n",
       "                    }\n",
       "                }\n",
       "            }, 500);\n",
       "            "
      ],
      "text/plain": [
       "<IPython.core.display.Javascript object>"
      ]
     },
     "metadata": {},
     "output_type": "display_data"
    }
   ],
   "source": [
    "x.values"
   ]
  },
  {
   "cell_type": "code",
   "execution_count": 219,
   "id": "7af77e86",
   "metadata": {},
   "outputs": [
    {
     "data": {
      "application/javascript": [
       "\n",
       "            setTimeout(function() {\n",
       "                var nbb_cell_id = 219;\n",
       "                var nbb_unformatted_code = \"x.add_update('bed', 24)\";\n",
       "                var nbb_formatted_code = \"x.add_update(\\\"bed\\\", 24)\";\n",
       "                var nbb_cells = Jupyter.notebook.get_cells();\n",
       "                for (var i = 0; i < nbb_cells.length; ++i) {\n",
       "                    if (nbb_cells[i].input_prompt_number == nbb_cell_id) {\n",
       "                        if (nbb_cells[i].get_text() == nbb_unformatted_code) {\n",
       "                             nbb_cells[i].set_text(nbb_formatted_code);\n",
       "                        }\n",
       "                        break;\n",
       "                    }\n",
       "                }\n",
       "            }, 500);\n",
       "            "
      ],
      "text/plain": [
       "<IPython.core.display.Javascript object>"
      ]
     },
     "metadata": {},
     "output_type": "display_data"
    }
   ],
   "source": [
    "x.add_update(\"bed\", 24)"
   ]
  },
  {
   "cell_type": "code",
   "execution_count": 220,
   "id": "d54ed788",
   "metadata": {},
   "outputs": [
    {
     "data": {
      "text/plain": [
       "['a', 'b', 'bed', 'k']"
      ]
     },
     "execution_count": 220,
     "metadata": {},
     "output_type": "execute_result"
    },
    {
     "data": {
      "application/javascript": [
       "\n",
       "            setTimeout(function() {\n",
       "                var nbb_cell_id = 220;\n",
       "                var nbb_unformatted_code = \"x.keys\";\n",
       "                var nbb_formatted_code = \"x.keys\";\n",
       "                var nbb_cells = Jupyter.notebook.get_cells();\n",
       "                for (var i = 0; i < nbb_cells.length; ++i) {\n",
       "                    if (nbb_cells[i].input_prompt_number == nbb_cell_id) {\n",
       "                        if (nbb_cells[i].get_text() == nbb_unformatted_code) {\n",
       "                             nbb_cells[i].set_text(nbb_formatted_code);\n",
       "                        }\n",
       "                        break;\n",
       "                    }\n",
       "                }\n",
       "            }, 500);\n",
       "            "
      ],
      "text/plain": [
       "<IPython.core.display.Javascript object>"
      ]
     },
     "metadata": {},
     "output_type": "display_data"
    }
   ],
   "source": [
    "x.keys"
   ]
  },
  {
   "cell_type": "code",
   "execution_count": 221,
   "id": "fe5a9221",
   "metadata": {},
   "outputs": [
    {
     "data": {
      "application/javascript": [
       "\n",
       "            setTimeout(function() {\n",
       "                var nbb_cell_id = 221;\n",
       "                var nbb_unformatted_code = \"y = Node()\";\n",
       "                var nbb_formatted_code = \"y = Node()\";\n",
       "                var nbb_cells = Jupyter.notebook.get_cells();\n",
       "                for (var i = 0; i < nbb_cells.length; ++i) {\n",
       "                    if (nbb_cells[i].input_prompt_number == nbb_cell_id) {\n",
       "                        if (nbb_cells[i].get_text() == nbb_unformatted_code) {\n",
       "                             nbb_cells[i].set_text(nbb_formatted_code);\n",
       "                        }\n",
       "                        break;\n",
       "                    }\n",
       "                }\n",
       "            }, 500);\n",
       "            "
      ],
      "text/plain": [
       "<IPython.core.display.Javascript object>"
      ]
     },
     "metadata": {},
     "output_type": "display_data"
    }
   ],
   "source": [
    "y = Node()"
   ]
  },
  {
   "cell_type": "code",
   "execution_count": 223,
   "id": "02cf0184",
   "metadata": {},
   "outputs": [
    {
     "data": {
      "application/javascript": [
       "\n",
       "            setTimeout(function() {\n",
       "                var nbb_cell_id = 223;\n",
       "                var nbb_unformatted_code = \"y.add_update(14, 5)\";\n",
       "                var nbb_formatted_code = \"y.add_update(14, 5)\";\n",
       "                var nbb_cells = Jupyter.notebook.get_cells();\n",
       "                for (var i = 0; i < nbb_cells.length; ++i) {\n",
       "                    if (nbb_cells[i].input_prompt_number == nbb_cell_id) {\n",
       "                        if (nbb_cells[i].get_text() == nbb_unformatted_code) {\n",
       "                             nbb_cells[i].set_text(nbb_formatted_code);\n",
       "                        }\n",
       "                        break;\n",
       "                    }\n",
       "                }\n",
       "            }, 500);\n",
       "            "
      ],
      "text/plain": [
       "<IPython.core.display.Javascript object>"
      ]
     },
     "metadata": {},
     "output_type": "display_data"
    }
   ],
   "source": [
    "y.add_update(14, 5)"
   ]
  },
  {
   "cell_type": "code",
   "execution_count": 224,
   "id": "c8dd476d",
   "metadata": {},
   "outputs": [
    {
     "data": {
      "text/plain": [
       "[14]"
      ]
     },
     "execution_count": 224,
     "metadata": {},
     "output_type": "execute_result"
    },
    {
     "data": {
      "application/javascript": [
       "\n",
       "            setTimeout(function() {\n",
       "                var nbb_cell_id = 224;\n",
       "                var nbb_unformatted_code = \"y.keys\";\n",
       "                var nbb_formatted_code = \"y.keys\";\n",
       "                var nbb_cells = Jupyter.notebook.get_cells();\n",
       "                for (var i = 0; i < nbb_cells.length; ++i) {\n",
       "                    if (nbb_cells[i].input_prompt_number == nbb_cell_id) {\n",
       "                        if (nbb_cells[i].get_text() == nbb_unformatted_code) {\n",
       "                             nbb_cells[i].set_text(nbb_formatted_code);\n",
       "                        }\n",
       "                        break;\n",
       "                    }\n",
       "                }\n",
       "            }, 500);\n",
       "            "
      ],
      "text/plain": [
       "<IPython.core.display.Javascript object>"
      ]
     },
     "metadata": {},
     "output_type": "display_data"
    }
   ],
   "source": [
    "y.keys"
   ]
  },
  {
   "cell_type": "code",
   "execution_count": null,
   "id": "339faeb3",
   "metadata": {},
   "outputs": [],
   "source": []
  }
 ],
 "metadata": {
  "kernelspec": {
   "display_name": "Python 3 (ipykernel)",
   "language": "python",
   "name": "python3"
  },
  "language_info": {
   "codemirror_mode": {
    "name": "ipython",
    "version": 3
   },
   "file_extension": ".py",
   "mimetype": "text/x-python",
   "name": "python",
   "nbconvert_exporter": "python",
   "pygments_lexer": "ipython3",
   "version": "3.9.12"
  }
 },
 "nbformat": 4,
 "nbformat_minor": 5
}
