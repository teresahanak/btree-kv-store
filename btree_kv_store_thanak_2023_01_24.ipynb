{
 "cells": [
  {
   "cell_type": "markdown",
   "id": "82406346",
   "metadata": {},
   "source": [
    "# B-tree Implementation for Key-value Store\n",
    "#### An example project illustring B-tree implementation in a key-value store with numeric/non-numeric unique keys including functional and performance tests"
   ]
  },
  {
   "cell_type": "markdown",
   "id": "ab78059e",
   "metadata": {},
   "source": [
    "### Node Implementation"
   ]
  },
  {
   "cell_type": "code",
   "execution_count": 1,
   "id": "e8cfb06d",
   "metadata": {},
   "outputs": [
    {
     "data": {
      "application/javascript": [
       "\n",
       "            setTimeout(function() {\n",
       "                var nbb_cell_id = 1;\n",
       "                var nbb_unformatted_code = \"%load_ext nb_black\";\n",
       "                var nbb_formatted_code = \"%load_ext nb_black\";\n",
       "                var nbb_cells = Jupyter.notebook.get_cells();\n",
       "                for (var i = 0; i < nbb_cells.length; ++i) {\n",
       "                    if (nbb_cells[i].input_prompt_number == nbb_cell_id) {\n",
       "                        if (nbb_cells[i].get_text() == nbb_unformatted_code) {\n",
       "                             nbb_cells[i].set_text(nbb_formatted_code);\n",
       "                        }\n",
       "                        break;\n",
       "                    }\n",
       "                }\n",
       "            }, 500);\n",
       "            "
      ],
      "text/plain": [
       "<IPython.core.display.Javascript object>"
      ]
     },
     "metadata": {},
     "output_type": "display_data"
    }
   ],
   "source": [
    "%load_ext nb_black"
   ]
  },
  {
   "cell_type": "code",
   "execution_count": 2,
   "id": "a31f3ae3",
   "metadata": {},
   "outputs": [
    {
     "data": {
      "application/javascript": [
       "\n",
       "            setTimeout(function() {\n",
       "                var nbb_cell_id = 2;\n",
       "                var nbb_unformatted_code = \"import bisect\\n\\n\\nclass Node:\\n    def __init__(self, keys=None, values=None, children=None, parent=None):\\n        self.keys = keys or []\\n        self.values = values or []\\n        self.parent = parent\\n        self.set_children(children)\\n\\n    def __len__(self):\\n        return len(self.values)\\n\\n    def set_children(self, children):\\n        self.children = children or []\\n        for child in self.children:\\n            child.parent = self\\n\\n    def is_leaf(self):\\n        return len(self.children) == 0\\n\\n    def contains_key(self, key):\\n        return key in self.keys\\n\\n    def get_value(self, key):\\n        for i, k in enumerate(self.keys):\\n            if k == key:\\n                return self.values[i]\\n        print(f'Key Error: \\\"{key}\\\" not found')\\n        return None\\n\\n    def _get_insert_index(self, key):\\n        return bisect.bisect(self.keys, key)\\n\\n    def _update_entry(self, key, value):\\n        for i, k in enumerate(self.keys):\\n            if k == key:\\n                self.values[i] = value\\n\\n    def insert_entry(self, key, value):\\n        if self.contains_key(key):\\n            self._update_entry(key, value)\\n        else:\\n            insert_index = self._get_insert_index(key)\\n            self.keys.insert(insert_index, key)\\n            self.values.insert(insert_index, value)\\n            return insert_index  # insert_index used for insert_child call on split_with_parent\\n\\n    def split(self):\\n        if self.parent is None:\\n            return self._split_no_parent()\\n        return self._split_with_parent()\\n\\n    def _split_no_parent(self):\\n        split_index = len(self) // 2\\n        key_to_move_up = self.keys[split_index]\\n        value_to_move_up = self.values[split_index]\\n        right_node = Node(\\n            self.keys[split_index + 1 :],\\n            self.values[split_index + 1 :],\\n            self.children[split_index + 1 :],\\n        )\\n        self.keys = self.keys[:split_index]\\n        self.values = self.values[:split_index]\\n        self.children = self.children[: split_index + 1]\\n        parent = Node([key_to_move_up], [value_to_move_up], [self, right_node])\\n        return parent\\n\\n    def _insert_child(self, insert_index, child):\\n        self.children.insert(insert_index, child)\\n        child.parent = self\\n\\n    def _split_with_parent(self):\\n        split_index = len(self) // 2\\n        key_to_move_up = self.keys[split_index]\\n        value_to_move_up = self.values[split_index]\\n        right_node = Node(\\n            self.keys[split_index + 1 :],\\n            self.values[split_index + 1 :],\\n            self.children[split_index + 1 :],\\n        )\\n        self.keys = self.keys[:split_index]\\n        self.values = self.values[:split_index]\\n        self.children = self.children[: split_index + 1]\\n        insert_index = self.parent.insert_entry(key_to_move_up, value_to_move_up)\\n        self.parent._insert_child(insert_index + 1, right_node)\";\n",
       "                var nbb_formatted_code = \"import bisect\\n\\n\\nclass Node:\\n    def __init__(self, keys=None, values=None, children=None, parent=None):\\n        self.keys = keys or []\\n        self.values = values or []\\n        self.parent = parent\\n        self.set_children(children)\\n\\n    def __len__(self):\\n        return len(self.values)\\n\\n    def set_children(self, children):\\n        self.children = children or []\\n        for child in self.children:\\n            child.parent = self\\n\\n    def is_leaf(self):\\n        return len(self.children) == 0\\n\\n    def contains_key(self, key):\\n        return key in self.keys\\n\\n    def get_value(self, key):\\n        for i, k in enumerate(self.keys):\\n            if k == key:\\n                return self.values[i]\\n        print(f'Key Error: \\\"{key}\\\" not found')\\n        return None\\n\\n    def _get_insert_index(self, key):\\n        return bisect.bisect(self.keys, key)\\n\\n    def _update_entry(self, key, value):\\n        for i, k in enumerate(self.keys):\\n            if k == key:\\n                self.values[i] = value\\n\\n    def insert_entry(self, key, value):\\n        if self.contains_key(key):\\n            self._update_entry(key, value)\\n        else:\\n            insert_index = self._get_insert_index(key)\\n            self.keys.insert(insert_index, key)\\n            self.values.insert(insert_index, value)\\n            return insert_index  # insert_index used for insert_child call on split_with_parent\\n\\n    def split(self):\\n        if self.parent is None:\\n            return self._split_no_parent()\\n        return self._split_with_parent()\\n\\n    def _split_no_parent(self):\\n        split_index = len(self) // 2\\n        key_to_move_up = self.keys[split_index]\\n        value_to_move_up = self.values[split_index]\\n        right_node = Node(\\n            self.keys[split_index + 1 :],\\n            self.values[split_index + 1 :],\\n            self.children[split_index + 1 :],\\n        )\\n        self.keys = self.keys[:split_index]\\n        self.values = self.values[:split_index]\\n        self.children = self.children[: split_index + 1]\\n        parent = Node([key_to_move_up], [value_to_move_up], [self, right_node])\\n        return parent\\n\\n    def _insert_child(self, insert_index, child):\\n        self.children.insert(insert_index, child)\\n        child.parent = self\\n\\n    def _split_with_parent(self):\\n        split_index = len(self) // 2\\n        key_to_move_up = self.keys[split_index]\\n        value_to_move_up = self.values[split_index]\\n        right_node = Node(\\n            self.keys[split_index + 1 :],\\n            self.values[split_index + 1 :],\\n            self.children[split_index + 1 :],\\n        )\\n        self.keys = self.keys[:split_index]\\n        self.values = self.values[:split_index]\\n        self.children = self.children[: split_index + 1]\\n        insert_index = self.parent.insert_entry(key_to_move_up, value_to_move_up)\\n        self.parent._insert_child(insert_index + 1, right_node)\";\n",
       "                var nbb_cells = Jupyter.notebook.get_cells();\n",
       "                for (var i = 0; i < nbb_cells.length; ++i) {\n",
       "                    if (nbb_cells[i].input_prompt_number == nbb_cell_id) {\n",
       "                        if (nbb_cells[i].get_text() == nbb_unformatted_code) {\n",
       "                             nbb_cells[i].set_text(nbb_formatted_code);\n",
       "                        }\n",
       "                        break;\n",
       "                    }\n",
       "                }\n",
       "            }, 500);\n",
       "            "
      ],
      "text/plain": [
       "<IPython.core.display.Javascript object>"
      ]
     },
     "metadata": {},
     "output_type": "display_data"
    }
   ],
   "source": [
    "import bisect\n",
    "\n",
    "\n",
    "class Node:\n",
    "    def __init__(self, keys=None, values=None, children=None, parent=None):\n",
    "        self.keys = keys or []\n",
    "        self.values = values or []\n",
    "        self.parent = parent\n",
    "        self.set_children(children)\n",
    "\n",
    "    def __len__(self):\n",
    "        return len(self.values)\n",
    "\n",
    "    def set_children(self, children):\n",
    "        self.children = children or []\n",
    "        for child in self.children:\n",
    "            child.parent = self\n",
    "\n",
    "    def is_leaf(self):\n",
    "        return len(self.children) == 0\n",
    "\n",
    "    def contains_key(self, key):\n",
    "        return key in self.keys\n",
    "\n",
    "    def get_value(self, key):\n",
    "        for i, k in enumerate(self.keys):\n",
    "            if k == key:\n",
    "                return self.values[i]\n",
    "        print(f'Key Error: \"{key}\" not found')\n",
    "        return None\n",
    "\n",
    "    def _get_insert_index(self, key):\n",
    "        return bisect.bisect(self.keys, key)\n",
    "\n",
    "    def _update_entry(self, key, value):\n",
    "        for i, k in enumerate(self.keys):\n",
    "            if k == key:\n",
    "                self.values[i] = value\n",
    "\n",
    "    def insert_entry(self, key, value):\n",
    "        if self.contains_key(key):\n",
    "            self._update_entry(key, value)\n",
    "        else:\n",
    "            insert_index = self._get_insert_index(key)\n",
    "            self.keys.insert(insert_index, key)\n",
    "            self.values.insert(insert_index, value)\n",
    "            return insert_index  # insert_index used for insert_child call on split_with_parent\n",
    "\n",
    "    def split(self):\n",
    "        if self.parent is None:\n",
    "            return self._split_no_parent()\n",
    "        return self._split_with_parent()\n",
    "\n",
    "    def _split_no_parent(self):\n",
    "        split_index = len(self) // 2\n",
    "        key_to_move_up = self.keys[split_index]\n",
    "        value_to_move_up = self.values[split_index]\n",
    "        right_node = Node(\n",
    "            self.keys[split_index + 1 :],\n",
    "            self.values[split_index + 1 :],\n",
    "            self.children[split_index + 1 :],\n",
    "        )\n",
    "        self.keys = self.keys[:split_index]\n",
    "        self.values = self.values[:split_index]\n",
    "        self.children = self.children[: split_index + 1]\n",
    "        parent = Node([key_to_move_up], [value_to_move_up], [self, right_node])\n",
    "        return parent\n",
    "\n",
    "    def _insert_child(self, insert_index, child):\n",
    "        self.children.insert(insert_index, child)\n",
    "        child.parent = self\n",
    "\n",
    "    def _split_with_parent(self):\n",
    "        split_index = len(self) // 2\n",
    "        key_to_move_up = self.keys[split_index]\n",
    "        value_to_move_up = self.values[split_index]\n",
    "        right_node = Node(\n",
    "            self.keys[split_index + 1 :],\n",
    "            self.values[split_index + 1 :],\n",
    "            self.children[split_index + 1 :],\n",
    "        )\n",
    "        self.keys = self.keys[:split_index]\n",
    "        self.values = self.values[:split_index]\n",
    "        self.children = self.children[: split_index + 1]\n",
    "        insert_index = self.parent.insert_entry(key_to_move_up, value_to_move_up)\n",
    "        self.parent._insert_child(insert_index + 1, right_node)"
   ]
  },
  {
   "cell_type": "markdown",
   "id": "22c7e13e",
   "metadata": {},
   "source": [
    "### B-tree Implementation"
   ]
  }
 ],
 "metadata": {
  "kernelspec": {
   "display_name": "Python 3 (ipykernel)",
   "language": "python",
   "name": "python3"
  },
  "language_info": {
   "codemirror_mode": {
    "name": "ipython",
    "version": 3
   },
   "file_extension": ".py",
   "mimetype": "text/x-python",
   "name": "python",
   "nbconvert_exporter": "python",
   "pygments_lexer": "ipython3",
   "version": "3.9.12"
  }
 },
 "nbformat": 4,
 "nbformat_minor": 5
}
