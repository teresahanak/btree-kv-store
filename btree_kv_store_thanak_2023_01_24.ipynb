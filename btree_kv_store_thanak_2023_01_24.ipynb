{
 "cells": [
  {
   "cell_type": "markdown",
   "id": "e4a7f867",
   "metadata": {},
   "source": [
    "# B-tree Implementation for Key-value Store\n",
    "#### An example project illustring B-tree implementation in a key-value store with numeric/non-numeric unique keys including functional and performance tests"
   ]
  },
  {
   "cell_type": "markdown",
   "id": "d05bf95e",
   "metadata": {},
   "source": [
    "### Node Implementation"
   ]
  },
  {
   "cell_type": "code",
   "execution_count": 136,
   "id": "dd76c057",
   "metadata": {},
   "outputs": [],
   "source": [
    "import bisect\n",
    "\n",
    "class Node:\n",
    "    \n",
    "    def __init__(self):\n",
    "        self.keys = []\n",
    "        self.values = []\n",
    "        self.parent = None\n",
    "        self.children = None\n",
    "        \n",
    "    def _get_value(self, key):\n",
    "        for i, k in enumerate(self.keys):\n",
    "            if k == key:\n",
    "                return self.values[i]\n",
    "        return None\n",
    "\n",
    "    def _get_insert_index(self, key):\n",
    "        insert_index = bisect.bisect(self.keys, key)\n",
    "        return insert_index\n",
    "    \n",
    "    def _insert_entry(self, key, value):\n",
    "        insert_index = self._get_insert_index(key)\n",
    "        self.keys.insert(insert_index, key)\n",
    "        self.values.insert(insert_index, value)\n",
    "\n",
    "    def _update_entry(self, key, value):\n",
    "        for i, k in enumerate(self.keys):\n",
    "            if k == key:\n",
    "                self.values[i] = value        \n",
    "                \n",
    "    def add_update(self, key, value):\n",
    "        if not self._get_value(key):\n",
    "            self._insert_entry(key, value)\n",
    "        else:\n",
    "            self._update_entry(key, value)"
   ]
  },
  {
   "cell_type": "markdown",
   "id": "f2e6be20",
   "metadata": {},
   "source": [
    "### B-tree Implementation"
   ]
  },
  {
   "cell_type": "code",
   "execution_count": 25,
   "id": "d559805d",
   "metadata": {},
   "outputs": [
    {
     "data": {
      "text/plain": [
       "['a', 'b', 'c', 'd']"
      ]
     },
     "execution_count": 25,
     "metadata": {},
     "output_type": "execute_result"
    }
   ],
   "source": [
    "class BTree:\n",
    "    \n",
    "    def __init__(self):\n",
    "        self.root = Node()\n",
    "        self.height = 0\n",
    "        self.size = 0\n",
    "        \n",
    "        \n",
    "    def _add(self, current_node, key, value):\n",
    "        "
   ]
  },
  {
   "cell_type": "code",
   "execution_count": 137,
   "id": "9b33cb7b",
   "metadata": {},
   "outputs": [],
   "source": [
    "x = Node()\n"
   ]
  },
  {
   "cell_type": "code",
   "execution_count": 139,
   "id": "24eb3f72",
   "metadata": {},
   "outputs": [],
   "source": [
    "x.add_update('k', 4)"
   ]
  },
  {
   "cell_type": "code",
   "execution_count": 140,
   "id": "12402d90",
   "metadata": {},
   "outputs": [
    {
     "data": {
      "text/plain": [
       "['k']"
      ]
     },
     "execution_count": 140,
     "metadata": {},
     "output_type": "execute_result"
    }
   ],
   "source": [
    "x.keys"
   ]
  },
  {
   "cell_type": "code",
   "execution_count": 141,
   "id": "5d436fcf",
   "metadata": {},
   "outputs": [
    {
     "data": {
      "text/plain": [
       "[4]"
      ]
     },
     "execution_count": 141,
     "metadata": {},
     "output_type": "execute_result"
    }
   ],
   "source": [
    "x.values"
   ]
  },
  {
   "cell_type": "code",
   "execution_count": 142,
   "id": "96823c5c",
   "metadata": {},
   "outputs": [],
   "source": [
    "x.add_update('a', 5)"
   ]
  },
  {
   "cell_type": "code",
   "execution_count": 143,
   "id": "1be5f76f",
   "metadata": {},
   "outputs": [
    {
     "data": {
      "text/plain": [
       "['a', 'k']"
      ]
     },
     "execution_count": 143,
     "metadata": {},
     "output_type": "execute_result"
    }
   ],
   "source": [
    "x.keys"
   ]
  },
  {
   "cell_type": "code",
   "execution_count": 144,
   "id": "12bb2aab",
   "metadata": {},
   "outputs": [
    {
     "data": {
      "text/plain": [
       "[5, 4]"
      ]
     },
     "execution_count": 144,
     "metadata": {},
     "output_type": "execute_result"
    }
   ],
   "source": [
    "x.values"
   ]
  },
  {
   "cell_type": "code",
   "execution_count": 145,
   "id": "9477e87f",
   "metadata": {},
   "outputs": [
    {
     "data": {
      "text/plain": [
       "4"
      ]
     },
     "execution_count": 145,
     "metadata": {},
     "output_type": "execute_result"
    }
   ],
   "source": [
    "x._get_value('k')"
   ]
  },
  {
   "cell_type": "code",
   "execution_count": 146,
   "id": "678af5f2",
   "metadata": {},
   "outputs": [],
   "source": [
    "x._get_value('b')"
   ]
  },
  {
   "cell_type": "code",
   "execution_count": 148,
   "id": "44e08e46",
   "metadata": {},
   "outputs": [],
   "source": [
    "x.add_update('b', 19)"
   ]
  },
  {
   "cell_type": "code",
   "execution_count": 149,
   "id": "545b5eca",
   "metadata": {},
   "outputs": [
    {
     "data": {
      "text/plain": [
       "['a', 'b', 'k']"
      ]
     },
     "execution_count": 149,
     "metadata": {},
     "output_type": "execute_result"
    }
   ],
   "source": [
    "x.keys"
   ]
  },
  {
   "cell_type": "code",
   "execution_count": 150,
   "id": "7075f711",
   "metadata": {},
   "outputs": [
    {
     "data": {
      "text/plain": [
       "[5, 19, 4]"
      ]
     },
     "execution_count": 150,
     "metadata": {},
     "output_type": "execute_result"
    }
   ],
   "source": [
    "x.values"
   ]
  },
  {
   "cell_type": "code",
   "execution_count": 151,
   "id": "1e5a429d",
   "metadata": {},
   "outputs": [],
   "source": [
    "x.add_update('b', 15)"
   ]
  },
  {
   "cell_type": "code",
   "execution_count": 152,
   "id": "c1748144",
   "metadata": {},
   "outputs": [
    {
     "data": {
      "text/plain": [
       "[5, 15, 4]"
      ]
     },
     "execution_count": 152,
     "metadata": {},
     "output_type": "execute_result"
    }
   ],
   "source": [
    "x.values"
   ]
  },
  {
   "cell_type": "code",
   "execution_count": 153,
   "id": "298d22b4",
   "metadata": {},
   "outputs": [
    {
     "data": {
      "text/plain": [
       "['a', 'b', 'k']"
      ]
     },
     "execution_count": 153,
     "metadata": {},
     "output_type": "execute_result"
    }
   ],
   "source": [
    "x.keys"
   ]
  },
  {
   "cell_type": "code",
   "execution_count": 154,
   "id": "b626b605",
   "metadata": {},
   "outputs": [],
   "source": [
    "x._get_value('z')"
   ]
  },
  {
   "cell_type": "code",
   "execution_count": null,
   "id": "b2154a47",
   "metadata": {},
   "outputs": [],
   "source": []
  }
 ],
 "metadata": {
  "kernelspec": {
   "display_name": "Python 3 (ipykernel)",
   "language": "python",
   "name": "python3"
  },
  "language_info": {
   "codemirror_mode": {
    "name": "ipython",
    "version": 3
   },
   "file_extension": ".py",
   "mimetype": "text/x-python",
   "name": "python",
   "nbconvert_exporter": "python",
   "pygments_lexer": "ipython3",
   "version": "3.9.12"
  }
 },
 "nbformat": 4,
 "nbformat_minor": 5
}
